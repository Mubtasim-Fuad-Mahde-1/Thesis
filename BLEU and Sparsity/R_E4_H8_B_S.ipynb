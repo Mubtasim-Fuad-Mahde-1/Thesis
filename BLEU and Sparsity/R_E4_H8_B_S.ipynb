{
  "cells": [
    {
      "cell_type": "markdown",
      "metadata": {
        "id": "bmN6z26df2Sh"
      },
      "source": [
        "#Environment Setup"
      ]
    },
    {
      "cell_type": "code",
      "execution_count": null,
      "metadata": {
        "colab": {
          "base_uri": "https://localhost:8080/"
        },
        "id": "x5s0BYkhgACa",
        "outputId": "99e827dc-2956-4aa2-9628-57238037749b"
      },
      "outputs": [
        {
          "output_type": "stream",
          "name": "stdout",
          "text": [
            "Found existing installation: tensorflow 2.17.1\n",
            "Uninstalling tensorflow-2.17.1:\n",
            "  Successfully uninstalled tensorflow-2.17.1\n",
            "Found existing installation: keras 3.5.0\n",
            "Uninstalling keras-3.5.0:\n",
            "  Successfully uninstalled keras-3.5.0\n",
            "\u001b[33mWARNING: Skipping tensorflow-estimator as it is not installed.\u001b[0m\u001b[33m\n",
            "\u001b[0m\u001b[33mWARNING: Skipping tensorflow-text as it is not installed.\u001b[0m\u001b[33m\n",
            "\u001b[0mCollecting tensorflow==2.17.0\n",
            "  Downloading tensorflow-2.17.0-cp311-cp311-manylinux_2_17_x86_64.manylinux2014_x86_64.whl.metadata (4.2 kB)\n",
            "Collecting tensorflow-text==2.17.0\n",
            "  Downloading tensorflow_text-2.17.0-cp311-cp311-manylinux_2_17_x86_64.manylinux2014_x86_64.whl.metadata (1.8 kB)\n",
            "Requirement already satisfied: absl-py>=1.0.0 in /usr/local/lib/python3.11/dist-packages (from tensorflow==2.17.0) (1.4.0)\n",
            "Requirement already satisfied: astunparse>=1.6.0 in /usr/local/lib/python3.11/dist-packages (from tensorflow==2.17.0) (1.6.3)\n",
            "Requirement already satisfied: flatbuffers>=24.3.25 in /usr/local/lib/python3.11/dist-packages (from tensorflow==2.17.0) (24.12.23)\n",
            "Requirement already satisfied: gast!=0.5.0,!=0.5.1,!=0.5.2,>=0.2.1 in /usr/local/lib/python3.11/dist-packages (from tensorflow==2.17.0) (0.6.0)\n",
            "Requirement already satisfied: google-pasta>=0.1.1 in /usr/local/lib/python3.11/dist-packages (from tensorflow==2.17.0) (0.2.0)\n",
            "Requirement already satisfied: h5py>=3.10.0 in /usr/local/lib/python3.11/dist-packages (from tensorflow==2.17.0) (3.12.1)\n",
            "Requirement already satisfied: libclang>=13.0.0 in /usr/local/lib/python3.11/dist-packages (from tensorflow==2.17.0) (18.1.1)\n",
            "Requirement already satisfied: ml-dtypes<0.5.0,>=0.3.1 in /usr/local/lib/python3.11/dist-packages (from tensorflow==2.17.0) (0.4.1)\n",
            "Requirement already satisfied: opt-einsum>=2.3.2 in /usr/local/lib/python3.11/dist-packages (from tensorflow==2.17.0) (3.4.0)\n",
            "Requirement already satisfied: packaging in /usr/local/lib/python3.11/dist-packages (from tensorflow==2.17.0) (24.2)\n",
            "Requirement already satisfied: protobuf!=4.21.0,!=4.21.1,!=4.21.2,!=4.21.3,!=4.21.4,!=4.21.5,<5.0.0dev,>=3.20.3 in /usr/local/lib/python3.11/dist-packages (from tensorflow==2.17.0) (4.25.5)\n",
            "Requirement already satisfied: requests<3,>=2.21.0 in /usr/local/lib/python3.11/dist-packages (from tensorflow==2.17.0) (2.32.3)\n",
            "Requirement already satisfied: setuptools in /usr/local/lib/python3.11/dist-packages (from tensorflow==2.17.0) (75.1.0)\n",
            "Requirement already satisfied: six>=1.12.0 in /usr/local/lib/python3.11/dist-packages (from tensorflow==2.17.0) (1.17.0)\n",
            "Requirement already satisfied: termcolor>=1.1.0 in /usr/local/lib/python3.11/dist-packages (from tensorflow==2.17.0) (2.5.0)\n",
            "Requirement already satisfied: typing-extensions>=3.6.6 in /usr/local/lib/python3.11/dist-packages (from tensorflow==2.17.0) (4.12.2)\n",
            "Requirement already satisfied: wrapt>=1.11.0 in /usr/local/lib/python3.11/dist-packages (from tensorflow==2.17.0) (1.17.0)\n",
            "Requirement already satisfied: grpcio<2.0,>=1.24.3 in /usr/local/lib/python3.11/dist-packages (from tensorflow==2.17.0) (1.69.0)\n",
            "Requirement already satisfied: tensorboard<2.18,>=2.17 in /usr/local/lib/python3.11/dist-packages (from tensorflow==2.17.0) (2.17.1)\n",
            "Collecting keras>=3.2.0 (from tensorflow==2.17.0)\n",
            "  Downloading keras-3.8.0-py3-none-any.whl.metadata (5.8 kB)\n",
            "Requirement already satisfied: tensorflow-io-gcs-filesystem>=0.23.1 in /usr/local/lib/python3.11/dist-packages (from tensorflow==2.17.0) (0.37.1)\n",
            "Requirement already satisfied: numpy<2.0.0,>=1.23.5 in /usr/local/lib/python3.11/dist-packages (from tensorflow==2.17.0) (1.26.4)\n",
            "Requirement already satisfied: wheel<1.0,>=0.23.0 in /usr/local/lib/python3.11/dist-packages (from astunparse>=1.6.0->tensorflow==2.17.0) (0.45.1)\n",
            "Requirement already satisfied: rich in /usr/local/lib/python3.11/dist-packages (from keras>=3.2.0->tensorflow==2.17.0) (13.9.4)\n",
            "Requirement already satisfied: namex in /usr/local/lib/python3.11/dist-packages (from keras>=3.2.0->tensorflow==2.17.0) (0.0.8)\n",
            "Requirement already satisfied: optree in /usr/local/lib/python3.11/dist-packages (from keras>=3.2.0->tensorflow==2.17.0) (0.13.1)\n",
            "Requirement already satisfied: charset-normalizer<4,>=2 in /usr/local/lib/python3.11/dist-packages (from requests<3,>=2.21.0->tensorflow==2.17.0) (3.4.1)\n",
            "Requirement already satisfied: idna<4,>=2.5 in /usr/local/lib/python3.11/dist-packages (from requests<3,>=2.21.0->tensorflow==2.17.0) (3.10)\n",
            "Requirement already satisfied: urllib3<3,>=1.21.1 in /usr/local/lib/python3.11/dist-packages (from requests<3,>=2.21.0->tensorflow==2.17.0) (2.3.0)\n",
            "Requirement already satisfied: certifi>=2017.4.17 in /usr/local/lib/python3.11/dist-packages (from requests<3,>=2.21.0->tensorflow==2.17.0) (2024.12.14)\n",
            "Requirement already satisfied: markdown>=2.6.8 in /usr/local/lib/python3.11/dist-packages (from tensorboard<2.18,>=2.17->tensorflow==2.17.0) (3.7)\n",
            "Requirement already satisfied: tensorboard-data-server<0.8.0,>=0.7.0 in /usr/local/lib/python3.11/dist-packages (from tensorboard<2.18,>=2.17->tensorflow==2.17.0) (0.7.2)\n",
            "Requirement already satisfied: werkzeug>=1.0.1 in /usr/local/lib/python3.11/dist-packages (from tensorboard<2.18,>=2.17->tensorflow==2.17.0) (3.1.3)\n",
            "Requirement already satisfied: MarkupSafe>=2.1.1 in /usr/local/lib/python3.11/dist-packages (from werkzeug>=1.0.1->tensorboard<2.18,>=2.17->tensorflow==2.17.0) (3.0.2)\n",
            "Requirement already satisfied: markdown-it-py>=2.2.0 in /usr/local/lib/python3.11/dist-packages (from rich->keras>=3.2.0->tensorflow==2.17.0) (3.0.0)\n",
            "Requirement already satisfied: pygments<3.0.0,>=2.13.0 in /usr/local/lib/python3.11/dist-packages (from rich->keras>=3.2.0->tensorflow==2.17.0) (2.18.0)\n",
            "Requirement already satisfied: mdurl~=0.1 in /usr/local/lib/python3.11/dist-packages (from markdown-it-py>=2.2.0->rich->keras>=3.2.0->tensorflow==2.17.0) (0.1.2)\n",
            "Downloading tensorflow-2.17.0-cp311-cp311-manylinux_2_17_x86_64.manylinux2014_x86_64.whl (601.3 MB)\n",
            "\u001b[2K   \u001b[90m━━━━━━━━━━━━━━━━━━━━━━━━━━━━━━━━━━━━━━━━\u001b[0m \u001b[32m601.3/601.3 MB\u001b[0m \u001b[31m1.8 MB/s\u001b[0m eta \u001b[36m0:00:00\u001b[0m\n",
            "\u001b[?25hDownloading tensorflow_text-2.17.0-cp311-cp311-manylinux_2_17_x86_64.manylinux2014_x86_64.whl (5.2 MB)\n",
            "\u001b[2K   \u001b[90m━━━━━━━━━━━━━━━━━━━━━━━━━━━━━━━━━━━━━━━━\u001b[0m \u001b[32m5.2/5.2 MB\u001b[0m \u001b[31m45.7 MB/s\u001b[0m eta \u001b[36m0:00:00\u001b[0m\n",
            "\u001b[?25hDownloading keras-3.8.0-py3-none-any.whl (1.3 MB)\n",
            "\u001b[2K   \u001b[90m━━━━━━━━━━━━━━━━━━━━━━━━━━━━━━━━━━━━━━━━\u001b[0m \u001b[32m1.3/1.3 MB\u001b[0m \u001b[31m66.7 MB/s\u001b[0m eta \u001b[36m0:00:00\u001b[0m\n",
            "\u001b[?25hInstalling collected packages: keras, tensorflow, tensorflow-text\n",
            "Successfully installed keras-3.8.0 tensorflow-2.17.0 tensorflow-text-2.17.0\n",
            "Collecting protobuf~=3.20.3\n",
            "  Downloading protobuf-3.20.3-py2.py3-none-any.whl.metadata (720 bytes)\n",
            "Downloading protobuf-3.20.3-py2.py3-none-any.whl (162 kB)\n",
            "\u001b[2K   \u001b[90m━━━━━━━━━━━━━━━━━━━━━━━━━━━━━━━━━━━━━━━━\u001b[0m \u001b[32m162.1/162.1 kB\u001b[0m \u001b[31m5.5 MB/s\u001b[0m eta \u001b[36m0:00:00\u001b[0m\n",
            "\u001b[?25hInstalling collected packages: protobuf\n",
            "  Attempting uninstall: protobuf\n",
            "    Found existing installation: protobuf 4.25.5\n",
            "    Uninstalling protobuf-4.25.5:\n",
            "      Successfully uninstalled protobuf-4.25.5\n",
            "\u001b[31mERROR: pip's dependency resolver does not currently take into account all the packages that are installed. This behaviour is the source of the following dependency conflicts.\n",
            "tensorflow-metadata 1.16.1 requires protobuf<6.0.0dev,>=4.25.2; python_version >= \"3.11\", but you have protobuf 3.20.3 which is incompatible.\n",
            "grpcio-status 1.62.3 requires protobuf>=4.21.6, but you have protobuf 3.20.3 which is incompatible.\u001b[0m\u001b[31m\n",
            "\u001b[0mSuccessfully installed protobuf-3.20.3\n"
          ]
        },
        {
          "output_type": "display_data",
          "data": {
            "application/vnd.colab-display-data+json": {
              "pip_warning": {
                "packages": [
                  "google"
                ]
              },
              "id": "2ec99ae2a8d246179d6c0cbcb517bd26"
            }
          },
          "metadata": {}
        },
        {
          "output_type": "stream",
          "name": "stdout",
          "text": [
            "\u001b[?25l   \u001b[90m━━━━━━━━━━━━━━━━━━━━━━━━━━━━━━━━━━━━━━━━\u001b[0m \u001b[32m0.0/319.7 kB\u001b[0m \u001b[31m?\u001b[0m eta \u001b[36m-:--:--\u001b[0m\r\u001b[2K   \u001b[91m━━━━━━━━━━━━━━━━━━━━━━━━━━━━━━━━━━━━━━━\u001b[0m\u001b[91m╸\u001b[0m \u001b[32m317.4/319.7 kB\u001b[0m \u001b[31m9.8 MB/s\u001b[0m eta \u001b[36m0:00:01\u001b[0m\r\u001b[2K   \u001b[90m━━━━━━━━━━━━━━━━━━━━━━━━━━━━━━━━━━━━━━━━\u001b[0m \u001b[32m319.7/319.7 kB\u001b[0m \u001b[31m7.4 MB/s\u001b[0m eta \u001b[36m0:00:00\u001b[0m\n",
            "\u001b[?25h\u001b[31mERROR: pip's dependency resolver does not currently take into account all the packages that are installed. This behaviour is the source of the following dependency conflicts.\n",
            "tensorflow 2.17.0 requires protobuf!=4.21.0,!=4.21.1,!=4.21.2,!=4.21.3,!=4.21.4,!=4.21.5,<5.0.0dev,>=3.20.3, but you have protobuf 5.29.3 which is incompatible.\u001b[0m\u001b[31m\n",
            "\u001b[0mRequirement already satisfied: nltk in /usr/local/lib/python3.11/dist-packages (3.9.1)\n",
            "Requirement already satisfied: click in /usr/local/lib/python3.11/dist-packages (from nltk) (8.1.8)\n",
            "Requirement already satisfied: joblib in /usr/local/lib/python3.11/dist-packages (from nltk) (1.4.2)\n",
            "Requirement already satisfied: regex>=2021.8.3 in /usr/local/lib/python3.11/dist-packages (from nltk) (2024.11.6)\n",
            "Requirement already satisfied: tqdm in /usr/local/lib/python3.11/dist-packages (from nltk) (4.67.1)\n",
            "Collecting sacrebleu\n",
            "  Downloading sacrebleu-2.5.1-py3-none-any.whl.metadata (51 kB)\n",
            "\u001b[2K     \u001b[90m━━━━━━━━━━━━━━━━━━━━━━━━━━━━━━━━━━━━━━━━\u001b[0m \u001b[32m51.8/51.8 kB\u001b[0m \u001b[31m3.7 MB/s\u001b[0m eta \u001b[36m0:00:00\u001b[0m\n",
            "\u001b[?25hCollecting portalocker (from sacrebleu)\n",
            "  Downloading portalocker-3.1.1-py3-none-any.whl.metadata (8.6 kB)\n",
            "Requirement already satisfied: regex in /usr/local/lib/python3.11/dist-packages (from sacrebleu) (2024.11.6)\n",
            "Requirement already satisfied: tabulate>=0.8.9 in /usr/local/lib/python3.11/dist-packages (from sacrebleu) (0.9.0)\n",
            "Requirement already satisfied: numpy>=1.17 in /usr/local/lib/python3.11/dist-packages (from sacrebleu) (1.26.4)\n",
            "Collecting colorama (from sacrebleu)\n",
            "  Downloading colorama-0.4.6-py2.py3-none-any.whl.metadata (17 kB)\n",
            "Requirement already satisfied: lxml in /usr/local/lib/python3.11/dist-packages (from sacrebleu) (5.3.0)\n",
            "Downloading sacrebleu-2.5.1-py3-none-any.whl (104 kB)\n",
            "\u001b[2K   \u001b[90m━━━━━━━━━━━━━━━━━━━━━━━━━━━━━━━━━━━━━━━━\u001b[0m \u001b[32m104.1/104.1 kB\u001b[0m \u001b[31m7.6 MB/s\u001b[0m eta \u001b[36m0:00:00\u001b[0m\n",
            "\u001b[?25hDownloading colorama-0.4.6-py2.py3-none-any.whl (25 kB)\n",
            "Downloading portalocker-3.1.1-py3-none-any.whl (19 kB)\n",
            "Installing collected packages: portalocker, colorama, sacrebleu\n",
            "Successfully installed colorama-0.4.6 portalocker-3.1.1 sacrebleu-2.5.1\n",
            "Collecting ipython-autotime\n",
            "  Downloading ipython_autotime-0.3.2-py2.py3-none-any.whl.metadata (1.4 kB)\n",
            "Requirement already satisfied: ipython in /usr/local/lib/python3.11/dist-packages (from ipython-autotime) (7.34.0)\n",
            "Requirement already satisfied: setuptools>=18.5 in /usr/local/lib/python3.11/dist-packages (from ipython->ipython-autotime) (75.1.0)\n",
            "Collecting jedi>=0.16 (from ipython->ipython-autotime)\n",
            "  Downloading jedi-0.19.2-py2.py3-none-any.whl.metadata (22 kB)\n",
            "Requirement already satisfied: decorator in /usr/local/lib/python3.11/dist-packages (from ipython->ipython-autotime) (4.4.2)\n",
            "Requirement already satisfied: pickleshare in /usr/local/lib/python3.11/dist-packages (from ipython->ipython-autotime) (0.7.5)\n",
            "Requirement already satisfied: traitlets>=4.2 in /usr/local/lib/python3.11/dist-packages (from ipython->ipython-autotime) (5.7.1)\n",
            "Requirement already satisfied: prompt-toolkit!=3.0.0,!=3.0.1,<3.1.0,>=2.0.0 in /usr/local/lib/python3.11/dist-packages (from ipython->ipython-autotime) (3.0.48)\n",
            "Requirement already satisfied: pygments in /usr/local/lib/python3.11/dist-packages (from ipython->ipython-autotime) (2.18.0)\n",
            "Requirement already satisfied: backcall in /usr/local/lib/python3.11/dist-packages (from ipython->ipython-autotime) (0.2.0)\n",
            "Requirement already satisfied: matplotlib-inline in /usr/local/lib/python3.11/dist-packages (from ipython->ipython-autotime) (0.1.7)\n",
            "Requirement already satisfied: pexpect>4.3 in /usr/local/lib/python3.11/dist-packages (from ipython->ipython-autotime) (4.9.0)\n",
            "Requirement already satisfied: parso<0.9.0,>=0.8.4 in /usr/local/lib/python3.11/dist-packages (from jedi>=0.16->ipython->ipython-autotime) (0.8.4)\n",
            "Requirement already satisfied: ptyprocess>=0.5 in /usr/local/lib/python3.11/dist-packages (from pexpect>4.3->ipython->ipython-autotime) (0.7.0)\n",
            "Requirement already satisfied: wcwidth in /usr/local/lib/python3.11/dist-packages (from prompt-toolkit!=3.0.0,!=3.0.1,<3.1.0,>=2.0.0->ipython->ipython-autotime) (0.2.13)\n",
            "Downloading ipython_autotime-0.3.2-py2.py3-none-any.whl (7.0 kB)\n",
            "Downloading jedi-0.19.2-py2.py3-none-any.whl (1.6 MB)\n",
            "\u001b[2K   \u001b[90m━━━━━━━━━━━━━━━━━━━━━━━━━━━━━━━━━━━━━━━━\u001b[0m \u001b[32m1.6/1.6 MB\u001b[0m \u001b[31m39.4 MB/s\u001b[0m eta \u001b[36m0:00:00\u001b[0m\n",
            "\u001b[?25hInstalling collected packages: jedi, ipython-autotime\n",
            "Successfully installed ipython-autotime-0.3.2 jedi-0.19.2\n",
            "Reading package lists... Done\n",
            "Building dependency tree... Done\n",
            "Reading state information... Done\n",
            "Package libcudnn8 is not available, but is referred to by another package.\n",
            "This may mean that the package is missing, has been obsoleted, or\n",
            "is only available from another source\n",
            "\n",
            "\u001b[1;31mE: \u001b[0mVersion '8.1.0.77-1+cuda11.2' for 'libcudnn8' was not found\u001b[0m\n",
            "time: 2.21 s (started: 2025-01-18 07:01:17 +00:00)\n"
          ]
        }
      ],
      "source": [
        "\n",
        "# Uninstall current TensorFlow, Keras, and other related packages\n",
        "!pip uninstall -y tensorflow keras tensorflow-estimator tensorflow-text\n",
        "\n",
        "# Install the specified TensorFlow version (2.17.0)\n",
        "!pip install tensorflow==2.17.0 tensorflow-text==2.17.0\n",
        "\n",
        "# Install other required dependencies\n",
        "!pip install protobuf~=3.20.3\n",
        "!pip install -q tensorflow_datasets\n",
        "!pip install nltk\n",
        "!pip install sacrebleu\n",
        "!pip install ipython-autotime\n",
        "\n",
        "# Load the autotime extension\n",
        "%load_ext autotime\n",
        "\n",
        "!apt install --allow-change-held-packages libcudnn8=8.1.0.77-1+cuda11.2"
      ]
    },
    {
      "cell_type": "code",
      "execution_count": null,
      "metadata": {
        "colab": {
          "base_uri": "https://localhost:8080/"
        },
        "id": "8wurEdSGn69y",
        "outputId": "16b3baf3-fbc7-4544-e5b1-e39ff8eac17c"
      },
      "outputs": [
        {
          "output_type": "stream",
          "name": "stdout",
          "text": [
            "Mounted at /content/drive\n",
            "time: 41.3 s (started: 2025-01-18 07:01:20 +00:00)\n"
          ]
        }
      ],
      "source": [
        "import logging\n",
        "import time\n",
        "import warnings\n",
        "import numpy as np\n",
        "import matplotlib.pyplot as plt\n",
        "import tensorflow_datasets as tfds\n",
        "import tensorflow as tf\n",
        "import tensorflow_text\n",
        "import collections\n",
        "import math\n",
        "import string\n",
        "import os\n",
        "import json\n",
        "import pickle\n",
        "import sacrebleu\n",
        "import zipfile\n",
        "from tensorflow.keras.callbacks import ModelCheckpoint, EarlyStopping\n",
        "from google.colab import drive, files\n",
        "import shutil\n",
        "import datetime\n",
        "drive.mount('/content/drive')\n",
        "warnings.filterwarnings(\"ignore\")"
      ]
    },
    {
      "cell_type": "markdown",
      "metadata": {
        "id": "ABf2SRUOh68M"
      },
      "source": [
        "#Load Data and Data Splitting"
      ]
    },
    {
      "cell_type": "code",
      "execution_count": null,
      "metadata": {
        "colab": {
          "base_uri": "https://localhost:8080/",
          "referenced_widgets": [
            "29455b54be1c44708fbe7c2cc1cb070b",
            "e7192023946c4d5aa47f71b381846296",
            "3f831139b33d487189d600ca05033865",
            "d812e5c1229a4966800a11a768fca491",
            "a33590d59135425284ca56903b9eb2b1",
            "7d2d1ede60dc452f95b518b050b1b1c5",
            "88a5427a16a4416685fd449216a118b6",
            "ca5065a36c9a4b9dbe17c37b96797349",
            "2613ec54cc7e43ba83d5f109e43e3f49",
            "7e30a7d754ad4862b24ff4e21be9025e",
            "589b21636741462eb472e9a68ae3d0aa",
            "a2fa933e3ba2434fb460b111b2eb257f",
            "226de780f46d4ad7bb1b6a290d5818d5",
            "2c0bd076dd9b4ec7b55009edac6cba42",
            "c90a93ab38a647a2bbef80338356c44a",
            "7db093ee194649059450665b8b2741df",
            "7b75fad59f0d4f0f8cfe74ed86bbc9c2",
            "83946f2c3a8b48ab9ae465816c3cb426",
            "8a4a4ae2c3764ca5ad1a26e268f765d7",
            "fb9a1e58e27943d386cfd4b759eed93c",
            "cb83c21290034ffea7cb0468e17c3cae",
            "5ffef839fc6149b586e9fc8a192da536",
            "4519cb4a9b4e442e9b9eb1a0c2dc4248",
            "3ea62aedc619419c9cf6656efd06d8b8",
            "2ceee4b074d7471e85d17f9a23857e55",
            "31419a7278c14d29a468dd1464934b43",
            "b860135bf2104a2bbe8d475eaad513a5",
            "6ea2d18a5d0d4142b0845bcf1431310c",
            "a81c4912bdfb4e148819b7a55e0fda45",
            "06f9eebf62be4a6eb7e960c01360d1b8",
            "eccddc323bbd4622a1d01ad7ce629ffd",
            "05b05c035a2b44598ae4a6b2a260dd83",
            "188aa86a52064bfd8e12ce2a1856c591",
            "b7351519a68f41818793e3a257130676",
            "60c78fd52e5f467e879bbaf2c4c5e5d6",
            "d8c4c0fc6110493b822d38a50126edcc",
            "28e493871a564c579206ab6c73b6009c",
            "2ab67887350741cb9363838ee7ee4d68",
            "26f7aa8e606e4093a71d3818f66c6b6f",
            "0b796db7ab064576ad5c78a0e485281b",
            "6f571da5f3bc435f87e45c33fca77508",
            "cfdab06ebeaf429ba1133beaa51fb119",
            "80922adb077c430b812c4683415ed9a7",
            "856be45938fc413dacfd03ab7160414d",
            "f5dbf471765b49fa82a815826856a1bd",
            "abc122d494264389bed268f0ea49ad1c",
            "e2f59be6d22341e48b4ed3806f60b4c2",
            "50a38dab53ec4869a49c2785936fb27d",
            "09e5a836134f480198442fc6ccdacad3",
            "a66b350ec9c3455dbbdf4cb4c2d56e09",
            "dbe919cf40ae4a2eab62be84688bcbc5",
            "bdef7bea84ad4296b074a57b3ee99395",
            "6928232744334bbfa4029af3b8c0127c",
            "366a5fc20a574b0daaafc9af1c626bfd",
            "d0edd9f21eb044edbd1374b7f6f496d9",
            "a7116ccc56dc4d2ea3e8e4f8ba2744ae",
            "fd4cc0952414476d8b8fe12953123b4e",
            "f7c94a3d88f0477cb06aae72227f5ac4",
            "91ffaabc5d6c471790c3553f0773facd",
            "5bf4ecd412d44096a0f5b7b121096616",
            "59884ee6a2eb4dd4a11de56f2ea4eccf",
            "5aa5c7a92ea5483b86ffd66fcc3e3bc8",
            "f963ce4aa60e49cfa0cf6eed0bb5d3f8",
            "54d47bb4dd9b402e853e321cb48872d8",
            "f8a9e510b3b14b179ad054748ca274c7",
            "34c53c0e8f8c4bfa9c6222bebebc728c",
            "6c5b79ac034e46409719e239ec50f559",
            "20cd2000339b498e9e13b0512667d496",
            "942b762f3e624067b9b8bac42ce88b40",
            "52262f5a95694b0693301b435bef3764",
            "27eef6c467ed45f0adf604d2f8b0e05e",
            "6b794cdaa0b74f8a8205d2126f5fcf93",
            "3c2d14985c844f9c8a67e07e2b90172e",
            "e6bdb43f343846a08a7d5c986f24c1ba",
            "de3945bd03014eacbdbfc222af188b7a",
            "ca0deda8491a4788aabbf4302cc139ff",
            "7f80cfaa325a42658aec55e53751c0d3",
            "6849391cb5034e77aa0d6f98ff9ef7bd",
            "bb82d590f54a4873915d50eeceb21974",
            "f43cf87db722435b9220dc1094230897",
            "0c6d572c808d484f854b511c77296bfd",
            "482209a2ae7d45248aed4dd4ed100c7d",
            "017af57c043844779c655fa2cc1353b4",
            "2cea735097fb48a4ac94610853c3c377",
            "c0908235949641cba46d7a59a660efac",
            "2aac51ec1e204b77abcf983b7d0b1501",
            "3b96c7c9b80c4061952524be1438fa05",
            "6b0d1096dbdb4381b9f78b5a703bd7c0",
            "14c0a155863947f8beed03f1ea0d7df3",
            "50d27b6d442c4867841011ac46e06335",
            "8b659abf5e674cdf8995155fa6a8dc7b",
            "6dc851c7e7854c4f9dead16cc93c8641",
            "ddfa1590132e41f894bd5f854c61c243",
            "ff4709b4722d47e7965e43ed0080f093",
            "e191dd8c69d64c74b8cc382d15b6ca1c",
            "a9a4d9a044304147a4681445eb0bbad4",
            "7c40df43589745099e9a6941a0dd838a",
            "00a9fa99bafe42d789ffc7969caf4009",
            "9a7766ef44f0467aa25be26cb73c4ed8",
            "422643abea7545cc85a97999a1c2009d",
            "bac33ca69b0d49c2bb3d5fe51cda6ba6",
            "fd57281d849e4e3a8d97ee18554a34be",
            "21f95a86d510486395406f32b8dfb529",
            "b1dfabf4d2bc45679c2418f764cb0403",
            "6cea3270b9cd4ae08883c63605c0dfca",
            "148a565f9b4c4b0cbdf6d6e060651d24",
            "a29265693db74757a44491f26ee29d00",
            "de1f7376464749e0bf91eee24de311ea",
            "7d3a89a4fb6c449ba4673fa879925215",
            "d3972303451543299cc7878878759519"
          ]
        },
        "id": "HmnMW97iiAEk",
        "outputId": "0ee53485-84c4-41f3-be5e-c7575a155368"
      },
      "outputs": [
        {
          "output_type": "stream",
          "name": "stdout",
          "text": [
            "Downloading and preparing dataset 124.94 MiB (download: 124.94 MiB, generated: Unknown size, total: 124.94 MiB) to /root/tensorflow_datasets/ted_hrlr_translate/pt_to_en/1.0.0...\n"
          ]
        },
        {
          "output_type": "display_data",
          "data": {
            "text/plain": [
              "Dl Completed...: 0 url [00:00, ? url/s]"
            ],
            "application/vnd.jupyter.widget-view+json": {
              "version_major": 2,
              "version_minor": 0,
              "model_id": "29455b54be1c44708fbe7c2cc1cb070b"
            }
          },
          "metadata": {}
        },
        {
          "output_type": "display_data",
          "data": {
            "text/plain": [
              "Dl Size...: 0 MiB [00:00, ? MiB/s]"
            ],
            "application/vnd.jupyter.widget-view+json": {
              "version_major": 2,
              "version_minor": 0,
              "model_id": "a2fa933e3ba2434fb460b111b2eb257f"
            }
          },
          "metadata": {}
        },
        {
          "output_type": "display_data",
          "data": {
            "text/plain": [
              "Extraction completed...: 0 file [00:00, ? file/s]"
            ],
            "application/vnd.jupyter.widget-view+json": {
              "version_major": 2,
              "version_minor": 0,
              "model_id": "4519cb4a9b4e442e9b9eb1a0c2dc4248"
            }
          },
          "metadata": {}
        },
        {
          "output_type": "display_data",
          "data": {
            "text/plain": [
              "Generating splits...:   0%|          | 0/3 [00:00<?, ? splits/s]"
            ],
            "application/vnd.jupyter.widget-view+json": {
              "version_major": 2,
              "version_minor": 0,
              "model_id": "b7351519a68f41818793e3a257130676"
            }
          },
          "metadata": {}
        },
        {
          "output_type": "display_data",
          "data": {
            "text/plain": [
              "Generating train examples...:   0%|          | 0/51785 [00:00<?, ? examples/s]"
            ],
            "application/vnd.jupyter.widget-view+json": {
              "version_major": 2,
              "version_minor": 0,
              "model_id": "f5dbf471765b49fa82a815826856a1bd"
            }
          },
          "metadata": {}
        },
        {
          "output_type": "display_data",
          "data": {
            "text/plain": [
              "Shuffling /root/tensorflow_datasets/ted_hrlr_translate/pt_to_en/incomplete.F1N8RN_1.0.0/ted_hrlr_translate-tra…"
            ],
            "application/vnd.jupyter.widget-view+json": {
              "version_major": 2,
              "version_minor": 0,
              "model_id": "a7116ccc56dc4d2ea3e8e4f8ba2744ae"
            }
          },
          "metadata": {}
        },
        {
          "output_type": "display_data",
          "data": {
            "text/plain": [
              "Generating validation examples...:   0%|          | 0/1193 [00:00<?, ? examples/s]"
            ],
            "application/vnd.jupyter.widget-view+json": {
              "version_major": 2,
              "version_minor": 0,
              "model_id": "6c5b79ac034e46409719e239ec50f559"
            }
          },
          "metadata": {}
        },
        {
          "output_type": "display_data",
          "data": {
            "text/plain": [
              "Shuffling /root/tensorflow_datasets/ted_hrlr_translate/pt_to_en/incomplete.F1N8RN_1.0.0/ted_hrlr_translate-val…"
            ],
            "application/vnd.jupyter.widget-view+json": {
              "version_major": 2,
              "version_minor": 0,
              "model_id": "6849391cb5034e77aa0d6f98ff9ef7bd"
            }
          },
          "metadata": {}
        },
        {
          "output_type": "display_data",
          "data": {
            "text/plain": [
              "Generating test examples...:   0%|          | 0/1803 [00:00<?, ? examples/s]"
            ],
            "application/vnd.jupyter.widget-view+json": {
              "version_major": 2,
              "version_minor": 0,
              "model_id": "14c0a155863947f8beed03f1ea0d7df3"
            }
          },
          "metadata": {}
        },
        {
          "output_type": "display_data",
          "data": {
            "text/plain": [
              "Shuffling /root/tensorflow_datasets/ted_hrlr_translate/pt_to_en/incomplete.F1N8RN_1.0.0/ted_hrlr_translate-tes…"
            ],
            "application/vnd.jupyter.widget-view+json": {
              "version_major": 2,
              "version_minor": 0,
              "model_id": "422643abea7545cc85a97999a1c2009d"
            }
          },
          "metadata": {}
        },
        {
          "output_type": "stream",
          "name": "stdout",
          "text": [
            "Dataset ted_hrlr_translate downloaded and prepared to /root/tensorflow_datasets/ted_hrlr_translate/pt_to_en/1.0.0. Subsequent calls will reuse this data.\n",
            "Total number of train examples: 51785\n",
            "Total number of train examples: 46448\n",
            "time: 23.9 s (started: 2025-01-18 07:02:01 +00:00)\n"
          ]
        }
      ],
      "source": [
        "examples, metadata = tfds.load('ted_hrlr_translate/pt_to_en',\n",
        "                               with_info=True,\n",
        "                               as_supervised=True)\n",
        "\n",
        "train_examples = examples['train']\n",
        "val_examples = examples['validation']\n",
        "\n",
        "def filter_long_sentences(pt_sentence, en_sentence):\n",
        "    pt_length = tf.shape(tf.strings.split(pt_sentence))[0]\n",
        "    en_length = tf.shape(tf.strings.split(en_sentence))[0]\n",
        "    return tf.logical_and(pt_length <= 35, en_length <= 35)\n",
        "\n",
        "\n",
        "total_length = train_examples.reduce(0, lambda x, _: x + 1)\n",
        "\n",
        "print(f\"Total number of train examples: {total_length.numpy()}\")\n",
        "\n",
        "train_examples = train_examples.filter(filter_long_sentences)\n",
        "val_examples = val_examples.filter(filter_long_sentences)\n",
        "\n",
        "total_length = train_examples.reduce(0, lambda x, _: x + 1)\n",
        "\n",
        "print(f\"Total number of train examples: {total_length.numpy()}\")"
      ]
    },
    {
      "cell_type": "markdown",
      "metadata": {
        "id": "cavnam5kjplO"
      },
      "source": [
        "# Subword Tokenizer"
      ]
    },
    {
      "cell_type": "code",
      "execution_count": null,
      "metadata": {
        "colab": {
          "base_uri": "https://localhost:8080/"
        },
        "id": "z4nxwOExjsEf",
        "outputId": "6a2b97b1-cce9-401c-9c65-d09098ce509c"
      },
      "outputs": [
        {
          "output_type": "stream",
          "name": "stdout",
          "text": [
            "Model and tokenizers loaded successfully.\n",
            "time: 5.33 s (started: 2025-01-18 07:02:25 +00:00)\n"
          ]
        }
      ],
      "source": [
        "model_name = 'ted_hrlr_translate_pt_en_converter'\n",
        "google_drive_path = '/content/drive/MyDrive/'\n",
        "zip_file_path = f'{google_drive_path}{model_name}.zip'\n",
        "extract_dir = \"/content/\"  # Define the directory to extract to\n",
        "\n",
        "\n",
        "# Load the tokenizers\n",
        "tokenizers = tf.saved_model.load('/content/drive/MyDrive/ted_hrlr_translate_pt_en_converter_extracted')\n",
        "\n",
        "print(\"Model and tokenizers loaded successfully.\")\n"
      ]
    },
    {
      "cell_type": "markdown",
      "metadata": {
        "id": "ZX3HF8cQke4V"
      },
      "source": [
        "# Create Batches"
      ]
    },
    {
      "cell_type": "code",
      "execution_count": null,
      "metadata": {
        "colab": {
          "base_uri": "https://localhost:8080/"
        },
        "id": "3F68n5ltkxRB",
        "outputId": "24ecb714-736c-4712-c6a7-e784d0579073"
      },
      "outputs": [
        {
          "output_type": "stream",
          "name": "stdout",
          "text": [
            "time: 429 µs (started: 2025-01-18 07:02:30 +00:00)\n"
          ]
        }
      ],
      "source": [
        "MAX_TOKENS= 64\n",
        "BUFFER_SIZE = 20000\n",
        "BATCH_SIZE = 128\n",
        "num_layers = 4\n",
        "d_model = 512\n",
        "dff = 2048\n",
        "num_heads = 8\n",
        "dropout_rate = 0.1"
      ]
    },
    {
      "cell_type": "code",
      "execution_count": null,
      "metadata": {
        "colab": {
          "base_uri": "https://localhost:8080/"
        },
        "id": "7Xa09qWKnQog",
        "outputId": "3e1114d4-12a8-4fbd-df08-0e7f4cd7eafa"
      },
      "outputs": [
        {
          "output_type": "stream",
          "name": "stdout",
          "text": [
            "time: 639 µs (started: 2025-01-18 07:02:30 +00:00)\n"
          ]
        }
      ],
      "source": [
        "def prepare_batch(pt, en):\n",
        "    pt = tokenizers.pt.tokenize(pt)\n",
        "    pt = pt[:, :MAX_TOKENS]  # Trim to MAX_TOKENS\n",
        "    pt = pt.to_tensor(shape=(None, MAX_TOKENS))  # Force padding to MAX_TOKENS\n",
        "\n",
        "    en = tokenizers.en.tokenize(en)\n",
        "    en = en[:, :(MAX_TOKENS + 1)]  # Allow for START/END tokens\n",
        "    en_inputs = en[:, :-1].to_tensor(shape=(None, MAX_TOKENS))  # Force padding to MAX_TOKENS\n",
        "    en_labels = en[:, 1:].to_tensor(shape=(None, MAX_TOKENS))  # Force padding to MAX_TOKENS\n",
        "\n",
        "    return (pt, en_inputs), en_labels\n",
        "\n",
        "\n",
        "def make_batches(ds):\n",
        "  return (\n",
        "      ds\n",
        "      .shuffle(BUFFER_SIZE)\n",
        "      .batch(BATCH_SIZE, drop_remainder = True)\n",
        "      .map(prepare_batch, tf.data.AUTOTUNE)\n",
        "      .prefetch(buffer_size=tf.data.AUTOTUNE))"
      ]
    },
    {
      "cell_type": "code",
      "execution_count": null,
      "metadata": {
        "colab": {
          "base_uri": "https://localhost:8080/"
        },
        "id": "1aqRbjUbnaVN",
        "outputId": "45a4ca6b-abba-4820-a67b-07a58b4b8831"
      },
      "outputs": [
        {
          "output_type": "stream",
          "name": "stdout",
          "text": [
            "(128, 64)\n",
            "(128, 64)\n",
            "(128, 64)\n",
            "time: 3.3 s (started: 2025-01-18 07:02:30 +00:00)\n"
          ]
        }
      ],
      "source": [
        "train_batches = make_batches(train_examples)\n",
        "val_batches = make_batches(val_examples)\n",
        "for (pt, en), en_labels in train_batches.take(1):\n",
        "  break\n",
        "\n",
        "print(pt.shape)\n",
        "print(en.shape)\n",
        "print(en_labels.shape)"
      ]
    },
    {
      "cell_type": "code",
      "execution_count": null,
      "metadata": {
        "colab": {
          "base_uri": "https://localhost:8080/"
        },
        "id": "Z5V-qfALS06j",
        "outputId": "43118055-1feb-4017-e5e0-c342451c439a"
      },
      "outputs": [
        {
          "output_type": "stream",
          "name": "stdout",
          "text": [
            "Maximum Portuguese length: 64\n",
            "Maximum English length: 64\n",
            "time: 6.71 s (started: 2025-01-18 07:02:33 +00:00)\n"
          ]
        }
      ],
      "source": [
        "max_pt_length = tf.constant(0, dtype=tf.int32)\n",
        "max_en_length = tf.constant(0, dtype=tf.int32)\n",
        "\n",
        "# Iterate through the batches to find max lengths\n",
        "for (pt, en), _ in train_batches:\n",
        "    # Update max lengths for Portuguese and English\n",
        "    max_pt_length = tf.maximum(max_pt_length, tf.reduce_max(tf.shape(pt)[1]))\n",
        "    max_en_length = tf.maximum(max_en_length, tf.reduce_max(tf.shape(en)[1]))\n",
        "\n",
        "print(f\"Maximum Portuguese length: {max_pt_length.numpy()}\")\n",
        "print(f\"Maximum English length: {max_en_length.numpy()}\")"
      ]
    },
    {
      "cell_type": "markdown",
      "metadata": {
        "id": "-RyjwmOSnkLA"
      },
      "source": [
        "# Positional Embedding"
      ]
    },
    {
      "cell_type": "code",
      "execution_count": null,
      "metadata": {
        "colab": {
          "base_uri": "https://localhost:8080/"
        },
        "id": "xvjI2gJjnmxD",
        "outputId": "49480bda-734a-4343-96bc-0a4158fbebbf"
      },
      "outputs": [
        {
          "output_type": "stream",
          "name": "stdout",
          "text": [
            "time: 977 µs (started: 2025-01-18 07:02:40 +00:00)\n"
          ]
        }
      ],
      "source": [
        "def positional_encoding(length, depth):\n",
        "  depth = depth/2\n",
        "\n",
        "  positions = np.arange(length)[:, np.newaxis]     # (seq, 1)\n",
        "  depths = np.arange(depth)[np.newaxis, :]/depth   # (1, depth)\n",
        "\n",
        "  angle_rates = 1 / (10000**depths)         # (1, depth)\n",
        "  angle_rads = positions * angle_rates      # (pos, depth)\n",
        "\n",
        "  pos_encoding = np.concatenate(\n",
        "      [np.sin(angle_rads), np.cos(angle_rads)],\n",
        "      axis=-1)\n",
        "\n",
        "  return tf.cast(pos_encoding, dtype=tf.float32)\n",
        "\n",
        "class PositionalEmbedding(tf.keras.layers.Layer):\n",
        "  def __init__(self, vocab_size, d_model):\n",
        "    super().__init__()\n",
        "    self.d_model = d_model\n",
        "    self.embedding = tf.keras.layers.Embedding(vocab_size, d_model, mask_zero=True)\n",
        "    self.pos_encoding = positional_encoding(length=2048, depth=d_model)\n",
        "\n",
        "  def compute_mask(self, *args, **kwargs):\n",
        "    return self.embedding.compute_mask(*args, **kwargs)\n",
        "\n",
        "  def call(self, x):\n",
        "    length = tf.shape(x)[1]\n",
        "    x = self.embedding(x)\n",
        "    # This factor sets the relative scale of the embedding and positonal_encoding.\n",
        "    x *= tf.math.sqrt(tf.cast(self.d_model, tf.float32))\n",
        "    x = x + self.pos_encoding[tf.newaxis, :length, :]\n",
        "    return x"
      ]
    },
    {
      "cell_type": "code",
      "execution_count": null,
      "metadata": {
        "colab": {
          "base_uri": "https://localhost:8080/"
        },
        "id": "JahVgTWDpccY",
        "outputId": "32db9633-0347-4818-d4c6-a34053b5c802"
      },
      "outputs": [
        {
          "output_type": "stream",
          "name": "stdout",
          "text": [
            "time: 1.93 s (started: 2025-01-18 07:02:40 +00:00)\n"
          ]
        }
      ],
      "source": [
        "embed_pt = PositionalEmbedding(vocab_size=tokenizers.pt.get_vocab_size().numpy(), d_model=512)\n",
        "embed_en = PositionalEmbedding(vocab_size=tokenizers.en.get_vocab_size().numpy(), d_model=512)\n",
        "\n",
        "pt_emb = embed_pt(pt)\n",
        "en_emb = embed_en(en)"
      ]
    },
    {
      "cell_type": "markdown",
      "metadata": {
        "id": "lML-3GP4qJ1f"
      },
      "source": [
        "# Multihead Attention (Transformer - Vanilla)"
      ]
    },
    {
      "cell_type": "code",
      "execution_count": null,
      "metadata": {
        "colab": {
          "base_uri": "https://localhost:8080/"
        },
        "id": "2V5Gx9fhqpus",
        "outputId": "fccf310e-33ef-4794-8cf3-9c79b93f5b7d"
      },
      "outputs": [
        {
          "output_type": "stream",
          "name": "stdout",
          "text": [
            "time: 5.88 ms (started: 2025-01-18 07:02:42 +00:00)\n"
          ]
        }
      ],
      "source": [
        "from keras.src import backend\n",
        "from keras.src import constraints\n",
        "from keras.src import initializers\n",
        "from keras.src import ops\n",
        "from keras.src import regularizers\n",
        "from keras.src.api_export import keras_export\n",
        "from keras.src.layers.activations.softmax import Softmax\n",
        "from keras.src.layers.core.einsum_dense import EinsumDense\n",
        "from keras.src.layers.layer import Layer\n",
        "from keras.src.layers.regularization.dropout import Dropout\n",
        "\n",
        "\n",
        "@keras_export(\"keras.layers.MultiHeadAttention\")\n",
        "class MultiHeadAttention(Layer):\n",
        "\n",
        "    def __init__(\n",
        "        self,\n",
        "        num_heads,\n",
        "        key_dim,\n",
        "        value_dim=None,\n",
        "        dropout=0.0,\n",
        "        use_bias=True,\n",
        "        output_shape=None,\n",
        "        attention_axes=None,\n",
        "        kernel_initializer=\"glorot_uniform\",\n",
        "        bias_initializer=\"zeros\",\n",
        "        kernel_regularizer=None,\n",
        "        bias_regularizer=None,\n",
        "        activity_regularizer=None,\n",
        "        kernel_constraint=None,\n",
        "        bias_constraint=None,\n",
        "        **kwargs,\n",
        "    ):\n",
        "        super().__init__(**kwargs)\n",
        "        self.supports_masking = True\n",
        "        self._num_heads = num_heads\n",
        "        self._key_dim = key_dim\n",
        "        # Cache 1.0 / math.sqrt(self._key_dim).\n",
        "        self._inverse_sqrt_key_dim = None\n",
        "        self._value_dim = value_dim if value_dim else key_dim\n",
        "        self._dropout = dropout\n",
        "        self._use_bias = use_bias\n",
        "        self._output_shape = output_shape\n",
        "        self._kernel_initializer = initializers.get(kernel_initializer)\n",
        "        self._bias_initializer = initializers.get(bias_initializer)\n",
        "        self._kernel_regularizer = regularizers.get(kernel_regularizer)\n",
        "        self._bias_regularizer = regularizers.get(bias_regularizer)\n",
        "        self._activity_regularizer = regularizers.get(activity_regularizer)\n",
        "        self._kernel_constraint = constraints.get(kernel_constraint)\n",
        "        self._bias_constraint = constraints.get(bias_constraint)\n",
        "        if isinstance(attention_axes, int):\n",
        "            attention_axes = (attention_axes,)\n",
        "        elif attention_axes and not isinstance(attention_axes, (list, tuple)):\n",
        "            raise ValueError(\n",
        "                \"`attention_axes` must be an int, list, or tuple.\"\n",
        "                f\"Received: attention_axes={attention_axes}\"\n",
        "            )\n",
        "        self._attention_axes = attention_axes\n",
        "\n",
        "    @property\n",
        "    def num_heads(self):\n",
        "        return self._num_heads\n",
        "\n",
        "    @property\n",
        "    def key_dim(self):\n",
        "        return self._key_dim\n",
        "\n",
        "    @property\n",
        "    def value_dim(self):\n",
        "        return self._value_dim\n",
        "\n",
        "    @property\n",
        "    def dropout(self):\n",
        "        return self._dropout\n",
        "\n",
        "    @property\n",
        "    def use_bias(self):\n",
        "        return self._use_bias\n",
        "\n",
        "    @property\n",
        "    def output_shape(self):\n",
        "        return self._output_shape\n",
        "\n",
        "    @property\n",
        "    def attention_axes(self):\n",
        "        return self._attention_axes\n",
        "\n",
        "    def get_config(self):\n",
        "        base_config = super().get_config()\n",
        "        config = {\n",
        "            \"num_heads\": self._num_heads,\n",
        "            \"key_dim\": self._key_dim,\n",
        "            \"value_dim\": self._value_dim,\n",
        "            \"dropout\": self._dropout,\n",
        "            \"use_bias\": self._use_bias,\n",
        "            \"output_shape\": self._output_shape,\n",
        "            \"attention_axes\": self._attention_axes,\n",
        "            \"kernel_initializer\": initializers.serialize(\n",
        "                self._kernel_initializer\n",
        "            ),\n",
        "            \"bias_initializer\": initializers.serialize(self._bias_initializer),\n",
        "            \"kernel_regularizer\": regularizers.serialize(\n",
        "                self._kernel_regularizer\n",
        "            ),\n",
        "            \"bias_regularizer\": regularizers.serialize(self._bias_regularizer),\n",
        "            \"activity_regularizer\": regularizers.serialize(\n",
        "                self._activity_regularizer\n",
        "            ),\n",
        "            \"kernel_constraint\": constraints.serialize(self._kernel_constraint),\n",
        "            \"bias_constraint\": constraints.serialize(self._bias_constraint),\n",
        "        }\n",
        "        return {**base_config, **config}\n",
        "\n",
        "    def build(\n",
        "        self,\n",
        "        query_shape,\n",
        "        value_shape,\n",
        "        key_shape=None,\n",
        "    ):\n",
        "\n",
        "        key_shape = value_shape if key_shape is None else key_shape\n",
        "        query_rank = len(query_shape)\n",
        "        value_rank = len(value_shape)\n",
        "        key_rank = len(key_shape)\n",
        "        einsum_equation, bias_axes, output_rank = _build_proj_equation(\n",
        "            query_rank - 1, bound_dims=1, output_dims=2\n",
        "        )\n",
        "        self._query_dense = EinsumDense(\n",
        "            einsum_equation,\n",
        "            output_shape=_get_output_shape(\n",
        "                output_rank - 1, [self._num_heads, self._key_dim]\n",
        "            ),\n",
        "            bias_axes=bias_axes if self._use_bias else None,\n",
        "            name=\"query\",\n",
        "            **self._get_common_kwargs_for_sublayer(),\n",
        "        )\n",
        "        self._query_dense.build(query_shape)\n",
        "        einsum_equation, bias_axes, output_rank = _build_proj_equation(\n",
        "            key_rank - 1, bound_dims=1, output_dims=2\n",
        "        )\n",
        "        self._key_dense = EinsumDense(\n",
        "            einsum_equation,\n",
        "            output_shape=_get_output_shape(\n",
        "                output_rank - 1, [self._num_heads, self._key_dim]\n",
        "            ),\n",
        "            bias_axes=bias_axes if self._use_bias else None,\n",
        "            name=\"key\",\n",
        "            **self._get_common_kwargs_for_sublayer(),\n",
        "        )\n",
        "        self._key_dense.build(key_shape)\n",
        "        einsum_equation, bias_axes, output_rank = _build_proj_equation(\n",
        "            value_rank - 1, bound_dims=1, output_dims=2\n",
        "        )\n",
        "        self._value_dense = EinsumDense(\n",
        "            einsum_equation,\n",
        "            output_shape=_get_output_shape(\n",
        "                output_rank - 1, [self._num_heads, self._value_dim]\n",
        "            ),\n",
        "            bias_axes=bias_axes if self._use_bias else None,\n",
        "            name=\"value\",\n",
        "            **self._get_common_kwargs_for_sublayer(),\n",
        "        )\n",
        "        self._value_dense.build(value_shape)\n",
        "        self._build_attention(output_rank)\n",
        "        self._output_dense = self._make_output_dense(\n",
        "            query_shape,\n",
        "            self._get_common_kwargs_for_sublayer(),\n",
        "            \"attention_output\",\n",
        "        )\n",
        "        output_dense_input_shape = list(\n",
        "            self._query_dense.compute_output_shape(query_shape)\n",
        "        )\n",
        "        output_dense_input_shape[-1] = self._value_dim\n",
        "        self._output_dense.build(tuple(output_dense_input_shape))\n",
        "        self.built = True\n",
        "\n",
        "    @property\n",
        "    def query_dense(self):\n",
        "        return self._query_dense\n",
        "\n",
        "    @property\n",
        "    def key_dense(self):\n",
        "        return self._key_dense\n",
        "\n",
        "    @property\n",
        "    def value_dense(self):\n",
        "        return self._value_dense\n",
        "\n",
        "    @property\n",
        "    def output_dense(self):\n",
        "        return self._output_dense\n",
        "\n",
        "    def _get_common_kwargs_for_sublayer(self):\n",
        "        common_kwargs = dict(\n",
        "            kernel_regularizer=self._kernel_regularizer,\n",
        "            bias_regularizer=self._bias_regularizer,\n",
        "            activity_regularizer=self._activity_regularizer,\n",
        "            kernel_constraint=self._kernel_constraint,\n",
        "            bias_constraint=self._bias_constraint,\n",
        "            dtype=self.dtype_policy,\n",
        "        )\n",
        "        kernel_initializer = self._kernel_initializer.__class__.from_config(\n",
        "            self._kernel_initializer.get_config()\n",
        "        )\n",
        "        bias_initializer = self._bias_initializer.__class__.from_config(\n",
        "            self._bias_initializer.get_config()\n",
        "        )\n",
        "        common_kwargs[\"kernel_initializer\"] = kernel_initializer\n",
        "        common_kwargs[\"bias_initializer\"] = bias_initializer\n",
        "        return common_kwargs\n",
        "\n",
        "    def _make_output_dense(self, query_shape, common_kwargs, name=None):\n",
        "\n",
        "        query_rank = len(query_shape)\n",
        "        if self._output_shape:\n",
        "            if not isinstance(self._output_shape, collections.abc.Sized):\n",
        "                output_shape = [self._output_shape]\n",
        "            else:\n",
        "                output_shape = self._output_shape\n",
        "        else:\n",
        "            output_shape = [query_shape[-1]]\n",
        "        einsum_equation, bias_axes, output_rank = _build_proj_equation(\n",
        "            query_rank - 1, bound_dims=2, output_dims=len(output_shape)\n",
        "        )\n",
        "        return EinsumDense(\n",
        "            einsum_equation,\n",
        "            output_shape=_get_output_shape(output_rank - 1, output_shape),\n",
        "            bias_axes=bias_axes if self._use_bias else None,\n",
        "            name=name,\n",
        "            **common_kwargs,\n",
        "        )\n",
        "\n",
        "    def _build_attention(self, rank):\n",
        "        if self._attention_axes is None:\n",
        "            self._attention_axes = tuple(range(1, rank - 2))\n",
        "        else:\n",
        "            self._attention_axes = tuple(self._attention_axes)\n",
        "        (\n",
        "            self._dot_product_equation,\n",
        "            self._combine_equation,\n",
        "            attn_scores_rank,\n",
        "        ) = _build_attention_equation(rank, attn_axes=self._attention_axes)\n",
        "        norm_axes = tuple(\n",
        "            range(\n",
        "                attn_scores_rank - len(self._attention_axes), attn_scores_rank\n",
        "            )\n",
        "        )\n",
        "        self._softmax = Softmax(axis=norm_axes, dtype=self.dtype_policy)\n",
        "        self._dropout_layer = Dropout(\n",
        "            rate=self._dropout, dtype=self.dtype_policy\n",
        "        )\n",
        "        self._inverse_sqrt_key_dim = 1.0 / math.sqrt(float(self._key_dim))\n",
        "\n",
        "    def _masked_softmax(self, attention_scores, attention_mask=None):\n",
        "\n",
        "        if attention_mask is not None:\n",
        "            mask_expansion_axis = -len(self._attention_axes) * 2 - 1\n",
        "            for _ in range(\n",
        "                len(attention_scores.shape) - len(attention_mask.shape)\n",
        "            ):\n",
        "                attention_mask = ops.expand_dims(\n",
        "                    attention_mask, axis=mask_expansion_axis\n",
        "                )\n",
        "        return self._softmax(attention_scores, mask=attention_mask)\n",
        "\n",
        "    def _compute_attention(\n",
        "            self, query, key, value, attention_mask=None, training=None, p_att_score = None\n",
        "        ):\n",
        "\n",
        "            query = ops.multiply(\n",
        "                query, ops.cast(self._inverse_sqrt_key_dim, query.dtype)\n",
        "            )\n",
        "\n",
        "            # Take the dot product between \"query\" and \"key\" to get the raw\n",
        "            # attention scores.\n",
        "            attention_scores = ops.einsum(self._dot_product_equation, key, query)\n",
        "\n",
        "            if p_att_score is not None:\n",
        "                attention_scores = attention_scores + p_att_score\n",
        "                p_att_score = attention_scores\n",
        "            else:\n",
        "                p_att_score = attention_scores\n",
        "\n",
        "            attention_scores = self._masked_softmax(\n",
        "                attention_scores, attention_mask\n",
        "            )\n",
        "\n",
        "            # This is actually dropping out entire tokens to attend to, which might\n",
        "            # seem a bit unusual, but is taken from the original Transformer paper.\n",
        "            if self.dropout:\n",
        "                final_attn_scores = self._dropout_layer(\n",
        "                    attention_scores, training=training\n",
        "                )\n",
        "            else:\n",
        "                final_attn_scores = attention_scores\n",
        "\n",
        "            # `context_layer` = [B, T, N, H]\n",
        "            attention_output = ops.einsum(\n",
        "                self._combine_equation, final_attn_scores, value\n",
        "            )\n",
        "            return attention_output, attention_scores, p_att_score\n",
        "\n",
        "    def call(\n",
        "        self,\n",
        "        query,\n",
        "        value,\n",
        "        key=None,\n",
        "        query_mask=None,\n",
        "        value_mask=None,\n",
        "        key_mask=None,\n",
        "        attention_mask=None,\n",
        "        return_attention_scores=False,\n",
        "        training=None,\n",
        "        use_causal_mask=False,\n",
        "        p_att_score = None\n",
        "    ):\n",
        "        if key is None:\n",
        "            key = value\n",
        "\n",
        "        attention_mask = self._compute_attention_mask(\n",
        "            query,\n",
        "            value,\n",
        "            query_mask=query_mask,\n",
        "            value_mask=value_mask,\n",
        "            key_mask=key_mask,\n",
        "            attention_mask=attention_mask,\n",
        "            use_causal_mask=use_causal_mask,\n",
        "        )\n",
        "\n",
        "        #   N = `num_attention_heads`\n",
        "        #   H = `size_per_head`\n",
        "        # `query` = [B, T, N ,H]\n",
        "        query = self._query_dense(query)\n",
        "\n",
        "        # `key` = [B, S, N, H]\n",
        "        key = self._key_dense(key)\n",
        "\n",
        "        # `value` = [B, S, N, H]\n",
        "        value = self._value_dense(value)\n",
        "\n",
        "        attention_output, attention_scores, p_att_score = self._compute_attention(\n",
        "            query, key, value, attention_mask, training, p_att_score\n",
        "        )\n",
        "        attention_output = self._output_dense(attention_output)\n",
        "\n",
        "        if return_attention_scores:\n",
        "            return attention_output, attention_scores, p_att_score\n",
        "        return attention_output, p_att_score\n",
        "\n",
        "    def _compute_attention_mask(\n",
        "        self,\n",
        "        query,\n",
        "        value,\n",
        "        query_mask=None,\n",
        "        value_mask=None,\n",
        "        key_mask=None,\n",
        "        attention_mask=None,\n",
        "        use_causal_mask=False,\n",
        "    ):\n",
        "        auto_mask = None\n",
        "        if query_mask is not None:\n",
        "            query_mask = ops.cast(query_mask, \"bool\")  # defensive casting\n",
        "            # B = batch size, T = max query length\n",
        "            auto_mask = ops.expand_dims(query_mask, -1)  # shape is [B, T, 1]\n",
        "        if value_mask is not None:\n",
        "            value_mask = ops.cast(value_mask, \"bool\")  # defensive casting\n",
        "            # B = batch size, S == max value length\n",
        "            mask = ops.expand_dims(value_mask, -2)  # shape is [B, 1, S]\n",
        "            auto_mask = mask if auto_mask is None else auto_mask & mask\n",
        "        if key_mask is not None:\n",
        "            key_mask = ops.cast(key_mask, \"bool\")  # defensive casting\n",
        "            # B == batch size, S == max key length == max value length\n",
        "            mask = ops.expand_dims(key_mask, -2)  # shape is [B, 1, S]\n",
        "            auto_mask = mask if auto_mask is None else auto_mask & mask\n",
        "        if use_causal_mask:\n",
        "            # the shape of the causal mask is [1, T, S]\n",
        "            mask = self._compute_causal_mask(query, value)\n",
        "            auto_mask = mask if auto_mask is None else auto_mask & mask\n",
        "        if auto_mask is not None:\n",
        "            # merge attention_mask & automatic mask, to shape [B, T, S]\n",
        "            attention_mask = (\n",
        "                auto_mask\n",
        "                if attention_mask is None\n",
        "                else ops.cast(attention_mask, bool) & auto_mask\n",
        "            )\n",
        "        return attention_mask\n",
        "\n",
        "    def _compute_causal_mask(self, query, value=None):\n",
        "\n",
        "        q_seq_length = ops.shape(query)[1]\n",
        "        v_seq_length = q_seq_length if value is None else ops.shape(value)[1]\n",
        "        ones_mask = ops.ones((1, q_seq_length, v_seq_length), dtype=\"int32\")\n",
        "        row_index = ops.cumsum(ones_mask, axis=-2)\n",
        "        col_index = ops.cumsum(ones_mask, axis=-1)\n",
        "        return ops.greater_equal(row_index, col_index)\n",
        "\n",
        "    def compute_output_shape(\n",
        "        self,\n",
        "        query_shape,\n",
        "        value_shape,\n",
        "        key_shape=None,\n",
        "    ):\n",
        "        if key_shape is None:\n",
        "            key_shape = value_shape\n",
        "\n",
        "        if query_shape[-1] != value_shape[-1]:\n",
        "            raise ValueError(\n",
        "                \"The last dimension of `query_shape` and `value_shape` \"\n",
        "                f\"must be equal, but are {query_shape[-1]}, {value_shape[-1]}. \"\n",
        "                \"Received: query_shape={query_shape}, value_shape={value_shape}\"\n",
        "            )\n",
        "\n",
        "        if value_shape[1:-1] != key_shape[1:-1]:\n",
        "            raise ValueError(\n",
        "                \"All dimensions of `value` and `key`, except the last one, \"\n",
        "                f\"must be equal. Received: value_shape={value_shape} and \"\n",
        "                f\"key_shape={key_shape}\"\n",
        "            )\n",
        "\n",
        "        if self._output_shape:\n",
        "            return query_shape[:-1] + self._output_shape\n",
        "\n",
        "        return query_shape\n",
        "\n",
        "    def compute_output_spec(\n",
        "        self,\n",
        "        query,\n",
        "        value,\n",
        "        key=None,\n",
        "        query_mask=None,\n",
        "        value_mask=None,\n",
        "        key_mask=None,\n",
        "        attention_mask=None,\n",
        "        return_attention_scores=False,\n",
        "        training=None,\n",
        "        use_causal_mask=False,\n",
        "    ):\n",
        "        if key is not None:\n",
        "            key_shape = key.shape\n",
        "        else:\n",
        "            key_shape = None\n",
        "        output_shape = self.compute_output_shape(\n",
        "            query.shape, value.shape, key_shape\n",
        "        )\n",
        "        output_spec = backend.KerasTensor(\n",
        "            output_shape, dtype=self.compute_dtype\n",
        "        )\n",
        "        if return_attention_scores:\n",
        "            length = query.shape[1]\n",
        "            attention_shape = (query.shape[0], self.num_heads, length, length)\n",
        "            return output_spec, backend.KerasTensor(\n",
        "                attention_shape, dtype=self.compute_dtype\n",
        "            )\n",
        "        return output_spec\n",
        "\n",
        "\n",
        "def _index_to_einsum_variable(i):\n",
        "    return string.ascii_lowercase[i]\n",
        "\n",
        "\n",
        "def _build_attention_equation(rank, attn_axes):\n",
        "    target_notation = \"\"\n",
        "    for i in range(rank):\n",
        "        target_notation += _index_to_einsum_variable(i)\n",
        "    # `batch_dims` includes the head dim.\n",
        "    batch_dims = tuple(np.delete(range(rank), attn_axes + (rank - 1,)))\n",
        "    letter_offset = rank\n",
        "    source_notation = \"\"\n",
        "    for i in range(rank):\n",
        "        if i in batch_dims or i == rank - 1:\n",
        "            source_notation += target_notation[i]\n",
        "        else:\n",
        "            source_notation += _index_to_einsum_variable(letter_offset)\n",
        "            letter_offset += 1\n",
        "\n",
        "    product_notation = \"\".join(\n",
        "        [target_notation[i] for i in batch_dims]\n",
        "        + [target_notation[i] for i in attn_axes]\n",
        "        + [source_notation[i] for i in attn_axes]\n",
        "    )\n",
        "    dot_product_equation = \"%s,%s->%s\" % (\n",
        "        source_notation,\n",
        "        target_notation,\n",
        "        product_notation,\n",
        "    )\n",
        "    attn_scores_rank = len(product_notation)\n",
        "    combine_equation = \"%s,%s->%s\" % (\n",
        "        product_notation,\n",
        "        source_notation,\n",
        "        target_notation,\n",
        "    )\n",
        "    return dot_product_equation, combine_equation, attn_scores_rank\n",
        "\n",
        "\n",
        "def _build_proj_equation(free_dims, bound_dims, output_dims):\n",
        "    \"\"\"Builds an einsum equation for projections inside multi-head attention.\"\"\"\n",
        "    input_str = \"\"\n",
        "    kernel_str = \"\"\n",
        "    output_str = \"\"\n",
        "    bias_axes = \"\"\n",
        "    letter_offset = 0\n",
        "    for i in range(free_dims):\n",
        "        char = _index_to_einsum_variable(i + letter_offset)\n",
        "        input_str += char\n",
        "        output_str += char\n",
        "\n",
        "    letter_offset += free_dims\n",
        "    for i in range(bound_dims):\n",
        "        char = _index_to_einsum_variable(i + letter_offset)\n",
        "        input_str += char\n",
        "        kernel_str += char\n",
        "\n",
        "    letter_offset += bound_dims\n",
        "    for i in range(output_dims):\n",
        "        char = _index_to_einsum_variable(i + letter_offset)\n",
        "        kernel_str += char\n",
        "        output_str += char\n",
        "        bias_axes += char\n",
        "    equation = f\"{input_str},{kernel_str}->{output_str}\"\n",
        "\n",
        "    return equation, bias_axes, len(output_str)\n",
        "\n",
        "\n",
        "def _get_output_shape(output_rank, known_last_dims):\n",
        "    return [None] * (output_rank - len(known_last_dims)) + list(known_last_dims)"
      ]
    },
    {
      "cell_type": "code",
      "execution_count": null,
      "metadata": {
        "colab": {
          "base_uri": "https://localhost:8080/"
        },
        "id": "7GFK-iVdq37r",
        "outputId": "1ac72d8f-6d3c-4f4d-e54a-7f7524689c39"
      },
      "outputs": [
        {
          "output_type": "stream",
          "name": "stdout",
          "text": [
            "time: 388 µs (started: 2025-01-18 07:02:42 +00:00)\n"
          ]
        }
      ],
      "source": [
        "class BaseAttention(tf.keras.layers.Layer):\n",
        "  def __init__(self, **kwargs):\n",
        "    super().__init__()\n",
        "    self.mha = MultiHeadAttention(**kwargs)\n",
        "    self.layernorm = tf.keras.layers.LayerNormalization()\n",
        "    self.add = tf.keras.layers.Add()"
      ]
    },
    {
      "cell_type": "code",
      "execution_count": null,
      "metadata": {
        "colab": {
          "base_uri": "https://localhost:8080/"
        },
        "id": "YDtofjrWq9Kx",
        "outputId": "3a581d36-bd03-4da1-98fe-214c4e202f4d"
      },
      "outputs": [
        {
          "output_type": "stream",
          "name": "stdout",
          "text": [
            "time: 420 µs (started: 2025-01-18 07:02:42 +00:00)\n"
          ]
        }
      ],
      "source": [
        "class CrossAttention(BaseAttention):\n",
        "  def call(self, x, context, p_att_score = None):\n",
        "    attn_output, attn_scores, p_att_score = self.mha(\n",
        "        query=x,\n",
        "        key=context,\n",
        "        value=context,\n",
        "        return_attention_scores=True,\n",
        "        p_att_score = p_att_score)\n",
        "\n",
        "    # Cache the attention scores for plotting later.\n",
        "    self.last_attn_scores = attn_scores\n",
        "\n",
        "    x = self.add([x, attn_output])\n",
        "    x = self.layernorm(x)\n",
        "\n",
        "    return x, p_att_score"
      ]
    },
    {
      "cell_type": "code",
      "execution_count": null,
      "metadata": {
        "colab": {
          "base_uri": "https://localhost:8080/"
        },
        "id": "kXf4UPUxrAix",
        "outputId": "f94976bd-f6f9-4164-934a-7990ed3f90a1"
      },
      "outputs": [
        {
          "output_type": "stream",
          "name": "stdout",
          "text": [
            "(128, 64, 512)\n",
            "(128, 64, 512)\n",
            "(128, 64, 512)\n",
            "(128, 2, 64, 64)\n",
            "time: 1.68 s (started: 2025-01-18 07:02:42 +00:00)\n"
          ]
        }
      ],
      "source": [
        "sample_ca = CrossAttention(num_heads=2, key_dim=512)\n",
        "\n",
        "print(pt_emb.shape)\n",
        "print(en_emb.shape)\n",
        "output, p_att_score = sample_ca(\n",
        "    pt_emb,\n",
        "    en_emb)\n",
        "print(output.shape)\n",
        "print(p_att_score.shape)"
      ]
    },
    {
      "cell_type": "code",
      "execution_count": null,
      "metadata": {
        "colab": {
          "base_uri": "https://localhost:8080/"
        },
        "id": "AedXz7ChsfYC",
        "outputId": "01b61e4f-0419-4d15-b360-359bf2e8688e"
      },
      "outputs": [
        {
          "output_type": "stream",
          "name": "stdout",
          "text": [
            "time: 475 µs (started: 2025-01-18 07:02:44 +00:00)\n"
          ]
        }
      ],
      "source": [
        "class GlobalSelfAttention(BaseAttention):\n",
        "  def call(self, x, p_att_score = None):\n",
        "    attn_output, p_att_score = self.mha(\n",
        "        query=x,\n",
        "        value=x,\n",
        "        key=x,\n",
        "        p_att_score = p_att_score)\n",
        "    x = self.add([x, attn_output])\n",
        "    x = self.layernorm(x)\n",
        "    return x, p_att_score"
      ]
    },
    {
      "cell_type": "code",
      "execution_count": null,
      "metadata": {
        "colab": {
          "base_uri": "https://localhost:8080/"
        },
        "id": "nmB4_ufvsf6l",
        "outputId": "d5f5a443-a1b7-4991-92d0-31448207f60a"
      },
      "outputs": [
        {
          "output_type": "stream",
          "name": "stdout",
          "text": [
            "(128, 64, 512)\n",
            "(128, 64, 512)\n",
            "(128, 2, 64, 64)\n",
            "time: 113 ms (started: 2025-01-18 07:02:44 +00:00)\n"
          ]
        }
      ],
      "source": [
        "sample_gsa = GlobalSelfAttention(num_heads=2, key_dim=512)\n",
        "\n",
        "print(pt_emb.shape)\n",
        "output, p_att_score = sample_gsa(pt_emb)\n",
        "print(output.shape)\n",
        "print(p_att_score.shape)"
      ]
    },
    {
      "cell_type": "code",
      "execution_count": null,
      "metadata": {
        "colab": {
          "base_uri": "https://localhost:8080/"
        },
        "id": "GMgdWreBsiYN",
        "outputId": "56575cc3-ffda-4b27-fee9-566839f8f77e"
      },
      "outputs": [
        {
          "output_type": "stream",
          "name": "stdout",
          "text": [
            "time: 470 µs (started: 2025-01-18 07:02:44 +00:00)\n"
          ]
        }
      ],
      "source": [
        "class CausalSelfAttention(BaseAttention):\n",
        "  def call(self, x, p_att_score = None):\n",
        "    attn_output, p_att_score = self.mha(\n",
        "        query=x,\n",
        "        value=x,\n",
        "        key=x,\n",
        "        use_causal_mask = True,\n",
        "        p_att_score = p_att_score)\n",
        "    x = self.add([x, attn_output])\n",
        "    x = self.layernorm(x)\n",
        "    return x, p_att_score"
      ]
    },
    {
      "cell_type": "code",
      "execution_count": null,
      "metadata": {
        "colab": {
          "base_uri": "https://localhost:8080/"
        },
        "id": "a49RJLL7sjbG",
        "outputId": "f193b95f-564a-4f01-d04c-b78eec674f77"
      },
      "outputs": [
        {
          "output_type": "stream",
          "name": "stdout",
          "text": [
            "(128, 64, 512)\n",
            "(128, 64, 512)\n",
            "(128, 2, 64, 64)\n",
            "time: 120 ms (started: 2025-01-18 07:02:44 +00:00)\n"
          ]
        }
      ],
      "source": [
        "sample_csa = CausalSelfAttention(num_heads=2, key_dim=512)\n",
        "\n",
        "print(en_emb.shape)\n",
        "output, p_att_score = sample_csa(en_emb)\n",
        "print(output.shape)\n",
        "print(p_att_score.shape)"
      ]
    },
    {
      "cell_type": "markdown",
      "metadata": {
        "id": "XbXg7x3Gsp5s"
      },
      "source": [
        "# Feed Forward Layer"
      ]
    },
    {
      "cell_type": "code",
      "execution_count": null,
      "metadata": {
        "colab": {
          "base_uri": "https://localhost:8080/"
        },
        "id": "DaK4zgw1stbk",
        "outputId": "db0cda2a-cd6a-47f1-e72a-adc2b8e66631"
      },
      "outputs": [
        {
          "output_type": "stream",
          "name": "stdout",
          "text": [
            "time: 623 µs (started: 2025-01-18 07:02:44 +00:00)\n"
          ]
        }
      ],
      "source": [
        "class FeedForward(tf.keras.layers.Layer):\n",
        "  def __init__(self, d_model, dff, dropout_rate=0.1):\n",
        "    super().__init__()\n",
        "    self.seq = tf.keras.Sequential([\n",
        "      tf.keras.layers.Dense(dff, activation='relu'),\n",
        "      tf.keras.layers.Dense(d_model),\n",
        "      tf.keras.layers.Dropout(dropout_rate)\n",
        "    ])\n",
        "    self.add = tf.keras.layers.Add()\n",
        "    self.layer_norm = tf.keras.layers.LayerNormalization()\n",
        "\n",
        "  def call(self, x):\n",
        "    x = self.add([x, self.seq(x)])\n",
        "    x = self.layer_norm(x)\n",
        "    return x"
      ]
    },
    {
      "cell_type": "code",
      "execution_count": null,
      "metadata": {
        "colab": {
          "base_uri": "https://localhost:8080/"
        },
        "id": "7-A0rvdisvvq",
        "outputId": "82a84e3c-3b63-4f42-e338-e52fa24be962"
      },
      "outputs": [
        {
          "output_type": "stream",
          "name": "stdout",
          "text": [
            "(128, 64, 512)\n",
            "(128, 64, 512)\n",
            "time: 165 ms (started: 2025-01-18 07:02:44 +00:00)\n"
          ]
        }
      ],
      "source": [
        "sample_ffn = FeedForward(512, 2048)\n",
        "\n",
        "print(en_emb.shape)\n",
        "print(sample_ffn(en_emb).shape) # `(batch_size, seq_len, d_model)`"
      ]
    },
    {
      "cell_type": "markdown",
      "metadata": {
        "id": "_cQLSdXJtZbc"
      },
      "source": [
        "# Encoder"
      ]
    },
    {
      "cell_type": "markdown",
      "metadata": {
        "id": "rpnmEhJ5ts1i"
      },
      "source": [
        "## Encoder Layer"
      ]
    },
    {
      "cell_type": "code",
      "execution_count": null,
      "metadata": {
        "colab": {
          "base_uri": "https://localhost:8080/"
        },
        "id": "LZw6P3NWthwl",
        "outputId": "135b2ebd-a542-43c8-bd87-e8163fc6a6af"
      },
      "outputs": [
        {
          "output_type": "stream",
          "name": "stdout",
          "text": [
            "time: 619 µs (started: 2025-01-18 07:02:44 +00:00)\n"
          ]
        }
      ],
      "source": [
        "class EncoderLayer(tf.keras.layers.Layer):\n",
        "  def __init__(self,*, d_model, num_heads, dff, dropout_rate=0.1):\n",
        "    super().__init__()\n",
        "\n",
        "    self.self_attention = GlobalSelfAttention(\n",
        "        num_heads=num_heads,\n",
        "        key_dim=d_model,\n",
        "        dropout=dropout_rate)\n",
        "\n",
        "    self.ffn = FeedForward(d_model, dff)\n",
        "\n",
        "  def call(self, x, p_att_score = None):\n",
        "    x, p_att_score = self.self_attention(x, p_att_score)\n",
        "    x = self.ffn(x)\n",
        "    return x, p_att_score"
      ]
    },
    {
      "cell_type": "code",
      "execution_count": null,
      "metadata": {
        "colab": {
          "base_uri": "https://localhost:8080/"
        },
        "id": "Er30cHx8tj_b",
        "outputId": "128e9d7e-777f-4287-dd58-444a472d62ef"
      },
      "outputs": [
        {
          "output_type": "stream",
          "name": "stdout",
          "text": [
            "(128, 64, 512)\n",
            "(128, 64, 512)\n",
            "(128, 8, 64, 64)\n",
            "time: 307 ms (started: 2025-01-18 07:02:44 +00:00)\n"
          ]
        }
      ],
      "source": [
        "sample_encoder_layer = EncoderLayer(d_model=512, num_heads=8, dff=2048)\n",
        "\n",
        "print(pt_emb.shape)\n",
        "output, p_att_score = sample_encoder_layer(pt_emb)\n",
        "print(output.shape)\n",
        "print(p_att_score.shape)"
      ]
    },
    {
      "cell_type": "markdown",
      "metadata": {
        "id": "J03VfN66tpG9"
      },
      "source": [
        "## Encoder Block"
      ]
    },
    {
      "cell_type": "code",
      "execution_count": null,
      "metadata": {
        "colab": {
          "base_uri": "https://localhost:8080/"
        },
        "id": "MWM7FbBRtzwH",
        "outputId": "4cd16d3f-90e1-4407-dce9-b89f383ac71d"
      },
      "outputs": [
        {
          "output_type": "stream",
          "name": "stdout",
          "text": [
            "time: 757 µs (started: 2025-01-18 07:02:45 +00:00)\n"
          ]
        }
      ],
      "source": [
        "class Encoder(tf.keras.layers.Layer):\n",
        "  def __init__(self, *, num_layers, d_model, num_heads,\n",
        "               dff, vocab_size, dropout_rate=0.1):\n",
        "    super().__init__()\n",
        "\n",
        "    self.d_model = d_model\n",
        "    self.num_layers = num_layers\n",
        "\n",
        "    self.pos_embedding = PositionalEmbedding(\n",
        "        vocab_size=vocab_size, d_model=d_model)\n",
        "\n",
        "    self.enc_layers = [\n",
        "        EncoderLayer(d_model=d_model,\n",
        "                     num_heads=num_heads,\n",
        "                     dff=dff,\n",
        "                     dropout_rate=dropout_rate)\n",
        "        for _ in range(num_layers)]\n",
        "    self.dropout = tf.keras.layers.Dropout(dropout_rate)\n",
        "\n",
        "  def call(self, x):\n",
        "    # `x` is token-IDs shape: (batch, seq_len)\n",
        "    x = self.pos_embedding(x)  # Shape `(batch_size, seq_len, d_model)`.\n",
        "    p_att_score = None\n",
        "\n",
        "    # Add dropout.\n",
        "    x = self.dropout(x)\n",
        "\n",
        "    for i in range(self.num_layers):\n",
        "      x, p_att_score = self.enc_layers[i](x, p_att_score)\n",
        "\n",
        "    return x  # Shape `(batch_size, seq_len, d_model)`."
      ]
    },
    {
      "cell_type": "code",
      "execution_count": null,
      "metadata": {
        "colab": {
          "base_uri": "https://localhost:8080/"
        },
        "id": "hW2zEdF-t4us",
        "outputId": "85c3b75b-1f81-4bbc-aadb-ad4f916552fd"
      },
      "outputs": [
        {
          "output_type": "stream",
          "name": "stdout",
          "text": [
            "(128, 64)\n",
            "(128, 64, 512)\n",
            "time: 1.57 s (started: 2025-01-18 07:02:45 +00:00)\n"
          ]
        }
      ],
      "source": [
        "\n",
        "sample_encoder = Encoder(num_layers=4,\n",
        "                         d_model=512,\n",
        "                         num_heads=8,\n",
        "                         dff=2048,\n",
        "                         vocab_size=8500)\n",
        "\n",
        "sample_encoder_output = sample_encoder(pt, training=False)\n",
        "\n",
        "print(pt.shape)\n",
        "print(sample_encoder_output.shape)"
      ]
    },
    {
      "cell_type": "markdown",
      "metadata": {
        "id": "Iwd5u7pCuGu1"
      },
      "source": [
        "# Decoder"
      ]
    },
    {
      "cell_type": "markdown",
      "metadata": {
        "id": "HsPYy7BHuJ4s"
      },
      "source": [
        "## Decoder Layer"
      ]
    },
    {
      "cell_type": "code",
      "execution_count": null,
      "metadata": {
        "colab": {
          "base_uri": "https://localhost:8080/"
        },
        "id": "hvHXSk5buJMu",
        "outputId": "aa25f66d-8d7b-48e9-efc6-f2c00c51c53f"
      },
      "outputs": [
        {
          "output_type": "stream",
          "name": "stdout",
          "text": [
            "time: 732 µs (started: 2025-01-18 07:02:46 +00:00)\n"
          ]
        }
      ],
      "source": [
        "class DecoderLayer(tf.keras.layers.Layer):\n",
        "  def __init__(self,\n",
        "               *,\n",
        "               d_model,\n",
        "               num_heads,\n",
        "               dff,\n",
        "               dropout_rate=0.1):\n",
        "    super(DecoderLayer, self).__init__()\n",
        "\n",
        "    self.causal_self_attention = CausalSelfAttention(\n",
        "        num_heads=num_heads,\n",
        "        key_dim=d_model,\n",
        "        dropout=dropout_rate)\n",
        "\n",
        "    self.cross_attention = CrossAttention(\n",
        "        num_heads=num_heads,\n",
        "        key_dim=d_model,\n",
        "        dropout=dropout_rate)\n",
        "\n",
        "    self.ffn = FeedForward(d_model, dff)\n",
        "\n",
        "  def call(self, x, context, p_att_score = None): #remember to send the p_att_scores as a tuple\n",
        "    if p_att_score is None:\n",
        "      p_att_score = (None,None)\n",
        "    x, p_att_score_causal = self.causal_self_attention(x=x, p_att_score = p_att_score[0])\n",
        "    x, p_att_score_cross = self.cross_attention(x=x, context=context, p_att_score = p_att_score[1])\n",
        "\n",
        "    # Cache the last attention scores for plotting later\n",
        "    self.last_attn_scores = self.cross_attention.last_attn_scores\n",
        "\n",
        "    x = self.ffn(x)  # Shape `(batch_size, seq_len, d_model)`.\n",
        "    return x , (p_att_score_causal, p_att_score_cross)"
      ]
    },
    {
      "cell_type": "code",
      "execution_count": null,
      "metadata": {
        "colab": {
          "base_uri": "https://localhost:8080/"
        },
        "id": "e1OA2i4-uTA3",
        "outputId": "674aabbf-f22a-4b17-b17a-7a2598c968b3"
      },
      "outputs": [
        {
          "output_type": "stream",
          "name": "stdout",
          "text": [
            "(128, 64, 512)\n",
            "(128, 64, 512)\n",
            "(128, 64, 512)\n",
            "(128, 8, 64, 64)\n",
            "(128, 8, 64, 64)\n",
            "time: 441 ms (started: 2025-01-18 07:02:46 +00:00)\n"
          ]
        }
      ],
      "source": [
        "sample_decoder_layer = DecoderLayer(d_model=512, num_heads=8, dff=2048)\n",
        "\n",
        "sample_decoder_layer_output, p_att_score = sample_decoder_layer(\n",
        "    x=en_emb, context=pt_emb)\n",
        "\n",
        "print(en_emb.shape)\n",
        "print(pt_emb.shape)\n",
        "print(sample_decoder_layer_output.shape)  # `(batch_size, seq_len, d_model)`\n",
        "print(p_att_score[0].shape)\n",
        "print(p_att_score[1].shape)"
      ]
    },
    {
      "cell_type": "markdown",
      "metadata": {
        "id": "4-pGH4-YuL7o"
      },
      "source": [
        "## Decoder Block"
      ]
    },
    {
      "cell_type": "code",
      "execution_count": null,
      "metadata": {
        "colab": {
          "base_uri": "https://localhost:8080/"
        },
        "id": "ESAZ_u4HudCf",
        "outputId": "5137fb40-a890-4ff6-fc87-ac3fdd5f84f5"
      },
      "outputs": [
        {
          "output_type": "stream",
          "name": "stdout",
          "text": [
            "time: 798 µs (started: 2025-01-18 07:02:47 +00:00)\n"
          ]
        }
      ],
      "source": [
        "class Decoder(tf.keras.layers.Layer):\n",
        "  def __init__(self, *, num_layers, d_model, num_heads, dff, vocab_size,\n",
        "               dropout_rate=0.1):\n",
        "    super(Decoder, self).__init__()\n",
        "\n",
        "    self.d_model = d_model\n",
        "    self.num_layers = num_layers\n",
        "\n",
        "    self.pos_embedding = PositionalEmbedding(vocab_size=vocab_size,\n",
        "                                             d_model=d_model)\n",
        "    self.dropout = tf.keras.layers.Dropout(dropout_rate)\n",
        "    self.dec_layers = [\n",
        "        DecoderLayer(d_model=d_model, num_heads=num_heads,\n",
        "                     dff=dff, dropout_rate=dropout_rate)\n",
        "        for _ in range(num_layers)]\n",
        "\n",
        "    self.last_attn_scores = None\n",
        "\n",
        "  def call(self, x, context):\n",
        "    # `x` is token-IDs shape (batch, target_seq_len)\n",
        "    x = self.pos_embedding(x)  # (batch_size, target_seq_len, d_model)\n",
        "\n",
        "    x = self.dropout(x)\n",
        "\n",
        "    p_att_score = None\n",
        "\n",
        "    for i in range(self.num_layers):\n",
        "      x, p_att_score  = self.dec_layers[i](x, context, p_att_score)\n",
        "\n",
        "    self.last_attn_scores = self.dec_layers[-1].last_attn_scores\n",
        "\n",
        "    # The shape of x is (batch_size, target_seq_len, d_model).\n",
        "    return x"
      ]
    },
    {
      "cell_type": "code",
      "execution_count": null,
      "metadata": {
        "colab": {
          "base_uri": "https://localhost:8080/"
        },
        "id": "bGUNfhfbuh04",
        "outputId": "8726e9c1-4416-47f4-a2d9-8a86ccd8099a"
      },
      "outputs": [
        {
          "output_type": "stream",
          "name": "stdout",
          "text": [
            "(128, 64)\n",
            "(128, 64, 512)\n",
            "(128, 64, 512)\n",
            "time: 2.62 s (started: 2025-01-18 07:02:47 +00:00)\n"
          ]
        }
      ],
      "source": [
        "sample_decoder = Decoder(num_layers=4,\n",
        "                         d_model=512,\n",
        "                         num_heads=8,\n",
        "                         dff=2048,\n",
        "                         vocab_size=8000)\n",
        "\n",
        "output = sample_decoder(\n",
        "    x=en,\n",
        "    context=pt_emb)\n",
        "\n",
        "\n",
        "print(en.shape)\n",
        "print(pt_emb.shape)\n",
        "print(output.shape)"
      ]
    },
    {
      "cell_type": "markdown",
      "metadata": {
        "id": "9R_6cZZCu0Hp"
      },
      "source": [
        "# Transformer"
      ]
    },
    {
      "cell_type": "markdown",
      "metadata": {
        "id": "aa6axbP6vKPZ"
      },
      "source": [
        "## Model"
      ]
    },
    {
      "cell_type": "code",
      "execution_count": null,
      "metadata": {
        "colab": {
          "base_uri": "https://localhost:8080/"
        },
        "id": "5T34d_k6u24H",
        "outputId": "9b41cc36-c06c-4d6f-c00a-5b9407677ddf"
      },
      "outputs": [
        {
          "output_type": "stream",
          "name": "stdout",
          "text": [
            "time: 715 µs (started: 2025-01-18 07:02:49 +00:00)\n"
          ]
        }
      ],
      "source": [
        "class Transformer(tf.keras.Model):\n",
        "  def __init__(self, *, num_layers, d_model, num_heads, dff,\n",
        "               input_vocab_size, target_vocab_size, dropout_rate=0.1):\n",
        "    super().__init__()\n",
        "    self.encoder = Encoder(num_layers=num_layers, d_model=d_model,\n",
        "                           num_heads=num_heads, dff=dff,\n",
        "                           vocab_size=input_vocab_size,\n",
        "                           dropout_rate=dropout_rate)\n",
        "\n",
        "    self.decoder = Decoder(num_layers=num_layers, d_model=d_model,\n",
        "                           num_heads=num_heads, dff=dff,\n",
        "                           vocab_size=target_vocab_size,\n",
        "                           dropout_rate=dropout_rate)\n",
        "\n",
        "    self.final_layer = tf.keras.layers.Dense(target_vocab_size)\n",
        "\n",
        "  def call(self, inputs):\n",
        "    context, x  = inputs\n",
        "\n",
        "    context = self.encoder(context)\n",
        "\n",
        "    x = self.decoder(x, context)\n",
        "\n",
        "\n",
        "    logits = self.final_layer(x)\n",
        "\n",
        "    try:\n",
        "      del logits._keras_mask\n",
        "    except AttributeError:\n",
        "      pass\n",
        "\n",
        "    return logits"
      ]
    },
    {
      "cell_type": "markdown",
      "metadata": {
        "id": "xnHb8JaUvCgj"
      },
      "source": [
        "## Hyperparameters"
      ]
    },
    {
      "cell_type": "code",
      "execution_count": null,
      "metadata": {
        "colab": {
          "base_uri": "https://localhost:8080/"
        },
        "id": "w5S69kfVvhu9",
        "outputId": "53e0eefd-4f42-4be9-a633-1651d13d1772"
      },
      "outputs": [
        {
          "output_type": "stream",
          "name": "stdout",
          "text": [
            "(128, 64)\n",
            "(128, 64)\n",
            "(128, 64, 7010)\n",
            "time: 6.35 s (started: 2025-01-18 07:02:49 +00:00)\n"
          ]
        }
      ],
      "source": [
        "transformer = Transformer(\n",
        "    num_layers=num_layers,\n",
        "    d_model=d_model,\n",
        "    num_heads=num_heads,\n",
        "    dff=dff,\n",
        "    input_vocab_size=tokenizers.pt.get_vocab_size().numpy(),\n",
        "    target_vocab_size=tokenizers.en.get_vocab_size().numpy(),\n",
        "    dropout_rate=dropout_rate)\n",
        "\n",
        "output = transformer((pt, en))\n",
        "\n",
        "print(en.shape)\n",
        "print(pt.shape)\n",
        "print(output.shape)"
      ]
    },
    {
      "cell_type": "markdown",
      "metadata": {
        "id": "NvuUvrBZwTO4"
      },
      "source": [
        "## Optimizer"
      ]
    },
    {
      "cell_type": "code",
      "execution_count": null,
      "metadata": {
        "colab": {
          "base_uri": "https://localhost:8080/"
        },
        "id": "5btHZGoUwVH0",
        "outputId": "a5a75da0-9183-4eaa-c04d-503c7804aaf5"
      },
      "outputs": [
        {
          "output_type": "stream",
          "name": "stdout",
          "text": [
            "time: 569 µs (started: 2025-01-18 07:02:56 +00:00)\n"
          ]
        }
      ],
      "source": [
        "class CustomSchedule(tf.keras.optimizers.schedules.LearningRateSchedule):\n",
        "  def __init__(self, d_model, warmup_steps=4000):\n",
        "    super().__init__()\n",
        "\n",
        "    self.d_model = d_model\n",
        "    self.d_model = tf.cast(self.d_model, tf.float32)\n",
        "\n",
        "    self.warmup_steps = warmup_steps\n",
        "\n",
        "  def __call__(self, step):\n",
        "    step = tf.cast(step, dtype=tf.float32)\n",
        "    arg1 = tf.math.rsqrt(step)\n",
        "    arg2 = step * (self.warmup_steps ** -1.5)\n",
        "\n",
        "    return tf.math.rsqrt(self.d_model) * tf.math.minimum(arg1, arg2)"
      ]
    },
    {
      "cell_type": "code",
      "execution_count": null,
      "metadata": {
        "colab": {
          "base_uri": "https://localhost:8080/"
        },
        "id": "C5y7xKIFwcB8",
        "outputId": "cea9652e-b828-4219-b311-80fc7ccebb24"
      },
      "outputs": [
        {
          "output_type": "stream",
          "name": "stdout",
          "text": [
            "time: 3.93 ms (started: 2025-01-18 07:02:56 +00:00)\n"
          ]
        }
      ],
      "source": [
        "learning_rate = CustomSchedule(d_model)\n",
        "\n",
        "optimizer = tf.keras.optimizers.Adam(learning_rate, beta_1=0.9, beta_2=0.98,\n",
        "                                     epsilon=1e-9)"
      ]
    },
    {
      "cell_type": "markdown",
      "metadata": {
        "id": "j-qZMTIWxA3O"
      },
      "source": [
        "## Masked Loss and Masked Accuracy"
      ]
    },
    {
      "cell_type": "code",
      "execution_count": null,
      "metadata": {
        "colab": {
          "base_uri": "https://localhost:8080/"
        },
        "id": "hZXWTO2DxEWA",
        "outputId": "4b740062-c5d2-49fe-ee4e-d18554a37619"
      },
      "outputs": [
        {
          "output_type": "stream",
          "name": "stdout",
          "text": [
            "time: 628 µs (started: 2025-01-18 07:02:56 +00:00)\n"
          ]
        }
      ],
      "source": [
        "def masked_loss(label, pred):\n",
        "  mask = label != 0\n",
        "  loss_object = tf.keras.losses.SparseCategoricalCrossentropy(\n",
        "    from_logits=True, reduction='none')\n",
        "  loss = loss_object(label, pred)\n",
        "\n",
        "  mask = tf.cast(mask, dtype=loss.dtype)\n",
        "  loss *= mask\n",
        "\n",
        "  loss = tf.reduce_sum(loss)/tf.reduce_sum(mask)\n",
        "  return loss\n",
        "\n",
        "\n",
        "def masked_accuracy(label, pred):\n",
        "  pred = tf.argmax(pred, axis=2)\n",
        "  label = tf.cast(label, pred.dtype)\n",
        "  match = label == pred\n",
        "\n",
        "  mask = label != 0\n",
        "\n",
        "  match = match & mask\n",
        "\n",
        "  match = tf.cast(match, dtype=tf.float32)\n",
        "  mask = tf.cast(mask, dtype=tf.float32)\n",
        "  return tf.reduce_sum(match)/tf.reduce_sum(mask)"
      ]
    },
    {
      "cell_type": "markdown",
      "metadata": {
        "id": "GJPkiYxcxGFn"
      },
      "source": [
        "# Train"
      ]
    },
    {
      "cell_type": "markdown",
      "metadata": {
        "id": "8szsoMWy0w5g"
      },
      "source": [
        "## Compile"
      ]
    },
    {
      "cell_type": "code",
      "execution_count": null,
      "metadata": {
        "colab": {
          "base_uri": "https://localhost:8080/"
        },
        "id": "1FLAWAwMxH6M",
        "outputId": "1ed66da0-ecb0-43e8-dd8d-07f11b68ead8"
      },
      "outputs": [
        {
          "output_type": "stream",
          "name": "stdout",
          "text": [
            "time: 5.01 ms (started: 2025-01-18 07:02:56 +00:00)\n"
          ]
        }
      ],
      "source": [
        "transformer.compile(\n",
        "    loss=masked_loss,\n",
        "    optimizer=optimizer,\n",
        "    metrics=[masked_accuracy])"
      ]
    },
    {
      "cell_type": "markdown",
      "metadata": {
        "id": "RSM8gFYw1ZhA"
      },
      "source": [
        "## Custom Callback"
      ]
    },
    {
      "cell_type": "code",
      "execution_count": null,
      "metadata": {
        "colab": {
          "base_uri": "https://localhost:8080/"
        },
        "id": "Op0OHmydAs6l",
        "outputId": "7436a943-e9b6-449c-da2b-92a1a552470c"
      },
      "outputs": [
        {
          "output_type": "stream",
          "name": "stdout",
          "text": [
            "time: 2.16 ms (started: 2025-01-18 07:02:56 +00:00)\n"
          ]
        }
      ],
      "source": [
        "class SaveAndLoadCallback(tf.keras.callbacks.Callback):\n",
        "\n",
        "    def __init__(self, save_dir='/content/drive/MyDrive/Realformer_enc4_head6_updated_t4/'):\n",
        "\n",
        "        super().__init__()\n",
        "        self.save_dir = save_dir\n",
        "        os.makedirs(save_dir, exist_ok=True)\n",
        "        self.history_path = os.path.join(save_dir, 'history.pkl')\n",
        "        self.model_weights_path = os.path.join(save_dir, 'model_weights.weights.h5')\n",
        "        self.optimizer_weights_path = os.path.join(save_dir, 'optimizer_weights.pkl')\n",
        "\n",
        "    def on_epoch_end(self, epoch, logs=None):\n",
        "\n",
        "        self.model.save_weights(self.model_weights_path)\n",
        "\n",
        "        opt_weights = self.model.optimizer.variables\n",
        "        with open(self.optimizer_weights_path, 'wb') as f:\n",
        "            pickle.dump([w.numpy() for w in opt_weights], f)\n",
        "\n",
        "        if os.path.exists(self.history_path):\n",
        "            with open(self.history_path, 'rb') as f:\n",
        "                history = pickle.load(f)\n",
        "        else:\n",
        "            history = {}\n",
        "\n",
        "        history.setdefault('loss', []).append(logs.get('loss'))\n",
        "        history.setdefault('val_loss', []).append(logs.get('val_loss'))\n",
        "        history.setdefault('masked_accuracy', []).append(logs.get('masked_accuracy'))\n",
        "        history.setdefault('val_masked_accuracy', []).append(logs.get('val_masked_accuracy'))\n",
        "\n",
        "        with open(self.history_path, 'wb') as f:\n",
        "            pickle.dump(history, f)\n",
        "\n",
        "    def on_epoch_begin(self, epoch, logs=None):\n",
        "\n",
        "        if os.path.exists(self.model_weights_path):\n",
        "            self.model.load_weights(self.model_weights_path)\n",
        "\n",
        "        if os.path.exists(self.optimizer_weights_path):\n",
        "            with open(self.optimizer_weights_path, 'rb') as f:\n",
        "                opt_weights = pickle.load(f)\n",
        "            # Set the optimizer weights\n",
        "            for var, weight in zip(self.model.optimizer.variables, opt_weights):\n",
        "                var.assign(weight)\n",
        "\n",
        "        if os.path.exists(self.history_path):\n",
        "            with open(self.history_path, 'rb') as f:\n",
        "                history = pickle.load(f)\n",
        "            print(\"Epoch =\",len(history['val_masked_accuracy']))\n",
        "\n",
        "save_and_load_callback = SaveAndLoadCallback()"
      ]
    },
    {
      "cell_type": "code",
      "execution_count": null,
      "metadata": {
        "colab": {
          "base_uri": "https://localhost:8080/"
        },
        "id": "UAP55Ne8zoFw",
        "outputId": "83b06174-db6a-4e93-c520-0d04b35a69c9"
      },
      "outputs": [
        {
          "output_type": "stream",
          "name": "stdout",
          "text": [
            "time: 231 µs (started: 2025-01-18 07:02:56 +00:00)\n"
          ]
        }
      ],
      "source": [
        "early_stopping_callback = EarlyStopping(\n",
        "    monitor='val_loss',\n",
        "    patience=2,\n",
        "    restore_best_weights=True,\n",
        "    verbose=1\n",
        ")"
      ]
    },
    {
      "cell_type": "markdown",
      "metadata": {
        "id": "I2pw6Mu7AxrX"
      },
      "source": [
        "## Training"
      ]
    },
    {
      "cell_type": "code",
      "execution_count": null,
      "metadata": {
        "colab": {
          "base_uri": "https://localhost:8080/"
        },
        "id": "NMmRCZOX1nkB",
        "outputId": "7052efd6-5915-4a4d-f417-aecd39b57d24"
      },
      "outputs": [
        {
          "output_type": "stream",
          "name": "stdout",
          "text": [
            "Epoch 1/16\n",
            "\u001b[1m362/362\u001b[0m \u001b[32m━━━━━━━━━━━━━━━━━━━━\u001b[0m\u001b[37m\u001b[0m \u001b[1m247s\u001b[0m 518ms/step - loss: 7.5992 - masked_accuracy: 0.1077 - val_loss: 4.9626 - val_masked_accuracy: 0.3042\n",
            "Epoch 2/16\n",
            "\u001b[1m362/362\u001b[0m \u001b[32m━━━━━━━━━━━━━━━━━━━━\u001b[0m\u001b[37m\u001b[0m \u001b[1m181s\u001b[0m 493ms/step - loss: 4.6486 - masked_accuracy: 0.3343 - val_loss: 3.8553 - val_masked_accuracy: 0.4121\n",
            "Epoch 3/16\n",
            "\u001b[1m362/362\u001b[0m \u001b[32m━━━━━━━━━━━━━━━━━━━━\u001b[0m\u001b[37m\u001b[0m \u001b[1m181s\u001b[0m 493ms/step - loss: 3.6309 - masked_accuracy: 0.4355 - val_loss: 3.1535 - val_masked_accuracy: 0.4906\n",
            "Epoch 4/16\n",
            "\u001b[1m362/362\u001b[0m \u001b[32m━━━━━━━━━━━━━━━━━━━━\u001b[0m\u001b[37m\u001b[0m \u001b[1m181s\u001b[0m 493ms/step - loss: 2.9127 - masked_accuracy: 0.5112 - val_loss: 2.7241 - val_masked_accuracy: 0.5356\n",
            "Epoch 5/16\n",
            "\u001b[1m362/362\u001b[0m \u001b[32m━━━━━━━━━━━━━━━━━━━━\u001b[0m\u001b[37m\u001b[0m \u001b[1m181s\u001b[0m 493ms/step - loss: 2.3671 - masked_accuracy: 0.5737 - val_loss: 2.5074 - val_masked_accuracy: 0.5535\n",
            "Epoch 6/16\n",
            "\u001b[1m362/362\u001b[0m \u001b[32m━━━━━━━━━━━━━━━━━━━━\u001b[0m\u001b[37m\u001b[0m \u001b[1m181s\u001b[0m 493ms/step - loss: 1.9761 - masked_accuracy: 0.6177 - val_loss: 2.3670 - val_masked_accuracy: 0.5735\n",
            "Epoch 7/16\n",
            "\u001b[1m362/362\u001b[0m \u001b[32m━━━━━━━━━━━━━━━━━━━━\u001b[0m\u001b[37m\u001b[0m \u001b[1m181s\u001b[0m 493ms/step - loss: 1.7033 - masked_accuracy: 0.6496 - val_loss: 2.3280 - val_masked_accuracy: 0.5755\n",
            "Epoch 8/16\n",
            "\u001b[1m362/362\u001b[0m \u001b[32m━━━━━━━━━━━━━━━━━━━━\u001b[0m\u001b[37m\u001b[0m \u001b[1m181s\u001b[0m 493ms/step - loss: 1.5172 - masked_accuracy: 0.6722 - val_loss: 2.2574 - val_masked_accuracy: 0.5884\n",
            "Epoch 9/16\n",
            "\u001b[1m362/362\u001b[0m \u001b[32m━━━━━━━━━━━━━━━━━━━━\u001b[0m\u001b[37m\u001b[0m \u001b[1m181s\u001b[0m 492ms/step - loss: 1.3690 - masked_accuracy: 0.6927 - val_loss: 2.2930 - val_masked_accuracy: 0.5855\n",
            "Epoch 10/16\n",
            "\u001b[1m362/362\u001b[0m \u001b[32m━━━━━━━━━━━━━━━━━━━━\u001b[0m\u001b[37m\u001b[0m \u001b[1m181s\u001b[0m 492ms/step - loss: 1.2471 - masked_accuracy: 0.7104 - val_loss: 2.3020 - val_masked_accuracy: 0.5829\n",
            "Epoch 10: early stopping\n",
            "Restoring model weights from the end of the best epoch: 8.\n",
            "time: 31min 16s (started: 2025-01-18 07:02:56 +00:00)\n"
          ]
        }
      ],
      "source": [
        "history = transformer.fit(train_batches,\n",
        "                epochs=16,\n",
        "                callbacks=[early_stopping_callback],\n",
        "                validation_data=val_batches)"
      ]
    },
    {
      "cell_type": "code",
      "execution_count": null,
      "metadata": {
        "colab": {
          "base_uri": "https://localhost:8080/"
        },
        "id": "QGy6uAvTS06t",
        "outputId": "e881fe46-5c43-4ab8-b5dd-e54557ef5682"
      },
      "outputs": [
        {
          "output_type": "stream",
          "name": "stdout",
          "text": [
            "Model, optimizer weights, and training history saved successfully in runtime.\n",
            "All files zipped successfully.\n",
            "time: 19.4 s (started: 2025-01-18 07:34:13 +00:00)\n"
          ]
        }
      ],
      "source": [
        "\n",
        "model_weights_path = \"model_weights.weights.h5\"\n",
        "optimizer_weights_path = \"optimizer_weights.pkl\"\n",
        "history_path = \"training_history.pkl\"\n",
        "zip_file_path = \"/content/drive/MyDrive/R_E4_H8.zip\"\n",
        "\n",
        "\n",
        "transformer.save_weights(model_weights_path)\n",
        "\n",
        "# Save optimizer weights in runtime\n",
        "opt_weights = transformer.optimizer.variables\n",
        "with open(optimizer_weights_path, 'wb') as f:\n",
        "    pickle.dump([w.numpy() for w in opt_weights], f)\n",
        "\n",
        "\n",
        "with open(history_path, 'wb') as f:\n",
        "    pickle.dump(history.history, f)\n",
        "\n",
        "print(\"Model, optimizer weights, and training history saved successfully in runtime.\")\n",
        "\n",
        "\n",
        "with zipfile.ZipFile(zip_file_path, 'w') as zipf: # Use zipfile.ZipFile instead of shutil.ZipFile\n",
        "    zipf.write(model_weights_path)\n",
        "    zipf.write(optimizer_weights_path)\n",
        "    zipf.write(history_path)\n",
        "\n",
        "print(\"All files zipped successfully.\")\n",
        "\n"
      ]
    },
    {
      "cell_type": "code",
      "execution_count": null,
      "metadata": {
        "colab": {
          "base_uri": "https://localhost:8080/",
          "height": 944
        },
        "id": "EQiJkRWe2d1h",
        "outputId": "e4d8b127-bd5c-4346-86a5-5edc77996cd0"
      },
      "outputs": [
        {
          "output_type": "display_data",
          "data": {
            "text/plain": [
              "<Figure size 640x480 with 1 Axes>"
            ],
            "image/png": "[encoded data removed]"
          },
          "metadata": {}
        },
        {
          "output_type": "display_data",
          "data": {
            "text/plain": [
              "<Figure size 640x480 with 1 Axes>"
            ],
            "image/png": "[encoded data removed]"
          },
          "metadata": {}
        },
        {
          "output_type": "stream",
          "name": "stdout",
          "text": [
            "time: 441 ms (started: 2025-01-18 07:34:32 +00:00)\n"
          ]
        }
      ],
      "source": [
        "plt.plot(history.history['loss'], label='Training Loss')\n",
        "plt.plot(history.history['val_loss'], label='Validation Loss')\n",
        "plt.xlabel('Epoch')\n",
        "plt.ylabel('Loss')\n",
        "plt.title('Training and Validation Loss')\n",
        "plt.legend()\n",
        "plt.show()\n",
        "\n",
        "plt.plot(history.history['masked_accuracy'], label='Training Accuracy')\n",
        "plt.plot(history.history['val_masked_accuracy'], label='Validation Accuracy')\n",
        "plt.xlabel('Epoch')\n",
        "plt.ylabel('Accuracy')\n",
        "plt.title('Training and Validation Accuracy')\n",
        "plt.legend()\n",
        "plt.show()"
      ]
    },
    {
      "cell_type": "code",
      "source": [
        "def calculate_parameter_sparsity(model):\n",
        "    total_elements = 0\n",
        "    zero_elements = 0\n",
        "\n",
        "    for variable in model.trainable_variables:\n",
        "        total_elements += tf.size(variable).numpy()\n",
        "        zero_elements += tf.reduce_sum(tf.cast(tf.abs(variable) <= 1e-3, tf.int32)).numpy()\n",
        "\n",
        "    sparsity = zero_elements / total_elements\n",
        "    print(total_elements)\n",
        "    print(zero_elements)\n",
        "    return sparsity\n",
        "\n",
        "sparsity = calculate_parameter_sparsity(transformer)\n",
        "print(f\"Model parameter sparsity: {sparsity:.20%}\")"
      ],
      "metadata": {
        "colab": {
          "base_uri": "https://localhost:8080/"
        },
        "id": "2qmsV4zi5WRZ",
        "outputId": "37985520-55cb-4a7b-f5db-84dceba5a9e8"
      },
      "execution_count": null,
      "outputs": [
        {
          "output_type": "stream",
          "name": "stdout",
          "text": [
            "128796002\n",
            "7269155\n",
            "Model parameter sparsity: 5.64392907164928914199%\n",
            "time: 266 ms (started: 2025-01-18 07:34:32 +00:00)\n"
          ]
        }
      ]
    },
    {
      "cell_type": "code",
      "execution_count": null,
      "metadata": {
        "id": "1XDZ3miI04MA",
        "colab": {
          "base_uri": "https://localhost:8080/"
        },
        "outputId": "d816cd5e-acb4-45a4-af44-3904e2165d25"
      },
      "outputs": [
        {
          "output_type": "stream",
          "name": "stdout",
          "text": [
            "time: 1.06 ms (started: 2025-01-18 07:34:33 +00:00)\n"
          ]
        }
      ],
      "source": [
        "class Translator(tf.Module):\n",
        "  def __init__(self, tokenizers, transformer):\n",
        "    self.tokenizers = tokenizers\n",
        "    self.transformer = transformer\n",
        "\n",
        "  def __call__(self, sentence, max_length=MAX_TOKENS):\n",
        "    # The input sentence is Portuguese, hence adding the `[START]` and `[END]` tokens.\n",
        "    assert isinstance(sentence, tf.Tensor)\n",
        "    if len(sentence.shape) == 0:\n",
        "      sentence = sentence[tf.newaxis]\n",
        "\n",
        "    sentence = self.tokenizers.pt.tokenize(sentence).to_tensor()\n",
        "\n",
        "    encoder_input = sentence\n",
        "\n",
        "    # As the output language is English, initialize the output with the\n",
        "    # English `[START]` token.\n",
        "    start_end = self.tokenizers.en.tokenize([''])[0]\n",
        "    start = start_end[0][tf.newaxis]\n",
        "    end = start_end[1][tf.newaxis]\n",
        "\n",
        "    # `tf.TensorArray` is required here (instead of a Python list), so that the\n",
        "    # dynamic-loop can be traced by `tf.function`.\n",
        "    output_array = tf.TensorArray(dtype=tf.int64, size=0, dynamic_size=True)\n",
        "    output_array = output_array.write(0, start)\n",
        "\n",
        "    for i in tf.range(max_length):\n",
        "      output = tf.transpose(output_array.stack())\n",
        "      predictions = self.transformer([encoder_input, output], training=False)\n",
        "\n",
        "      # Select the last token from the `seq_len` dimension.\n",
        "      predictions = predictions[:, -1:, :]  # Shape `(batch_size, 1, vocab_size)`.\n",
        "\n",
        "      predicted_id = tf.argmax(predictions, axis=-1)\n",
        "\n",
        "      # Concatenate the `predicted_id` to the output which is given to the\n",
        "      # decoder as its input.\n",
        "      output_array = output_array.write(i+1, predicted_id[0])\n",
        "\n",
        "      if predicted_id == end:\n",
        "        break\n",
        "\n",
        "    output = tf.transpose(output_array.stack())\n",
        "    # The output shape is `(1, tokens)`.\n",
        "    text = tokenizers.en.detokenize(output)[0]  # Shape: `()`.\n",
        "\n",
        "    tokens = tokenizers.en.lookup(output)[0]\n",
        "\n",
        "    # `tf.function` prevents us from using the attention_weights that were\n",
        "    # calculated on the last iteration of the loop.\n",
        "    # So, recalculate them outside the loop.\n",
        "    self.transformer([encoder_input, output[:,:-1]], training=False)\n",
        "    attention_weights = self.transformer.decoder.last_attn_scores\n",
        "\n",
        "    return text, tokens, attention_weights"
      ]
    },
    {
      "cell_type": "code",
      "execution_count": null,
      "metadata": {
        "id": "wSbvnU0F04MB",
        "colab": {
          "base_uri": "https://localhost:8080/"
        },
        "outputId": "6b787aac-099e-4355-e5fe-9c6cb2212e40"
      },
      "outputs": [
        {
          "output_type": "stream",
          "name": "stdout",
          "text": [
            "time: 353 µs (started: 2025-01-18 07:34:33 +00:00)\n"
          ]
        }
      ],
      "source": [
        "translator = Translator(tokenizers, transformer)"
      ]
    },
    {
      "cell_type": "code",
      "execution_count": null,
      "metadata": {
        "id": "Ho5UdTnU04MB",
        "colab": {
          "base_uri": "https://localhost:8080/"
        },
        "outputId": "1cec220f-2946-4c9d-cfd5-1a8dd305536e"
      },
      "outputs": [
        {
          "output_type": "stream",
          "name": "stdout",
          "text": [
            "time: 345 µs (started: 2025-01-18 07:34:33 +00:00)\n"
          ]
        }
      ],
      "source": [
        "def print_translation(sentence, tokens, ground_truth):\n",
        "  print(f'{\"Input:\":15s}: {sentence}')\n",
        "  print(f'{\"Prediction\":15s}: {tokens.numpy().decode(\"utf-8\")}')\n",
        "  print(f'{\"Ground truth\":15s}: {ground_truth}')"
      ]
    },
    {
      "cell_type": "markdown",
      "metadata": {
        "id": "W1yNaS1a04MB"
      },
      "source": [
        "Example 1:"
      ]
    },
    {
      "cell_type": "code",
      "execution_count": null,
      "metadata": {
        "colab": {
          "base_uri": "https://localhost:8080/"
        },
        "id": "z4kTlvbL04MB",
        "outputId": "627cee07-620b-46f8-de3a-cd00bfb4201f"
      },
      "outputs": [
        {
          "output_type": "stream",
          "name": "stdout",
          "text": [
            "Input:         : este é um problema que temos que resolver.\n",
            "Prediction     : this is a problem that we have to fix .\n",
            "Ground truth   : this is a problem we have to solve .\n",
            "time: 5.65 s (started: 2025-01-18 07:34:33 +00:00)\n"
          ]
        }
      ],
      "source": [
        "sentence = 'este é um problema que temos que resolver.'\n",
        "ground_truth = 'this is a problem we have to solve .'\n",
        "\n",
        "translated_text, translated_tokens, attention_weights = translator(\n",
        "    tf.constant(sentence))\n",
        "print_translation(sentence, translated_text, ground_truth)"
      ]
    },
    {
      "cell_type": "markdown",
      "metadata": {
        "id": "9e28v9Gi04MB"
      },
      "source": [
        "Example 2:"
      ]
    },
    {
      "cell_type": "code",
      "execution_count": null,
      "metadata": {
        "colab": {
          "base_uri": "https://localhost:8080/"
        },
        "id": "WVc2iZTF04MB",
        "outputId": "7c638cdb-e2a3-45ce-90d1-6a4292a3ba38"
      },
      "outputs": [
        {
          "output_type": "stream",
          "name": "stdout",
          "text": [
            "Input:         : os meus vizinhos ouviram sobre esta ideia.\n",
            "Prediction     : my neighbors heard about this idea .\n",
            "Ground truth   : and my neighboring homes heard about this idea .\n",
            "time: 1.99 s (started: 2025-01-18 07:34:38 +00:00)\n"
          ]
        }
      ],
      "source": [
        "sentence = 'os meus vizinhos ouviram sobre esta ideia.'\n",
        "ground_truth = 'and my neighboring homes heard about this idea .'\n",
        "\n",
        "translated_text, translated_tokens, attention_weights = translator(\n",
        "    tf.constant(sentence))\n",
        "print_translation(sentence, translated_text, ground_truth)"
      ]
    },
    {
      "cell_type": "markdown",
      "metadata": {
        "id": "m9rC073404MC"
      },
      "source": [
        "Example 3:"
      ]
    },
    {
      "cell_type": "code",
      "execution_count": null,
      "metadata": {
        "id": "igwqlKCu04MC",
        "colab": {
          "base_uri": "https://localhost:8080/"
        },
        "outputId": "53b823cd-49e3-4e90-8a41-8fbdfc5498b3"
      },
      "outputs": [
        {
          "output_type": "stream",
          "name": "stdout",
          "text": [
            "Input:         : vou então muito rapidamente partilhar convosco algumas histórias de algumas coisas mágicas que aconteceram.\n",
            "Prediction     : so i ' ll just share with you some stories of some magical things that happened that happened .\n",
            "Ground truth   : so i'll just share with you some stories very quickly of some magical things that have happened.\n",
            "time: 4.8 s (started: 2025-01-18 07:34:40 +00:00)\n"
          ]
        }
      ],
      "source": [
        "sentence = 'vou então muito rapidamente partilhar convosco algumas histórias de algumas coisas mágicas que aconteceram.'\n",
        "ground_truth = \"so i'll just share with you some stories very quickly of some magical things that have happened.\"\n",
        "\n",
        "translated_text, translated_tokens, attention_weights = translator(\n",
        "    tf.constant(sentence))\n",
        "print_translation(sentence, translated_text, ground_truth)"
      ]
    },
    {
      "cell_type": "markdown",
      "metadata": {
        "id": "tZh1OzL404MC"
      },
      "source": [
        "## Create attention plots"
      ]
    },
    {
      "cell_type": "code",
      "execution_count": null,
      "metadata": {
        "id": "rfWiFAuG04MC",
        "colab": {
          "base_uri": "https://localhost:8080/"
        },
        "outputId": "26a704cd-eb48-45d9-f4ef-f885e6e9b8a1"
      },
      "outputs": [
        {
          "output_type": "stream",
          "name": "stdout",
          "text": [
            "Input:         : este é o primeiro livro que eu fiz.\n",
            "Prediction     : this is the first book i did .\n",
            "Ground truth   : this is the first book i've ever done.\n",
            "time: 2.24 s (started: 2025-01-18 07:34:45 +00:00)\n"
          ]
        }
      ],
      "source": [
        "sentence = 'este é o primeiro livro que eu fiz.'\n",
        "ground_truth = \"this is the first book i've ever done.\"\n",
        "\n",
        "translated_text, translated_tokens, attention_weights = translator(\n",
        "    tf.constant(sentence))\n",
        "print_translation(sentence, translated_text, ground_truth)"
      ]
    },
    {
      "cell_type": "markdown",
      "metadata": {
        "id": "eJgOu9Eo04MC"
      },
      "source": [
        "Create a function that plots the attention when a token is generated:"
      ]
    },
    {
      "cell_type": "code",
      "execution_count": null,
      "metadata": {
        "id": "o59bRbT004MC",
        "colab": {
          "base_uri": "https://localhost:8080/"
        },
        "outputId": "953ac7ed-6eac-4be0-8b68-b7da42ff396b"
      },
      "outputs": [
        {
          "output_type": "stream",
          "name": "stdout",
          "text": [
            "time: 566 µs (started: 2025-01-18 07:34:47 +00:00)\n"
          ]
        }
      ],
      "source": [
        "def plot_attention_head(in_tokens, translated_tokens, attention):\n",
        "  # The model didn't generate `<START>` in the output. Skip it.\n",
        "  translated_tokens = translated_tokens[1:]\n",
        "\n",
        "  ax = plt.gca()\n",
        "  ax.matshow(attention)\n",
        "  ax.set_xticks(range(len(in_tokens)))\n",
        "  ax.set_yticks(range(len(translated_tokens)))\n",
        "\n",
        "  labels = [label.decode('utf-8') for label in in_tokens.numpy()]\n",
        "  ax.set_xticklabels(\n",
        "      labels, rotation=90)\n",
        "\n",
        "  labels = [label.decode('utf-8') for label in translated_tokens.numpy()]\n",
        "  ax.set_yticklabels(labels)"
      ]
    },
    {
      "cell_type": "code",
      "execution_count": null,
      "metadata": {
        "id": "nbrz8zl604MC",
        "colab": {
          "base_uri": "https://localhost:8080/"
        },
        "outputId": "407d0e15-64dd-458d-d46e-a7ae7ab92af0"
      },
      "outputs": [
        {
          "output_type": "execute_result",
          "data": {
            "text/plain": [
              "TensorShape([9, 11])"
            ]
          },
          "metadata": {},
          "execution_count": 49
        },
        {
          "output_type": "stream",
          "name": "stdout",
          "text": [
            "time: 5.2 ms (started: 2025-01-18 07:34:47 +00:00)\n"
          ]
        }
      ],
      "source": [
        "head = 0\n",
        "# Shape: `(batch=1, num_heads, seq_len_q, seq_len_k)`.\n",
        "attention_heads = tf.squeeze(attention_weights, 0)\n",
        "attention = attention_heads[head]\n",
        "attention.shape"
      ]
    },
    {
      "cell_type": "markdown",
      "metadata": {
        "id": "YMCAzTLX04MD"
      },
      "source": [
        "These are the input (Portuguese) tokens:"
      ]
    },
    {
      "cell_type": "code",
      "execution_count": null,
      "metadata": {
        "id": "zQ9UVo4N04MD",
        "colab": {
          "base_uri": "https://localhost:8080/"
        },
        "outputId": "32896a1c-2d6b-41ac-865f-27e15b777ec3"
      },
      "outputs": [
        {
          "output_type": "execute_result",
          "data": {
            "text/plain": [
              "<tf.Tensor: shape=(11,), dtype=string, numpy=\n",
              "array([b'[START]', b'este', b'e', b'o', b'primeiro', b'livro', b'que',\n",
              "       b'eu', b'fiz', b'.', b'[END]'], dtype=object)>"
            ]
          },
          "metadata": {},
          "execution_count": 50
        },
        {
          "output_type": "stream",
          "name": "stdout",
          "text": [
            "time: 19.1 ms (started: 2025-01-18 07:34:47 +00:00)\n"
          ]
        }
      ],
      "source": [
        "in_tokens = tf.convert_to_tensor([sentence])\n",
        "in_tokens = tokenizers.pt.tokenize(in_tokens).to_tensor()\n",
        "in_tokens = tokenizers.pt.lookup(in_tokens)[0]\n",
        "in_tokens"
      ]
    },
    {
      "cell_type": "markdown",
      "metadata": {
        "id": "uWHXXii704MD"
      },
      "source": [
        "And these are the output (English translation) tokens:"
      ]
    },
    {
      "cell_type": "code",
      "execution_count": null,
      "metadata": {
        "id": "z4Dv-SHW04MD",
        "colab": {
          "base_uri": "https://localhost:8080/"
        },
        "outputId": "5d4f1831-b163-4a26-d752-836290a19a0f"
      },
      "outputs": [
        {
          "output_type": "execute_result",
          "data": {
            "text/plain": [
              "<tf.Tensor: shape=(10,), dtype=string, numpy=\n",
              "array([b'[START]', b'this', b'is', b'the', b'first', b'book', b'i',\n",
              "       b'did', b'.', b'[END]'], dtype=object)>"
            ]
          },
          "metadata": {},
          "execution_count": 51
        },
        {
          "output_type": "stream",
          "name": "stdout",
          "text": [
            "time: 2.17 ms (started: 2025-01-18 07:34:47 +00:00)\n"
          ]
        }
      ],
      "source": [
        "translated_tokens"
      ]
    },
    {
      "cell_type": "code",
      "execution_count": null,
      "metadata": {
        "id": "w0y6eyje04MD",
        "colab": {
          "base_uri": "https://localhost:8080/",
          "height": 496
        },
        "outputId": "f7bf0e46-1aff-4a5c-9bdd-7c9071f4e7a9"
      },
      "outputs": [
        {
          "output_type": "display_data",
          "data": {
            "text/plain": [
              "<Figure size 640x480 with 1 Axes>"
            ],
            "image/png": "[encoded data removed]"
          },
          "metadata": {}
        },
        {
          "output_type": "stream",
          "name": "stdout",
          "text": [
            "time: 149 ms (started: 2025-01-18 07:34:47 +00:00)\n"
          ]
        }
      ],
      "source": [
        "plot_attention_head(in_tokens, translated_tokens, attention)"
      ]
    },
    {
      "cell_type": "code",
      "execution_count": null,
      "metadata": {
        "id": "vKFwypLR04MD",
        "colab": {
          "base_uri": "https://localhost:8080/"
        },
        "outputId": "47a2ce1d-af08-4fd6-fd38-ab4fd9a8abdb"
      },
      "outputs": [
        {
          "output_type": "stream",
          "name": "stdout",
          "text": [
            "time: 791 µs (started: 2025-01-18 07:34:48 +00:00)\n"
          ]
        }
      ],
      "source": [
        "def plot_attention_weights(sentence, translated_tokens, attention_heads):\n",
        "  in_tokens = tf.convert_to_tensor([sentence])\n",
        "  in_tokens = tokenizers.pt.tokenize(in_tokens).to_tensor()\n",
        "  in_tokens = tokenizers.pt.lookup(in_tokens)[0]\n",
        "\n",
        "  fig = plt.figure(figsize=(16, 8))\n",
        "\n",
        "  for h, head in enumerate(attention_heads):\n",
        "    ax = fig.add_subplot(2, 4, h+1)\n",
        "\n",
        "    plot_attention_head(in_tokens, translated_tokens, head)\n",
        "\n",
        "    ax.set_xlabel(f'Head {h+1}')\n",
        "\n",
        "  plt.tight_layout()\n",
        "  plt.show()"
      ]
    },
    {
      "cell_type": "code",
      "execution_count": null,
      "metadata": {
        "colab": {
          "base_uri": "https://localhost:8080/",
          "height": 806
        },
        "id": "fNhWW24W04MD",
        "outputId": "a2f4a916-8b9d-4987-b029-fff97852a591"
      },
      "outputs": [
        {
          "output_type": "display_data",
          "data": {
            "text/plain": [
              "<Figure size 1600x800 with 8 Axes>"
            ],
            "image/png": "[encoded data removed]"
          },
          "metadata": {}
        },
        {
          "output_type": "stream",
          "name": "stdout",
          "text": [
            "time: 938 ms (started: 2025-01-18 07:34:48 +00:00)\n"
          ]
        }
      ],
      "source": [
        "plot_attention_weights(sentence,\n",
        "                       translated_tokens,\n",
        "                       attention_weights[0])"
      ]
    },
    {
      "cell_type": "markdown",
      "metadata": {
        "id": "eeLQOA9104MD"
      },
      "source": [
        "The model can handle unfamiliar words. Neither `'triceratops'` nor `'encyclopédia'` are in the input dataset, and the model attempts to transliterate them even without a shared vocabulary. For example:"
      ]
    },
    {
      "cell_type": "code",
      "execution_count": null,
      "metadata": {
        "colab": {
          "base_uri": "https://localhost:8080/",
          "height": 839
        },
        "id": "HEbXsa6G04ME",
        "outputId": "1f7c46dc-2d72-4a58-806a-41fb87b27fdc"
      },
      "outputs": [
        {
          "output_type": "stream",
          "name": "stdout",
          "text": [
            "Input:         : Eu li sobre triceratops na enciclopédia.\n",
            "Prediction     : i read about tarrage in and concloped .\n",
            "Ground truth   : I read about triceratops in the encyclopedia.\n"
          ]
        },
        {
          "output_type": "display_data",
          "data": {
            "text/plain": [
              "<Figure size 1600x800 with 8 Axes>"
            ],
            "image/png": "[encoded data removed]"
          },
          "metadata": {}
        }
      ],
      "source": [
        "sentence = 'Eu li sobre triceratops na enciclopédia.'\n",
        "ground_truth = 'I read about triceratops in the encyclopedia.'\n",
        "\n",
        "translated_text, translated_tokens, attention_weights = translator(\n",
        "    tf.constant(sentence))\n",
        "print_translation(sentence, translated_text, ground_truth)\n",
        "\n",
        "plot_attention_weights(sentence, translated_tokens, attention_weights[0])"
      ]
    },
    {
      "cell_type": "code",
      "execution_count": null,
      "metadata": {
        "id": "zAelqPJllUsV",
        "colab": {
          "base_uri": "https://localhost:8080/"
        },
        "outputId": "fdf88893-ef28-4735-f3e7-e74bc5ca1ec6"
      },
      "outputs": [
        {
          "output_type": "stream",
          "name": "stdout",
          "text": [
            "time: 4.99 s (started: 2025-01-18 07:34:49 +00:00)\n",
            "time: 543 µs (started: 2025-01-18 07:34:54 +00:00)\n"
          ]
        }
      ],
      "source": [
        "def generate_translations(translator, data):\n",
        "    predicted = []\n",
        "    references = []\n",
        "    for pt, en in data:\n",
        "        sentence = pt\n",
        "        ground_truth = en\n",
        "\n",
        "        translated_text, translated_tokens, attention_weights = translator(\n",
        "            tf.constant(sentence))\n",
        "        predicted.append(translated_text.numpy().decode('utf-8'))\n",
        "        references.append([ground_truth.numpy().decode('utf-8')])\n",
        "    return predicted, references"
      ]
    },
    {
      "cell_type": "code",
      "execution_count": null,
      "metadata": {
        "id": "WNNqVWgUmpXk",
        "colab": {
          "base_uri": "https://localhost:8080/"
        },
        "outputId": "2ff538fc-8595-4d40-b9a6-7a5f5b2e8885"
      },
      "outputs": [
        {
          "output_type": "stream",
          "name": "stdout",
          "text": [
            "time: 451 µs (started: 2025-01-18 07:34:54 +00:00)\n"
          ]
        }
      ],
      "source": [
        "def compute_bleu(translator, test_dataset):\n",
        "    \"\"\"Compute the BLEU score for the Translator model.\"\"\"\n",
        "    predictions, references = generate_translations(translator, test_dataset)\n",
        "    # Calculate BLEU score using sacrebleu\n",
        "    bleu = sacrebleu.corpus_bleu(predictions, references)\n",
        "    print(f\"BLEU score: {bleu.score:.8f}\")\n",
        "    return bleu.score"
      ]
    },
    {
      "cell_type": "code",
      "execution_count": null,
      "metadata": {
        "colab": {
          "base_uri": "https://localhost:8080/"
        },
        "id": "WTxyHKj1mw3O",
        "outputId": "77f31ea5-88fb-4aa5-ff07-5c927bf41038"
      },
      "outputs": [
        {
          "output_type": "stream",
          "name": "stdout",
          "text": [
            "BLEU score: 16.51582159\n",
            "time: 32min 50s (started: 2025-01-18 07:34:54 +00:00)\n"
          ]
        }
      ],
      "source": [
        "# Assuming you have a Translator instance and a test dataset\n",
        "translator = Translator(tokenizers, transformer)\n",
        "\n",
        "# Compute BLEU score on the test set\n",
        "bleu_score = compute_bleu(translator, val_examples.take(500))"
      ]
    }
  ],
  "metadata": {
    "accelerator": "GPU",
    "colab": {
      "collapsed_sections": [
        "ABf2SRUOh68M",
        "cavnam5kjplO",
        "-RyjwmOSnkLA",
        "lML-3GP4qJ1f",
        "XbXg7x3Gsp5s",
        "_cQLSdXJtZbc",
        "rpnmEhJ5ts1i",
        "J03VfN66tpG9",
        "Iwd5u7pCuGu1",
        "HsPYy7BHuJ4s",
        "4-pGH4-YuL7o",
        "aa6axbP6vKPZ",
        "NvuUvrBZwTO4",
        "j-qZMTIWxA3O",
        "8szsoMWy0w5g"
      ],
      "gpuType": "L4",
      "provenance": []
    },
    "kernelspec": {
      "display_name": "Python 3",
      "name": "python3"
    },
    "language_info": {
      "name": "python"
    },
    "widgets": {
      "application/vnd.jupyter.widget-state+json": {
        "29455b54be1c44708fbe7c2cc1cb070b": {
          "model_module": "@jupyter-widgets/controls",
          "model_name": "HBoxModel",
          "model_module_version": "1.5.0",
          "state": {
            "_dom_classes": [],
            "_model_module": "@jupyter-widgets/controls",
            "_model_module_version": "1.5.0",
            "_model_name": "HBoxModel",
            "_view_count": null,
            "_view_module": "@jupyter-widgets/controls",
            "_view_module_version": "1.5.0",
            "_view_name": "HBoxView",
            "box_style": "",
            "children": [
              "IPY_MODEL_e7192023946c4d5aa47f71b381846296",
              "IPY_MODEL_3f831139b33d487189d600ca05033865",
              "IPY_MODEL_d812e5c1229a4966800a11a768fca491"
            ],
            "layout": "IPY_MODEL_a33590d59135425284ca56903b9eb2b1"
          }
        },
        "e7192023946c4d5aa47f71b381846296": {
          "model_module": "@jupyter-widgets/controls",
          "model_name": "HTMLModel",
          "model_module_version": "1.5.0",
          "state": {
            "_dom_classes": [],
            "_model_module": "@jupyter-widgets/controls",
            "_model_module_version": "1.5.0",
            "_model_name": "HTMLModel",
            "_view_count": null,
            "_view_module": "@jupyter-widgets/controls",
            "_view_module_version": "1.5.0",
            "_view_name": "HTMLView",
            "description": "",
            "description_tooltip": null,
            "layout": "IPY_MODEL_7d2d1ede60dc452f95b518b050b1b1c5",
            "placeholder": "​",
            "style": "IPY_MODEL_88a5427a16a4416685fd449216a118b6",
            "value": "Dl Completed...: 100%"
          }
        },
        "3f831139b33d487189d600ca05033865": {
          "model_module": "@jupyter-widgets/controls",
          "model_name": "FloatProgressModel",
          "model_module_version": "1.5.0",
          "state": {
            "_dom_classes": [],
            "_model_module": "@jupyter-widgets/controls",
            "_model_module_version": "1.5.0",
            "_model_name": "FloatProgressModel",
            "_view_count": null,
            "_view_module": "@jupyter-widgets/controls",
            "_view_module_version": "1.5.0",
            "_view_name": "ProgressView",
            "bar_style": "success",
            "description": "",
            "description_tooltip": null,
            "layout": "IPY_MODEL_ca5065a36c9a4b9dbe17c37b96797349",
            "max": 1,
            "min": 0,
            "orientation": "horizontal",
            "style": "IPY_MODEL_2613ec54cc7e43ba83d5f109e43e3f49",
            "value": 1
          }
        },
        "d812e5c1229a4966800a11a768fca491": {
          "model_module": "@jupyter-widgets/controls",
          "model_name": "HTMLModel",
          "model_module_version": "1.5.0",
          "state": {
            "_dom_classes": [],
            "_model_module": "@jupyter-widgets/controls",
            "_model_module_version": "1.5.0",
            "_model_name": "HTMLModel",
            "_view_count": null,
            "_view_module": "@jupyter-widgets/controls",
            "_view_module_version": "1.5.0",
            "_view_name": "HTMLView",
            "description": "",
            "description_tooltip": null,
            "layout": "IPY_MODEL_7e30a7d754ad4862b24ff4e21be9025e",
            "placeholder": "​",
            "style": "IPY_MODEL_589b21636741462eb472e9a68ae3d0aa",
            "value": " 1/1 [00:06&lt;00:00,  3.75s/ url]"
          }
        },
        "a33590d59135425284ca56903b9eb2b1": {
          "model_module": "@jupyter-widgets/base",
          "model_name": "LayoutModel",
          "model_module_version": "1.2.0",
          "state": {
            "_model_module": "@jupyter-widgets/base",
            "_model_module_version": "1.2.0",
            "_model_name": "LayoutModel",
            "_view_count": null,
            "_view_module": "@jupyter-widgets/base",
            "_view_module_version": "1.2.0",
            "_view_name": "LayoutView",
            "align_content": null,
            "align_items": null,
            "align_self": null,
            "border": null,
            "bottom": null,
            "display": null,
            "flex": null,
            "flex_flow": null,
            "grid_area": null,
            "grid_auto_columns": null,
            "grid_auto_flow": null,
            "grid_auto_rows": null,
            "grid_column": null,
            "grid_gap": null,
            "grid_row": null,
            "grid_template_areas": null,
            "grid_template_columns": null,
            "grid_template_rows": null,
            "height": null,
            "justify_content": null,
            "justify_items": null,
            "left": null,
            "margin": null,
            "max_height": null,
            "max_width": null,
            "min_height": null,
            "min_width": null,
            "object_fit": null,
            "object_position": null,
            "order": null,
            "overflow": null,
            "overflow_x": null,
            "overflow_y": null,
            "padding": null,
            "right": null,
            "top": null,
            "visibility": null,
            "width": null
          }
        },
        "7d2d1ede60dc452f95b518b050b1b1c5": {
          "model_module": "@jupyter-widgets/base",
          "model_name": "LayoutModel",
          "model_module_version": "1.2.0",
          "state": {
            "_model_module": "@jupyter-widgets/base",
            "_model_module_version": "1.2.0",
            "_model_name": "LayoutModel",
            "_view_count": null,
            "_view_module": "@jupyter-widgets/base",
            "_view_module_version": "1.2.0",
            "_view_name": "LayoutView",
            "align_content": null,
            "align_items": null,
            "align_self": null,
            "border": null,
            "bottom": null,
            "display": null,
            "flex": null,
            "flex_flow": null,
            "grid_area": null,
            "grid_auto_columns": null,
            "grid_auto_flow": null,
            "grid_auto_rows": null,
            "grid_column": null,
            "grid_gap": null,
            "grid_row": null,
            "grid_template_areas": null,
            "grid_template_columns": null,
            "grid_template_rows": null,
            "height": null,
            "justify_content": null,
            "justify_items": null,
            "left": null,
            "margin": null,
            "max_height": null,
            "max_width": null,
            "min_height": null,
            "min_width": null,
            "object_fit": null,
            "object_position": null,
            "order": null,
            "overflow": null,
            "overflow_x": null,
            "overflow_y": null,
            "padding": null,
            "right": null,
            "top": null,
            "visibility": null,
            "width": null
          }
        },
        "88a5427a16a4416685fd449216a118b6": {
          "model_module": "@jupyter-widgets/controls",
          "model_name": "DescriptionStyleModel",
          "model_module_version": "1.5.0",
          "state": {
            "_model_module": "@jupyter-widgets/controls",
            "_model_module_version": "1.5.0",
            "_model_name": "DescriptionStyleModel",
            "_view_count": null,
            "_view_module": "@jupyter-widgets/base",
            "_view_module_version": "1.2.0",
            "_view_name": "StyleView",
            "description_width": ""
          }
        },
        "ca5065a36c9a4b9dbe17c37b96797349": {
          "model_module": "@jupyter-widgets/base",
          "model_name": "LayoutModel",
          "model_module_version": "1.2.0",
          "state": {
            "_model_module": "@jupyter-widgets/base",
            "_model_module_version": "1.2.0",
            "_model_name": "LayoutModel",
            "_view_count": null,
            "_view_module": "@jupyter-widgets/base",
            "_view_module_version": "1.2.0",
            "_view_name": "LayoutView",
            "align_content": null,
            "align_items": null,
            "align_self": null,
            "border": null,
            "bottom": null,
            "display": null,
            "flex": null,
            "flex_flow": null,
            "grid_area": null,
            "grid_auto_columns": null,
            "grid_auto_flow": null,
            "grid_auto_rows": null,
            "grid_column": null,
            "grid_gap": null,
            "grid_row": null,
            "grid_template_areas": null,
            "grid_template_columns": null,
            "grid_template_rows": null,
            "height": null,
            "justify_content": null,
            "justify_items": null,
            "left": null,
            "margin": null,
            "max_height": null,
            "max_width": null,
            "min_height": null,
            "min_width": null,
            "object_fit": null,
            "object_position": null,
            "order": null,
            "overflow": null,
            "overflow_x": null,
            "overflow_y": null,
            "padding": null,
            "right": null,
            "top": null,
            "visibility": null,
            "width": "20px"
          }
        },
        "2613ec54cc7e43ba83d5f109e43e3f49": {
          "model_module": "@jupyter-widgets/controls",
          "model_name": "ProgressStyleModel",
          "model_module_version": "1.5.0",
          "state": {
            "_model_module": "@jupyter-widgets/controls",
            "_model_module_version": "1.5.0",
            "_model_name": "ProgressStyleModel",
            "_view_count": null,
            "_view_module": "@jupyter-widgets/base",
            "_view_module_version": "1.2.0",
            "_view_name": "StyleView",
            "bar_color": null,
            "description_width": ""
          }
        },
        "7e30a7d754ad4862b24ff4e21be9025e": {
          "model_module": "@jupyter-widgets/base",
          "model_name": "LayoutModel",
          "model_module_version": "1.2.0",
          "state": {
            "_model_module": "@jupyter-widgets/base",
            "_model_module_version": "1.2.0",
            "_model_name": "LayoutModel",
            "_view_count": null,
            "_view_module": "@jupyter-widgets/base",
            "_view_module_version": "1.2.0",
            "_view_name": "LayoutView",
            "align_content": null,
            "align_items": null,
            "align_self": null,
            "border": null,
            "bottom": null,
            "display": null,
            "flex": null,
            "flex_flow": null,
            "grid_area": null,
            "grid_auto_columns": null,
            "grid_auto_flow": null,
            "grid_auto_rows": null,
            "grid_column": null,
            "grid_gap": null,
            "grid_row": null,
            "grid_template_areas": null,
            "grid_template_columns": null,
            "grid_template_rows": null,
            "height": null,
            "justify_content": null,
            "justify_items": null,
            "left": null,
            "margin": null,
            "max_height": null,
            "max_width": null,
            "min_height": null,
            "min_width": null,
            "object_fit": null,
            "object_position": null,
            "order": null,
            "overflow": null,
            "overflow_x": null,
            "overflow_y": null,
            "padding": null,
            "right": null,
            "top": null,
            "visibility": null,
            "width": null
          }
        },
        "589b21636741462eb472e9a68ae3d0aa": {
          "model_module": "@jupyter-widgets/controls",
          "model_name": "DescriptionStyleModel",
          "model_module_version": "1.5.0",
          "state": {
            "_model_module": "@jupyter-widgets/controls",
            "_model_module_version": "1.5.0",
            "_model_name": "DescriptionStyleModel",
            "_view_count": null,
            "_view_module": "@jupyter-widgets/base",
            "_view_module_version": "1.2.0",
            "_view_name": "StyleView",
            "description_width": ""
          }
        },
        "a2fa933e3ba2434fb460b111b2eb257f": {
          "model_module": "@jupyter-widgets/controls",
          "model_name": "HBoxModel",
          "model_module_version": "1.5.0",
          "state": {
            "_dom_classes": [],
            "_model_module": "@jupyter-widgets/controls",
            "_model_module_version": "1.5.0",
            "_model_name": "HBoxModel",
            "_view_count": null,
            "_view_module": "@jupyter-widgets/controls",
            "_view_module_version": "1.5.0",
            "_view_name": "HBoxView",
            "box_style": "",
            "children": [
              "IPY_MODEL_226de780f46d4ad7bb1b6a290d5818d5",
              "IPY_MODEL_2c0bd076dd9b4ec7b55009edac6cba42",
              "IPY_MODEL_c90a93ab38a647a2bbef80338356c44a"
            ],
            "layout": "IPY_MODEL_7db093ee194649059450665b8b2741df"
          }
        },
        "226de780f46d4ad7bb1b6a290d5818d5": {
          "model_module": "@jupyter-widgets/controls",
          "model_name": "HTMLModel",
          "model_module_version": "1.5.0",
          "state": {
            "_dom_classes": [],
            "_model_module": "@jupyter-widgets/controls",
            "_model_module_version": "1.5.0",
            "_model_name": "HTMLModel",
            "_view_count": null,
            "_view_module": "@jupyter-widgets/controls",
            "_view_module_version": "1.5.0",
            "_view_name": "HTMLView",
            "description": "",
            "description_tooltip": null,
            "layout": "IPY_MODEL_7b75fad59f0d4f0f8cfe74ed86bbc9c2",
            "placeholder": "​",
            "style": "IPY_MODEL_83946f2c3a8b48ab9ae465816c3cb426",
            "value": "Dl Size...: 100%"
          }
        },
        "2c0bd076dd9b4ec7b55009edac6cba42": {
          "model_module": "@jupyter-widgets/controls",
          "model_name": "FloatProgressModel",
          "model_module_version": "1.5.0",
          "state": {
            "_dom_classes": [],
            "_model_module": "@jupyter-widgets/controls",
            "_model_module_version": "1.5.0",
            "_model_name": "FloatProgressModel",
            "_view_count": null,
            "_view_module": "@jupyter-widgets/controls",
            "_view_module_version": "1.5.0",
            "_view_name": "ProgressView",
            "bar_style": "success",
            "description": "",
            "description_tooltip": null,
            "layout": "IPY_MODEL_8a4a4ae2c3764ca5ad1a26e268f765d7",
            "max": 1,
            "min": 0,
            "orientation": "horizontal",
            "style": "IPY_MODEL_fb9a1e58e27943d386cfd4b759eed93c",
            "value": 1
          }
        },
        "c90a93ab38a647a2bbef80338356c44a": {
          "model_module": "@jupyter-widgets/controls",
          "model_name": "HTMLModel",
          "model_module_version": "1.5.0",
          "state": {
            "_dom_classes": [],
            "_model_module": "@jupyter-widgets/controls",
            "_model_module_version": "1.5.0",
            "_model_name": "HTMLModel",
            "_view_count": null,
            "_view_module": "@jupyter-widgets/controls",
            "_view_module_version": "1.5.0",
            "_view_name": "HTMLView",
            "description": "",
            "description_tooltip": null,
            "layout": "IPY_MODEL_cb83c21290034ffea7cb0468e17c3cae",
            "placeholder": "​",
            "style": "IPY_MODEL_5ffef839fc6149b586e9fc8a192da536",
            "value": " 124/124 [00:06&lt;00:00, 34.58 MiB/s]"
          }
        },
        "7db093ee194649059450665b8b2741df": {
          "model_module": "@jupyter-widgets/base",
          "model_name": "LayoutModel",
          "model_module_version": "1.2.0",
          "state": {
            "_model_module": "@jupyter-widgets/base",
            "_model_module_version": "1.2.0",
            "_model_name": "LayoutModel",
            "_view_count": null,
            "_view_module": "@jupyter-widgets/base",
            "_view_module_version": "1.2.0",
            "_view_name": "LayoutView",
            "align_content": null,
            "align_items": null,
            "align_self": null,
            "border": null,
            "bottom": null,
            "display": null,
            "flex": null,
            "flex_flow": null,
            "grid_area": null,
            "grid_auto_columns": null,
            "grid_auto_flow": null,
            "grid_auto_rows": null,
            "grid_column": null,
            "grid_gap": null,
            "grid_row": null,
            "grid_template_areas": null,
            "grid_template_columns": null,
            "grid_template_rows": null,
            "height": null,
            "justify_content": null,
            "justify_items": null,
            "left": null,
            "margin": null,
            "max_height": null,
            "max_width": null,
            "min_height": null,
            "min_width": null,
            "object_fit": null,
            "object_position": null,
            "order": null,
            "overflow": null,
            "overflow_x": null,
            "overflow_y": null,
            "padding": null,
            "right": null,
            "top": null,
            "visibility": null,
            "width": null
          }
        },
        "7b75fad59f0d4f0f8cfe74ed86bbc9c2": {
          "model_module": "@jupyter-widgets/base",
          "model_name": "LayoutModel",
          "model_module_version": "1.2.0",
          "state": {
            "_model_module": "@jupyter-widgets/base",
            "_model_module_version": "1.2.0",
            "_model_name": "LayoutModel",
            "_view_count": null,
            "_view_module": "@jupyter-widgets/base",
            "_view_module_version": "1.2.0",
            "_view_name": "LayoutView",
            "align_content": null,
            "align_items": null,
            "align_self": null,
            "border": null,
            "bottom": null,
            "display": null,
            "flex": null,
            "flex_flow": null,
            "grid_area": null,
            "grid_auto_columns": null,
            "grid_auto_flow": null,
            "grid_auto_rows": null,
            "grid_column": null,
            "grid_gap": null,
            "grid_row": null,
            "grid_template_areas": null,
            "grid_template_columns": null,
            "grid_template_rows": null,
            "height": null,
            "justify_content": null,
            "justify_items": null,
            "left": null,
            "margin": null,
            "max_height": null,
            "max_width": null,
            "min_height": null,
            "min_width": null,
            "object_fit": null,
            "object_position": null,
            "order": null,
            "overflow": null,
            "overflow_x": null,
            "overflow_y": null,
            "padding": null,
            "right": null,
            "top": null,
            "visibility": null,
            "width": null
          }
        },
        "83946f2c3a8b48ab9ae465816c3cb426": {
          "model_module": "@jupyter-widgets/controls",
          "model_name": "DescriptionStyleModel",
          "model_module_version": "1.5.0",
          "state": {
            "_model_module": "@jupyter-widgets/controls",
            "_model_module_version": "1.5.0",
            "_model_name": "DescriptionStyleModel",
            "_view_count": null,
            "_view_module": "@jupyter-widgets/base",
            "_view_module_version": "1.2.0",
            "_view_name": "StyleView",
            "description_width": ""
          }
        },
        "8a4a4ae2c3764ca5ad1a26e268f765d7": {
          "model_module": "@jupyter-widgets/base",
          "model_name": "LayoutModel",
          "model_module_version": "1.2.0",
          "state": {
            "_model_module": "@jupyter-widgets/base",
            "_model_module_version": "1.2.0",
            "_model_name": "LayoutModel",
            "_view_count": null,
            "_view_module": "@jupyter-widgets/base",
            "_view_module_version": "1.2.0",
            "_view_name": "LayoutView",
            "align_content": null,
            "align_items": null,
            "align_self": null,
            "border": null,
            "bottom": null,
            "display": null,
            "flex": null,
            "flex_flow": null,
            "grid_area": null,
            "grid_auto_columns": null,
            "grid_auto_flow": null,
            "grid_auto_rows": null,
            "grid_column": null,
            "grid_gap": null,
            "grid_row": null,
            "grid_template_areas": null,
            "grid_template_columns": null,
            "grid_template_rows": null,
            "height": null,
            "justify_content": null,
            "justify_items": null,
            "left": null,
            "margin": null,
            "max_height": null,
            "max_width": null,
            "min_height": null,
            "min_width": null,
            "object_fit": null,
            "object_position": null,
            "order": null,
            "overflow": null,
            "overflow_x": null,
            "overflow_y": null,
            "padding": null,
            "right": null,
            "top": null,
            "visibility": null,
            "width": "20px"
          }
        },
        "fb9a1e58e27943d386cfd4b759eed93c": {
          "model_module": "@jupyter-widgets/controls",
          "model_name": "ProgressStyleModel",
          "model_module_version": "1.5.0",
          "state": {
            "_model_module": "@jupyter-widgets/controls",
            "_model_module_version": "1.5.0",
            "_model_name": "ProgressStyleModel",
            "_view_count": null,
            "_view_module": "@jupyter-widgets/base",
            "_view_module_version": "1.2.0",
            "_view_name": "StyleView",
            "bar_color": null,
            "description_width": ""
          }
        },
        "cb83c21290034ffea7cb0468e17c3cae": {
          "model_module": "@jupyter-widgets/base",
          "model_name": "LayoutModel",
          "model_module_version": "1.2.0",
          "state": {
            "_model_module": "@jupyter-widgets/base",
            "_model_module_version": "1.2.0",
            "_model_name": "LayoutModel",
            "_view_count": null,
            "_view_module": "@jupyter-widgets/base",
            "_view_module_version": "1.2.0",
            "_view_name": "LayoutView",
            "align_content": null,
            "align_items": null,
            "align_self": null,
            "border": null,
            "bottom": null,
            "display": null,
            "flex": null,
            "flex_flow": null,
            "grid_area": null,
            "grid_auto_columns": null,
            "grid_auto_flow": null,
            "grid_auto_rows": null,
            "grid_column": null,
            "grid_gap": null,
            "grid_row": null,
            "grid_template_areas": null,
            "grid_template_columns": null,
            "grid_template_rows": null,
            "height": null,
            "justify_content": null,
            "justify_items": null,
            "left": null,
            "margin": null,
            "max_height": null,
            "max_width": null,
            "min_height": null,
            "min_width": null,
            "object_fit": null,
            "object_position": null,
            "order": null,
            "overflow": null,
            "overflow_x": null,
            "overflow_y": null,
            "padding": null,
            "right": null,
            "top": null,
            "visibility": null,
            "width": null
          }
        },
        "5ffef839fc6149b586e9fc8a192da536": {
          "model_module": "@jupyter-widgets/controls",
          "model_name": "DescriptionStyleModel",
          "model_module_version": "1.5.0",
          "state": {
            "_model_module": "@jupyter-widgets/controls",
            "_model_module_version": "1.5.0",
            "_model_name": "DescriptionStyleModel",
            "_view_count": null,
            "_view_module": "@jupyter-widgets/base",
            "_view_module_version": "1.2.0",
            "_view_name": "StyleView",
            "description_width": ""
          }
        },
        "4519cb4a9b4e442e9b9eb1a0c2dc4248": {
          "model_module": "@jupyter-widgets/controls",
          "model_name": "HBoxModel",
          "model_module_version": "1.5.0",
          "state": {
            "_dom_classes": [],
            "_model_module": "@jupyter-widgets/controls",
            "_model_module_version": "1.5.0",
            "_model_name": "HBoxModel",
            "_view_count": null,
            "_view_module": "@jupyter-widgets/controls",
            "_view_module_version": "1.5.0",
            "_view_name": "HBoxView",
            "box_style": "",
            "children": [
              "IPY_MODEL_3ea62aedc619419c9cf6656efd06d8b8",
              "IPY_MODEL_2ceee4b074d7471e85d17f9a23857e55",
              "IPY_MODEL_31419a7278c14d29a468dd1464934b43"
            ],
            "layout": "IPY_MODEL_b860135bf2104a2bbe8d475eaad513a5"
          }
        },
        "3ea62aedc619419c9cf6656efd06d8b8": {
          "model_module": "@jupyter-widgets/controls",
          "model_name": "HTMLModel",
          "model_module_version": "1.5.0",
          "state": {
            "_dom_classes": [],
            "_model_module": "@jupyter-widgets/controls",
            "_model_module_version": "1.5.0",
            "_model_name": "HTMLModel",
            "_view_count": null,
            "_view_module": "@jupyter-widgets/controls",
            "_view_module_version": "1.5.0",
            "_view_name": "HTMLView",
            "description": "",
            "description_tooltip": null,
            "layout": "IPY_MODEL_6ea2d18a5d0d4142b0845bcf1431310c",
            "placeholder": "​",
            "style": "IPY_MODEL_a81c4912bdfb4e148819b7a55e0fda45",
            "value": "Extraction completed...: 100%"
          }
        },
        "2ceee4b074d7471e85d17f9a23857e55": {
          "model_module": "@jupyter-widgets/controls",
          "model_name": "FloatProgressModel",
          "model_module_version": "1.5.0",
          "state": {
            "_dom_classes": [],
            "_model_module": "@jupyter-widgets/controls",
            "_model_module_version": "1.5.0",
            "_model_name": "FloatProgressModel",
            "_view_count": null,
            "_view_module": "@jupyter-widgets/controls",
            "_view_module_version": "1.5.0",
            "_view_name": "ProgressView",
            "bar_style": "success",
            "description": "",
            "description_tooltip": null,
            "layout": "IPY_MODEL_06f9eebf62be4a6eb7e960c01360d1b8",
            "max": 1,
            "min": 0,
            "orientation": "horizontal",
            "style": "IPY_MODEL_eccddc323bbd4622a1d01ad7ce629ffd",
            "value": 1
          }
        },
        "31419a7278c14d29a468dd1464934b43": {
          "model_module": "@jupyter-widgets/controls",
          "model_name": "HTMLModel",
          "model_module_version": "1.5.0",
          "state": {
            "_dom_classes": [],
            "_model_module": "@jupyter-widgets/controls",
            "_model_module_version": "1.5.0",
            "_model_name": "HTMLModel",
            "_view_count": null,
            "_view_module": "@jupyter-widgets/controls",
            "_view_module_version": "1.5.0",
            "_view_name": "HTMLView",
            "description": "",
            "description_tooltip": null,
            "layout": "IPY_MODEL_05b05c035a2b44598ae4a6b2a260dd83",
            "placeholder": "​",
            "style": "IPY_MODEL_188aa86a52064bfd8e12ce2a1856c591",
            "value": " 112/112 [00:06&lt;00:00,  6.84s/ file]"
          }
        },
        "b860135bf2104a2bbe8d475eaad513a5": {
          "model_module": "@jupyter-widgets/base",
          "model_name": "LayoutModel",
          "model_module_version": "1.2.0",
          "state": {
            "_model_module": "@jupyter-widgets/base",
            "_model_module_version": "1.2.0",
            "_model_name": "LayoutModel",
            "_view_count": null,
            "_view_module": "@jupyter-widgets/base",
            "_view_module_version": "1.2.0",
            "_view_name": "LayoutView",
            "align_content": null,
            "align_items": null,
            "align_self": null,
            "border": null,
            "bottom": null,
            "display": null,
            "flex": null,
            "flex_flow": null,
            "grid_area": null,
            "grid_auto_columns": null,
            "grid_auto_flow": null,
            "grid_auto_rows": null,
            "grid_column": null,
            "grid_gap": null,
            "grid_row": null,
            "grid_template_areas": null,
            "grid_template_columns": null,
            "grid_template_rows": null,
            "height": null,
            "justify_content": null,
            "justify_items": null,
            "left": null,
            "margin": null,
            "max_height": null,
            "max_width": null,
            "min_height": null,
            "min_width": null,
            "object_fit": null,
            "object_position": null,
            "order": null,
            "overflow": null,
            "overflow_x": null,
            "overflow_y": null,
            "padding": null,
            "right": null,
            "top": null,
            "visibility": null,
            "width": null
          }
        },
        "6ea2d18a5d0d4142b0845bcf1431310c": {
          "model_module": "@jupyter-widgets/base",
          "model_name": "LayoutModel",
          "model_module_version": "1.2.0",
          "state": {
            "_model_module": "@jupyter-widgets/base",
            "_model_module_version": "1.2.0",
            "_model_name": "LayoutModel",
            "_view_count": null,
            "_view_module": "@jupyter-widgets/base",
            "_view_module_version": "1.2.0",
            "_view_name": "LayoutView",
            "align_content": null,
            "align_items": null,
            "align_self": null,
            "border": null,
            "bottom": null,
            "display": null,
            "flex": null,
            "flex_flow": null,
            "grid_area": null,
            "grid_auto_columns": null,
            "grid_auto_flow": null,
            "grid_auto_rows": null,
            "grid_column": null,
            "grid_gap": null,
            "grid_row": null,
            "grid_template_areas": null,
            "grid_template_columns": null,
            "grid_template_rows": null,
            "height": null,
            "justify_content": null,
            "justify_items": null,
            "left": null,
            "margin": null,
            "max_height": null,
            "max_width": null,
            "min_height": null,
            "min_width": null,
            "object_fit": null,
            "object_position": null,
            "order": null,
            "overflow": null,
            "overflow_x": null,
            "overflow_y": null,
            "padding": null,
            "right": null,
            "top": null,
            "visibility": null,
            "width": null
          }
        },
        "a81c4912bdfb4e148819b7a55e0fda45": {
          "model_module": "@jupyter-widgets/controls",
          "model_name": "DescriptionStyleModel",
          "model_module_version": "1.5.0",
          "state": {
            "_model_module": "@jupyter-widgets/controls",
            "_model_module_version": "1.5.0",
            "_model_name": "DescriptionStyleModel",
            "_view_count": null,
            "_view_module": "@jupyter-widgets/base",
            "_view_module_version": "1.2.0",
            "_view_name": "StyleView",
            "description_width": ""
          }
        },
        "06f9eebf62be4a6eb7e960c01360d1b8": {
          "model_module": "@jupyter-widgets/base",
          "model_name": "LayoutModel",
          "model_module_version": "1.2.0",
          "state": {
            "_model_module": "@jupyter-widgets/base",
            "_model_module_version": "1.2.0",
            "_model_name": "LayoutModel",
            "_view_count": null,
            "_view_module": "@jupyter-widgets/base",
            "_view_module_version": "1.2.0",
            "_view_name": "LayoutView",
            "align_content": null,
            "align_items": null,
            "align_self": null,
            "border": null,
            "bottom": null,
            "display": null,
            "flex": null,
            "flex_flow": null,
            "grid_area": null,
            "grid_auto_columns": null,
            "grid_auto_flow": null,
            "grid_auto_rows": null,
            "grid_column": null,
            "grid_gap": null,
            "grid_row": null,
            "grid_template_areas": null,
            "grid_template_columns": null,
            "grid_template_rows": null,
            "height": null,
            "justify_content": null,
            "justify_items": null,
            "left": null,
            "margin": null,
            "max_height": null,
            "max_width": null,
            "min_height": null,
            "min_width": null,
            "object_fit": null,
            "object_position": null,
            "order": null,
            "overflow": null,
            "overflow_x": null,
            "overflow_y": null,
            "padding": null,
            "right": null,
            "top": null,
            "visibility": null,
            "width": "20px"
          }
        },
        "eccddc323bbd4622a1d01ad7ce629ffd": {
          "model_module": "@jupyter-widgets/controls",
          "model_name": "ProgressStyleModel",
          "model_module_version": "1.5.0",
          "state": {
            "_model_module": "@jupyter-widgets/controls",
            "_model_module_version": "1.5.0",
            "_model_name": "ProgressStyleModel",
            "_view_count": null,
            "_view_module": "@jupyter-widgets/base",
            "_view_module_version": "1.2.0",
            "_view_name": "StyleView",
            "bar_color": null,
            "description_width": ""
          }
        },
        "05b05c035a2b44598ae4a6b2a260dd83": {
          "model_module": "@jupyter-widgets/base",
          "model_name": "LayoutModel",
          "model_module_version": "1.2.0",
          "state": {
            "_model_module": "@jupyter-widgets/base",
            "_model_module_version": "1.2.0",
            "_model_name": "LayoutModel",
            "_view_count": null,
            "_view_module": "@jupyter-widgets/base",
            "_view_module_version": "1.2.0",
            "_view_name": "LayoutView",
            "align_content": null,
            "align_items": null,
            "align_self": null,
            "border": null,
            "bottom": null,
            "display": null,
            "flex": null,
            "flex_flow": null,
            "grid_area": null,
            "grid_auto_columns": null,
            "grid_auto_flow": null,
            "grid_auto_rows": null,
            "grid_column": null,
            "grid_gap": null,
            "grid_row": null,
            "grid_template_areas": null,
            "grid_template_columns": null,
            "grid_template_rows": null,
            "height": null,
            "justify_content": null,
            "justify_items": null,
            "left": null,
            "margin": null,
            "max_height": null,
            "max_width": null,
            "min_height": null,
            "min_width": null,
            "object_fit": null,
            "object_position": null,
            "order": null,
            "overflow": null,
            "overflow_x": null,
            "overflow_y": null,
            "padding": null,
            "right": null,
            "top": null,
            "visibility": null,
            "width": null
          }
        },
        "188aa86a52064bfd8e12ce2a1856c591": {
          "model_module": "@jupyter-widgets/controls",
          "model_name": "DescriptionStyleModel",
          "model_module_version": "1.5.0",
          "state": {
            "_model_module": "@jupyter-widgets/controls",
            "_model_module_version": "1.5.0",
            "_model_name": "DescriptionStyleModel",
            "_view_count": null,
            "_view_module": "@jupyter-widgets/base",
            "_view_module_version": "1.2.0",
            "_view_name": "StyleView",
            "description_width": ""
          }
        },
        "b7351519a68f41818793e3a257130676": {
          "model_module": "@jupyter-widgets/controls",
          "model_name": "HBoxModel",
          "model_module_version": "1.5.0",
          "state": {
            "_dom_classes": [],
            "_model_module": "@jupyter-widgets/controls",
            "_model_module_version": "1.5.0",
            "_model_name": "HBoxModel",
            "_view_count": null,
            "_view_module": "@jupyter-widgets/controls",
            "_view_module_version": "1.5.0",
            "_view_name": "HBoxView",
            "box_style": "",
            "children": [
              "IPY_MODEL_60c78fd52e5f467e879bbaf2c4c5e5d6",
              "IPY_MODEL_d8c4c0fc6110493b822d38a50126edcc",
              "IPY_MODEL_28e493871a564c579206ab6c73b6009c"
            ],
            "layout": "IPY_MODEL_2ab67887350741cb9363838ee7ee4d68"
          }
        },
        "60c78fd52e5f467e879bbaf2c4c5e5d6": {
          "model_module": "@jupyter-widgets/controls",
          "model_name": "HTMLModel",
          "model_module_version": "1.5.0",
          "state": {
            "_dom_classes": [],
            "_model_module": "@jupyter-widgets/controls",
            "_model_module_version": "1.5.0",
            "_model_name": "HTMLModel",
            "_view_count": null,
            "_view_module": "@jupyter-widgets/controls",
            "_view_module_version": "1.5.0",
            "_view_name": "HTMLView",
            "description": "",
            "description_tooltip": null,
            "layout": "IPY_MODEL_26f7aa8e606e4093a71d3818f66c6b6f",
            "placeholder": "​",
            "style": "IPY_MODEL_0b796db7ab064576ad5c78a0e485281b",
            "value": "Generating splits...: 100%"
          }
        },
        "d8c4c0fc6110493b822d38a50126edcc": {
          "model_module": "@jupyter-widgets/controls",
          "model_name": "FloatProgressModel",
          "model_module_version": "1.5.0",
          "state": {
            "_dom_classes": [],
            "_model_module": "@jupyter-widgets/controls",
            "_model_module_version": "1.5.0",
            "_model_name": "FloatProgressModel",
            "_view_count": null,
            "_view_module": "@jupyter-widgets/controls",
            "_view_module_version": "1.5.0",
            "_view_name": "ProgressView",
            "bar_style": "",
            "description": "",
            "description_tooltip": null,
            "layout": "IPY_MODEL_6f571da5f3bc435f87e45c33fca77508",
            "max": 3,
            "min": 0,
            "orientation": "horizontal",
            "style": "IPY_MODEL_cfdab06ebeaf429ba1133beaa51fb119",
            "value": 3
          }
        },
        "28e493871a564c579206ab6c73b6009c": {
          "model_module": "@jupyter-widgets/controls",
          "model_name": "HTMLModel",
          "model_module_version": "1.5.0",
          "state": {
            "_dom_classes": [],
            "_model_module": "@jupyter-widgets/controls",
            "_model_module_version": "1.5.0",
            "_model_name": "HTMLModel",
            "_view_count": null,
            "_view_module": "@jupyter-widgets/controls",
            "_view_module_version": "1.5.0",
            "_view_name": "HTMLView",
            "description": "",
            "description_tooltip": null,
            "layout": "IPY_MODEL_80922adb077c430b812c4683415ed9a7",
            "placeholder": "​",
            "style": "IPY_MODEL_856be45938fc413dacfd03ab7160414d",
            "value": " 3/3 [00:03&lt;00:00,  1.33 splits/s]"
          }
        },
        "2ab67887350741cb9363838ee7ee4d68": {
          "model_module": "@jupyter-widgets/base",
          "model_name": "LayoutModel",
          "model_module_version": "1.2.0",
          "state": {
            "_model_module": "@jupyter-widgets/base",
            "_model_module_version": "1.2.0",
            "_model_name": "LayoutModel",
            "_view_count": null,
            "_view_module": "@jupyter-widgets/base",
            "_view_module_version": "1.2.0",
            "_view_name": "LayoutView",
            "align_content": null,
            "align_items": null,
            "align_self": null,
            "border": null,
            "bottom": null,
            "display": null,
            "flex": null,
            "flex_flow": null,
            "grid_area": null,
            "grid_auto_columns": null,
            "grid_auto_flow": null,
            "grid_auto_rows": null,
            "grid_column": null,
            "grid_gap": null,
            "grid_row": null,
            "grid_template_areas": null,
            "grid_template_columns": null,
            "grid_template_rows": null,
            "height": null,
            "justify_content": null,
            "justify_items": null,
            "left": null,
            "margin": null,
            "max_height": null,
            "max_width": null,
            "min_height": null,
            "min_width": null,
            "object_fit": null,
            "object_position": null,
            "order": null,
            "overflow": null,
            "overflow_x": null,
            "overflow_y": null,
            "padding": null,
            "right": null,
            "top": null,
            "visibility": "hidden",
            "width": null
          }
        },
        "26f7aa8e606e4093a71d3818f66c6b6f": {
          "model_module": "@jupyter-widgets/base",
          "model_name": "LayoutModel",
          "model_module_version": "1.2.0",
          "state": {
            "_model_module": "@jupyter-widgets/base",
            "_model_module_version": "1.2.0",
            "_model_name": "LayoutModel",
            "_view_count": null,
            "_view_module": "@jupyter-widgets/base",
            "_view_module_version": "1.2.0",
            "_view_name": "LayoutView",
            "align_content": null,
            "align_items": null,
            "align_self": null,
            "border": null,
            "bottom": null,
            "display": null,
            "flex": null,
            "flex_flow": null,
            "grid_area": null,
            "grid_auto_columns": null,
            "grid_auto_flow": null,
            "grid_auto_rows": null,
            "grid_column": null,
            "grid_gap": null,
            "grid_row": null,
            "grid_template_areas": null,
            "grid_template_columns": null,
            "grid_template_rows": null,
            "height": null,
            "justify_content": null,
            "justify_items": null,
            "left": null,
            "margin": null,
            "max_height": null,
            "max_width": null,
            "min_height": null,
            "min_width": null,
            "object_fit": null,
            "object_position": null,
            "order": null,
            "overflow": null,
            "overflow_x": null,
            "overflow_y": null,
            "padding": null,
            "right": null,
            "top": null,
            "visibility": null,
            "width": null
          }
        },
        "0b796db7ab064576ad5c78a0e485281b": {
          "model_module": "@jupyter-widgets/controls",
          "model_name": "DescriptionStyleModel",
          "model_module_version": "1.5.0",
          "state": {
            "_model_module": "@jupyter-widgets/controls",
            "_model_module_version": "1.5.0",
            "_model_name": "DescriptionStyleModel",
            "_view_count": null,
            "_view_module": "@jupyter-widgets/base",
            "_view_module_version": "1.2.0",
            "_view_name": "StyleView",
            "description_width": ""
          }
        },
        "6f571da5f3bc435f87e45c33fca77508": {
          "model_module": "@jupyter-widgets/base",
          "model_name": "LayoutModel",
          "model_module_version": "1.2.0",
          "state": {
            "_model_module": "@jupyter-widgets/base",
            "_model_module_version": "1.2.0",
            "_model_name": "LayoutModel",
            "_view_count": null,
            "_view_module": "@jupyter-widgets/base",
            "_view_module_version": "1.2.0",
            "_view_name": "LayoutView",
            "align_content": null,
            "align_items": null,
            "align_self": null,
            "border": null,
            "bottom": null,
            "display": null,
            "flex": null,
            "flex_flow": null,
            "grid_area": null,
            "grid_auto_columns": null,
            "grid_auto_flow": null,
            "grid_auto_rows": null,
            "grid_column": null,
            "grid_gap": null,
            "grid_row": null,
            "grid_template_areas": null,
            "grid_template_columns": null,
            "grid_template_rows": null,
            "height": null,
            "justify_content": null,
            "justify_items": null,
            "left": null,
            "margin": null,
            "max_height": null,
            "max_width": null,
            "min_height": null,
            "min_width": null,
            "object_fit": null,
            "object_position": null,
            "order": null,
            "overflow": null,
            "overflow_x": null,
            "overflow_y": null,
            "padding": null,
            "right": null,
            "top": null,
            "visibility": null,
            "width": null
          }
        },
        "cfdab06ebeaf429ba1133beaa51fb119": {
          "model_module": "@jupyter-widgets/controls",
          "model_name": "ProgressStyleModel",
          "model_module_version": "1.5.0",
          "state": {
            "_model_module": "@jupyter-widgets/controls",
            "_model_module_version": "1.5.0",
            "_model_name": "ProgressStyleModel",
            "_view_count": null,
            "_view_module": "@jupyter-widgets/base",
            "_view_module_version": "1.2.0",
            "_view_name": "StyleView",
            "bar_color": null,
            "description_width": ""
          }
        },
        "80922adb077c430b812c4683415ed9a7": {
          "model_module": "@jupyter-widgets/base",
          "model_name": "LayoutModel",
          "model_module_version": "1.2.0",
          "state": {
            "_model_module": "@jupyter-widgets/base",
            "_model_module_version": "1.2.0",
            "_model_name": "LayoutModel",
            "_view_count": null,
            "_view_module": "@jupyter-widgets/base",
            "_view_module_version": "1.2.0",
            "_view_name": "LayoutView",
            "align_content": null,
            "align_items": null,
            "align_self": null,
            "border": null,
            "bottom": null,
            "display": null,
            "flex": null,
            "flex_flow": null,
            "grid_area": null,
            "grid_auto_columns": null,
            "grid_auto_flow": null,
            "grid_auto_rows": null,
            "grid_column": null,
            "grid_gap": null,
            "grid_row": null,
            "grid_template_areas": null,
            "grid_template_columns": null,
            "grid_template_rows": null,
            "height": null,
            "justify_content": null,
            "justify_items": null,
            "left": null,
            "margin": null,
            "max_height": null,
            "max_width": null,
            "min_height": null,
            "min_width": null,
            "object_fit": null,
            "object_position": null,
            "order": null,
            "overflow": null,
            "overflow_x": null,
            "overflow_y": null,
            "padding": null,
            "right": null,
            "top": null,
            "visibility": null,
            "width": null
          }
        },
        "856be45938fc413dacfd03ab7160414d": {
          "model_module": "@jupyter-widgets/controls",
          "model_name": "DescriptionStyleModel",
          "model_module_version": "1.5.0",
          "state": {
            "_model_module": "@jupyter-widgets/controls",
            "_model_module_version": "1.5.0",
            "_model_name": "DescriptionStyleModel",
            "_view_count": null,
            "_view_module": "@jupyter-widgets/base",
            "_view_module_version": "1.2.0",
            "_view_name": "StyleView",
            "description_width": ""
          }
        },
        "f5dbf471765b49fa82a815826856a1bd": {
          "model_module": "@jupyter-widgets/controls",
          "model_name": "HBoxModel",
          "model_module_version": "1.5.0",
          "state": {
            "_dom_classes": [],
            "_model_module": "@jupyter-widgets/controls",
            "_model_module_version": "1.5.0",
            "_model_name": "HBoxModel",
            "_view_count": null,
            "_view_module": "@jupyter-widgets/controls",
            "_view_module_version": "1.5.0",
            "_view_name": "HBoxView",
            "box_style": "",
            "children": [
              "IPY_MODEL_abc122d494264389bed268f0ea49ad1c",
              "IPY_MODEL_e2f59be6d22341e48b4ed3806f60b4c2",
              "IPY_MODEL_50a38dab53ec4869a49c2785936fb27d"
            ],
            "layout": "IPY_MODEL_09e5a836134f480198442fc6ccdacad3"
          }
        },
        "abc122d494264389bed268f0ea49ad1c": {
          "model_module": "@jupyter-widgets/controls",
          "model_name": "HTMLModel",
          "model_module_version": "1.5.0",
          "state": {
            "_dom_classes": [],
            "_model_module": "@jupyter-widgets/controls",
            "_model_module_version": "1.5.0",
            "_model_name": "HTMLModel",
            "_view_count": null,
            "_view_module": "@jupyter-widgets/controls",
            "_view_module_version": "1.5.0",
            "_view_name": "HTMLView",
            "description": "",
            "description_tooltip": null,
            "layout": "IPY_MODEL_a66b350ec9c3455dbbdf4cb4c2d56e09",
            "placeholder": "​",
            "style": "IPY_MODEL_dbe919cf40ae4a2eab62be84688bcbc5",
            "value": "Generating train examples...:  74%"
          }
        },
        "e2f59be6d22341e48b4ed3806f60b4c2": {
          "model_module": "@jupyter-widgets/controls",
          "model_name": "FloatProgressModel",
          "model_module_version": "1.5.0",
          "state": {
            "_dom_classes": [],
            "_model_module": "@jupyter-widgets/controls",
            "_model_module_version": "1.5.0",
            "_model_name": "FloatProgressModel",
            "_view_count": null,
            "_view_module": "@jupyter-widgets/controls",
            "_view_module_version": "1.5.0",
            "_view_name": "ProgressView",
            "bar_style": "",
            "description": "",
            "description_tooltip": null,
            "layout": "IPY_MODEL_bdef7bea84ad4296b074a57b3ee99395",
            "max": 51785,
            "min": 0,
            "orientation": "horizontal",
            "style": "IPY_MODEL_6928232744334bbfa4029af3b8c0127c",
            "value": 51785
          }
        },
        "50a38dab53ec4869a49c2785936fb27d": {
          "model_module": "@jupyter-widgets/controls",
          "model_name": "HTMLModel",
          "model_module_version": "1.5.0",
          "state": {
            "_dom_classes": [],
            "_model_module": "@jupyter-widgets/controls",
            "_model_module_version": "1.5.0",
            "_model_name": "HTMLModel",
            "_view_count": null,
            "_view_module": "@jupyter-widgets/controls",
            "_view_module_version": "1.5.0",
            "_view_name": "HTMLView",
            "description": "",
            "description_tooltip": null,
            "layout": "IPY_MODEL_366a5fc20a574b0daaafc9af1c626bfd",
            "placeholder": "​",
            "style": "IPY_MODEL_d0edd9f21eb044edbd1374b7f6f496d9",
            "value": " 38522/51785 [00:02&lt;00:00, 18591.60 examples/s]"
          }
        },
        "09e5a836134f480198442fc6ccdacad3": {
          "model_module": "@jupyter-widgets/base",
          "model_name": "LayoutModel",
          "model_module_version": "1.2.0",
          "state": {
            "_model_module": "@jupyter-widgets/base",
            "_model_module_version": "1.2.0",
            "_model_name": "LayoutModel",
            "_view_count": null,
            "_view_module": "@jupyter-widgets/base",
            "_view_module_version": "1.2.0",
            "_view_name": "LayoutView",
            "align_content": null,
            "align_items": null,
            "align_self": null,
            "border": null,
            "bottom": null,
            "display": null,
            "flex": null,
            "flex_flow": null,
            "grid_area": null,
            "grid_auto_columns": null,
            "grid_auto_flow": null,
            "grid_auto_rows": null,
            "grid_column": null,
            "grid_gap": null,
            "grid_row": null,
            "grid_template_areas": null,
            "grid_template_columns": null,
            "grid_template_rows": null,
            "height": null,
            "justify_content": null,
            "justify_items": null,
            "left": null,
            "margin": null,
            "max_height": null,
            "max_width": null,
            "min_height": null,
            "min_width": null,
            "object_fit": null,
            "object_position": null,
            "order": null,
            "overflow": null,
            "overflow_x": null,
            "overflow_y": null,
            "padding": null,
            "right": null,
            "top": null,
            "visibility": "hidden",
            "width": null
          }
        },
        "a66b350ec9c3455dbbdf4cb4c2d56e09": {
          "model_module": "@jupyter-widgets/base",
          "model_name": "LayoutModel",
          "model_module_version": "1.2.0",
          "state": {
            "_model_module": "@jupyter-widgets/base",
            "_model_module_version": "1.2.0",
            "_model_name": "LayoutModel",
            "_view_count": null,
            "_view_module": "@jupyter-widgets/base",
            "_view_module_version": "1.2.0",
            "_view_name": "LayoutView",
            "align_content": null,
            "align_items": null,
            "align_self": null,
            "border": null,
            "bottom": null,
            "display": null,
            "flex": null,
            "flex_flow": null,
            "grid_area": null,
            "grid_auto_columns": null,
            "grid_auto_flow": null,
            "grid_auto_rows": null,
            "grid_column": null,
            "grid_gap": null,
            "grid_row": null,
            "grid_template_areas": null,
            "grid_template_columns": null,
            "grid_template_rows": null,
            "height": null,
            "justify_content": null,
            "justify_items": null,
            "left": null,
            "margin": null,
            "max_height": null,
            "max_width": null,
            "min_height": null,
            "min_width": null,
            "object_fit": null,
            "object_position": null,
            "order": null,
            "overflow": null,
            "overflow_x": null,
            "overflow_y": null,
            "padding": null,
            "right": null,
            "top": null,
            "visibility": null,
            "width": null
          }
        },
        "dbe919cf40ae4a2eab62be84688bcbc5": {
          "model_module": "@jupyter-widgets/controls",
          "model_name": "DescriptionStyleModel",
          "model_module_version": "1.5.0",
          "state": {
            "_model_module": "@jupyter-widgets/controls",
            "_model_module_version": "1.5.0",
            "_model_name": "DescriptionStyleModel",
            "_view_count": null,
            "_view_module": "@jupyter-widgets/base",
            "_view_module_version": "1.2.0",
            "_view_name": "StyleView",
            "description_width": ""
          }
        },
        "bdef7bea84ad4296b074a57b3ee99395": {
          "model_module": "@jupyter-widgets/base",
          "model_name": "LayoutModel",
          "model_module_version": "1.2.0",
          "state": {
            "_model_module": "@jupyter-widgets/base",
            "_model_module_version": "1.2.0",
            "_model_name": "LayoutModel",
            "_view_count": null,
            "_view_module": "@jupyter-widgets/base",
            "_view_module_version": "1.2.0",
            "_view_name": "LayoutView",
            "align_content": null,
            "align_items": null,
            "align_self": null,
            "border": null,
            "bottom": null,
            "display": null,
            "flex": null,
            "flex_flow": null,
            "grid_area": null,
            "grid_auto_columns": null,
            "grid_auto_flow": null,
            "grid_auto_rows": null,
            "grid_column": null,
            "grid_gap": null,
            "grid_row": null,
            "grid_template_areas": null,
            "grid_template_columns": null,
            "grid_template_rows": null,
            "height": null,
            "justify_content": null,
            "justify_items": null,
            "left": null,
            "margin": null,
            "max_height": null,
            "max_width": null,
            "min_height": null,
            "min_width": null,
            "object_fit": null,
            "object_position": null,
            "order": null,
            "overflow": null,
            "overflow_x": null,
            "overflow_y": null,
            "padding": null,
            "right": null,
            "top": null,
            "visibility": null,
            "width": null
          }
        },
        "6928232744334bbfa4029af3b8c0127c": {
          "model_module": "@jupyter-widgets/controls",
          "model_name": "ProgressStyleModel",
          "model_module_version": "1.5.0",
          "state": {
            "_model_module": "@jupyter-widgets/controls",
            "_model_module_version": "1.5.0",
            "_model_name": "ProgressStyleModel",
            "_view_count": null,
            "_view_module": "@jupyter-widgets/base",
            "_view_module_version": "1.2.0",
            "_view_name": "StyleView",
            "bar_color": null,
            "description_width": ""
          }
        },
        "366a5fc20a574b0daaafc9af1c626bfd": {
          "model_module": "@jupyter-widgets/base",
          "model_name": "LayoutModel",
          "model_module_version": "1.2.0",
          "state": {
            "_model_module": "@jupyter-widgets/base",
            "_model_module_version": "1.2.0",
            "_model_name": "LayoutModel",
            "_view_count": null,
            "_view_module": "@jupyter-widgets/base",
            "_view_module_version": "1.2.0",
            "_view_name": "LayoutView",
            "align_content": null,
            "align_items": null,
            "align_self": null,
            "border": null,
            "bottom": null,
            "display": null,
            "flex": null,
            "flex_flow": null,
            "grid_area": null,
            "grid_auto_columns": null,
            "grid_auto_flow": null,
            "grid_auto_rows": null,
            "grid_column": null,
            "grid_gap": null,
            "grid_row": null,
            "grid_template_areas": null,
            "grid_template_columns": null,
            "grid_template_rows": null,
            "height": null,
            "justify_content": null,
            "justify_items": null,
            "left": null,
            "margin": null,
            "max_height": null,
            "max_width": null,
            "min_height": null,
            "min_width": null,
            "object_fit": null,
            "object_position": null,
            "order": null,
            "overflow": null,
            "overflow_x": null,
            "overflow_y": null,
            "padding": null,
            "right": null,
            "top": null,
            "visibility": null,
            "width": null
          }
        },
        "d0edd9f21eb044edbd1374b7f6f496d9": {
          "model_module": "@jupyter-widgets/controls",
          "model_name": "DescriptionStyleModel",
          "model_module_version": "1.5.0",
          "state": {
            "_model_module": "@jupyter-widgets/controls",
            "_model_module_version": "1.5.0",
            "_model_name": "DescriptionStyleModel",
            "_view_count": null,
            "_view_module": "@jupyter-widgets/base",
            "_view_module_version": "1.2.0",
            "_view_name": "StyleView",
            "description_width": ""
          }
        },
        "a7116ccc56dc4d2ea3e8e4f8ba2744ae": {
          "model_module": "@jupyter-widgets/controls",
          "model_name": "HBoxModel",
          "model_module_version": "1.5.0",
          "state": {
            "_dom_classes": [],
            "_model_module": "@jupyter-widgets/controls",
            "_model_module_version": "1.5.0",
            "_model_name": "HBoxModel",
            "_view_count": null,
            "_view_module": "@jupyter-widgets/controls",
            "_view_module_version": "1.5.0",
            "_view_name": "HBoxView",
            "box_style": "",
            "children": [
              "IPY_MODEL_fd4cc0952414476d8b8fe12953123b4e",
              "IPY_MODEL_f7c94a3d88f0477cb06aae72227f5ac4",
              "IPY_MODEL_91ffaabc5d6c471790c3553f0773facd"
            ],
            "layout": "IPY_MODEL_5bf4ecd412d44096a0f5b7b121096616"
          }
        },
        "fd4cc0952414476d8b8fe12953123b4e": {
          "model_module": "@jupyter-widgets/controls",
          "model_name": "HTMLModel",
          "model_module_version": "1.5.0",
          "state": {
            "_dom_classes": [],
            "_model_module": "@jupyter-widgets/controls",
            "_model_module_version": "1.5.0",
            "_model_name": "HTMLModel",
            "_view_count": null,
            "_view_module": "@jupyter-widgets/controls",
            "_view_module_version": "1.5.0",
            "_view_name": "HTMLView",
            "description": "",
            "description_tooltip": null,
            "layout": "IPY_MODEL_59884ee6a2eb4dd4a11de56f2ea4eccf",
            "placeholder": "​",
            "style": "IPY_MODEL_5aa5c7a92ea5483b86ffd66fcc3e3bc8",
            "value": "Shuffling /root/tensorflow_datasets/ted_hrlr_translate/pt_to_en/incomplete.F1N8RN_1.0.0/ted_hrlr_translate-train.tfrecord*...:   0%"
          }
        },
        "f7c94a3d88f0477cb06aae72227f5ac4": {
          "model_module": "@jupyter-widgets/controls",
          "model_name": "FloatProgressModel",
          "model_module_version": "1.5.0",
          "state": {
            "_dom_classes": [],
            "_model_module": "@jupyter-widgets/controls",
            "_model_module_version": "1.5.0",
            "_model_name": "FloatProgressModel",
            "_view_count": null,
            "_view_module": "@jupyter-widgets/controls",
            "_view_module_version": "1.5.0",
            "_view_name": "ProgressView",
            "bar_style": "",
            "description": "",
            "description_tooltip": null,
            "layout": "IPY_MODEL_f963ce4aa60e49cfa0cf6eed0bb5d3f8",
            "max": 51785,
            "min": 0,
            "orientation": "horizontal",
            "style": "IPY_MODEL_54d47bb4dd9b402e853e321cb48872d8",
            "value": 51785
          }
        },
        "91ffaabc5d6c471790c3553f0773facd": {
          "model_module": "@jupyter-widgets/controls",
          "model_name": "HTMLModel",
          "model_module_version": "1.5.0",
          "state": {
            "_dom_classes": [],
            "_model_module": "@jupyter-widgets/controls",
            "_model_module_version": "1.5.0",
            "_model_name": "HTMLModel",
            "_view_count": null,
            "_view_module": "@jupyter-widgets/controls",
            "_view_module_version": "1.5.0",
            "_view_name": "HTMLView",
            "description": "",
            "description_tooltip": null,
            "layout": "IPY_MODEL_f8a9e510b3b14b179ad054748ca274c7",
            "placeholder": "​",
            "style": "IPY_MODEL_34c53c0e8f8c4bfa9c6222bebebc728c",
            "value": " 0/51785 [00:00&lt;?, ? examples/s]"
          }
        },
        "5bf4ecd412d44096a0f5b7b121096616": {
          "model_module": "@jupyter-widgets/base",
          "model_name": "LayoutModel",
          "model_module_version": "1.2.0",
          "state": {
            "_model_module": "@jupyter-widgets/base",
            "_model_module_version": "1.2.0",
            "_model_name": "LayoutModel",
            "_view_count": null,
            "_view_module": "@jupyter-widgets/base",
            "_view_module_version": "1.2.0",
            "_view_name": "LayoutView",
            "align_content": null,
            "align_items": null,
            "align_self": null,
            "border": null,
            "bottom": null,
            "display": null,
            "flex": null,
            "flex_flow": null,
            "grid_area": null,
            "grid_auto_columns": null,
            "grid_auto_flow": null,
            "grid_auto_rows": null,
            "grid_column": null,
            "grid_gap": null,
            "grid_row": null,
            "grid_template_areas": null,
            "grid_template_columns": null,
            "grid_template_rows": null,
            "height": null,
            "justify_content": null,
            "justify_items": null,
            "left": null,
            "margin": null,
            "max_height": null,
            "max_width": null,
            "min_height": null,
            "min_width": null,
            "object_fit": null,
            "object_position": null,
            "order": null,
            "overflow": null,
            "overflow_x": null,
            "overflow_y": null,
            "padding": null,
            "right": null,
            "top": null,
            "visibility": "hidden",
            "width": null
          }
        },
        "59884ee6a2eb4dd4a11de56f2ea4eccf": {
          "model_module": "@jupyter-widgets/base",
          "model_name": "LayoutModel",
          "model_module_version": "1.2.0",
          "state": {
            "_model_module": "@jupyter-widgets/base",
            "_model_module_version": "1.2.0",
            "_model_name": "LayoutModel",
            "_view_count": null,
            "_view_module": "@jupyter-widgets/base",
            "_view_module_version": "1.2.0",
            "_view_name": "LayoutView",
            "align_content": null,
            "align_items": null,
            "align_self": null,
            "border": null,
            "bottom": null,
            "display": null,
            "flex": null,
            "flex_flow": null,
            "grid_area": null,
            "grid_auto_columns": null,
            "grid_auto_flow": null,
            "grid_auto_rows": null,
            "grid_column": null,
            "grid_gap": null,
            "grid_row": null,
            "grid_template_areas": null,
            "grid_template_columns": null,
            "grid_template_rows": null,
            "height": null,
            "justify_content": null,
            "justify_items": null,
            "left": null,
            "margin": null,
            "max_height": null,
            "max_width": null,
            "min_height": null,
            "min_width": null,
            "object_fit": null,
            "object_position": null,
            "order": null,
            "overflow": null,
            "overflow_x": null,
            "overflow_y": null,
            "padding": null,
            "right": null,
            "top": null,
            "visibility": null,
            "width": null
          }
        },
        "5aa5c7a92ea5483b86ffd66fcc3e3bc8": {
          "model_module": "@jupyter-widgets/controls",
          "model_name": "DescriptionStyleModel",
          "model_module_version": "1.5.0",
          "state": {
            "_model_module": "@jupyter-widgets/controls",
            "_model_module_version": "1.5.0",
            "_model_name": "DescriptionStyleModel",
            "_view_count": null,
            "_view_module": "@jupyter-widgets/base",
            "_view_module_version": "1.2.0",
            "_view_name": "StyleView",
            "description_width": ""
          }
        },
        "f963ce4aa60e49cfa0cf6eed0bb5d3f8": {
          "model_module": "@jupyter-widgets/base",
          "model_name": "LayoutModel",
          "model_module_version": "1.2.0",
          "state": {
            "_model_module": "@jupyter-widgets/base",
            "_model_module_version": "1.2.0",
            "_model_name": "LayoutModel",
            "_view_count": null,
            "_view_module": "@jupyter-widgets/base",
            "_view_module_version": "1.2.0",
            "_view_name": "LayoutView",
            "align_content": null,
            "align_items": null,
            "align_self": null,
            "border": null,
            "bottom": null,
            "display": null,
            "flex": null,
            "flex_flow": null,
            "grid_area": null,
            "grid_auto_columns": null,
            "grid_auto_flow": null,
            "grid_auto_rows": null,
            "grid_column": null,
            "grid_gap": null,
            "grid_row": null,
            "grid_template_areas": null,
            "grid_template_columns": null,
            "grid_template_rows": null,
            "height": null,
            "justify_content": null,
            "justify_items": null,
            "left": null,
            "margin": null,
            "max_height": null,
            "max_width": null,
            "min_height": null,
            "min_width": null,
            "object_fit": null,
            "object_position": null,
            "order": null,
            "overflow": null,
            "overflow_x": null,
            "overflow_y": null,
            "padding": null,
            "right": null,
            "top": null,
            "visibility": null,
            "width": null
          }
        },
        "54d47bb4dd9b402e853e321cb48872d8": {
          "model_module": "@jupyter-widgets/controls",
          "model_name": "ProgressStyleModel",
          "model_module_version": "1.5.0",
          "state": {
            "_model_module": "@jupyter-widgets/controls",
            "_model_module_version": "1.5.0",
            "_model_name": "ProgressStyleModel",
            "_view_count": null,
            "_view_module": "@jupyter-widgets/base",
            "_view_module_version": "1.2.0",
            "_view_name": "StyleView",
            "bar_color": null,
            "description_width": ""
          }
        },
        "f8a9e510b3b14b179ad054748ca274c7": {
          "model_module": "@jupyter-widgets/base",
          "model_name": "LayoutModel",
          "model_module_version": "1.2.0",
          "state": {
            "_model_module": "@jupyter-widgets/base",
            "_model_module_version": "1.2.0",
            "_model_name": "LayoutModel",
            "_view_count": null,
            "_view_module": "@jupyter-widgets/base",
            "_view_module_version": "1.2.0",
            "_view_name": "LayoutView",
            "align_content": null,
            "align_items": null,
            "align_self": null,
            "border": null,
            "bottom": null,
            "display": null,
            "flex": null,
            "flex_flow": null,
            "grid_area": null,
            "grid_auto_columns": null,
            "grid_auto_flow": null,
            "grid_auto_rows": null,
            "grid_column": null,
            "grid_gap": null,
            "grid_row": null,
            "grid_template_areas": null,
            "grid_template_columns": null,
            "grid_template_rows": null,
            "height": null,
            "justify_content": null,
            "justify_items": null,
            "left": null,
            "margin": null,
            "max_height": null,
            "max_width": null,
            "min_height": null,
            "min_width": null,
            "object_fit": null,
            "object_position": null,
            "order": null,
            "overflow": null,
            "overflow_x": null,
            "overflow_y": null,
            "padding": null,
            "right": null,
            "top": null,
            "visibility": null,
            "width": null
          }
        },
        "34c53c0e8f8c4bfa9c6222bebebc728c": {
          "model_module": "@jupyter-widgets/controls",
          "model_name": "DescriptionStyleModel",
          "model_module_version": "1.5.0",
          "state": {
            "_model_module": "@jupyter-widgets/controls",
            "_model_module_version": "1.5.0",
            "_model_name": "DescriptionStyleModel",
            "_view_count": null,
            "_view_module": "@jupyter-widgets/base",
            "_view_module_version": "1.2.0",
            "_view_name": "StyleView",
            "description_width": ""
          }
        },
        "6c5b79ac034e46409719e239ec50f559": {
          "model_module": "@jupyter-widgets/controls",
          "model_name": "HBoxModel",
          "model_module_version": "1.5.0",
          "state": {
            "_dom_classes": [],
            "_model_module": "@jupyter-widgets/controls",
            "_model_module_version": "1.5.0",
            "_model_name": "HBoxModel",
            "_view_count": null,
            "_view_module": "@jupyter-widgets/controls",
            "_view_module_version": "1.5.0",
            "_view_name": "HBoxView",
            "box_style": "",
            "children": [
              "IPY_MODEL_20cd2000339b498e9e13b0512667d496",
              "IPY_MODEL_942b762f3e624067b9b8bac42ce88b40",
              "IPY_MODEL_52262f5a95694b0693301b435bef3764"
            ],
            "layout": "IPY_MODEL_27eef6c467ed45f0adf604d2f8b0e05e"
          }
        },
        "20cd2000339b498e9e13b0512667d496": {
          "model_module": "@jupyter-widgets/controls",
          "model_name": "HTMLModel",
          "model_module_version": "1.5.0",
          "state": {
            "_dom_classes": [],
            "_model_module": "@jupyter-widgets/controls",
            "_model_module_version": "1.5.0",
            "_model_name": "HTMLModel",
            "_view_count": null,
            "_view_module": "@jupyter-widgets/controls",
            "_view_module_version": "1.5.0",
            "_view_name": "HTMLView",
            "description": "",
            "description_tooltip": null,
            "layout": "IPY_MODEL_6b794cdaa0b74f8a8205d2126f5fcf93",
            "placeholder": "​",
            "style": "IPY_MODEL_3c2d14985c844f9c8a67e07e2b90172e",
            "value": "Generating validation examples...:   0%"
          }
        },
        "942b762f3e624067b9b8bac42ce88b40": {
          "model_module": "@jupyter-widgets/controls",
          "model_name": "FloatProgressModel",
          "model_module_version": "1.5.0",
          "state": {
            "_dom_classes": [],
            "_model_module": "@jupyter-widgets/controls",
            "_model_module_version": "1.5.0",
            "_model_name": "FloatProgressModel",
            "_view_count": null,
            "_view_module": "@jupyter-widgets/controls",
            "_view_module_version": "1.5.0",
            "_view_name": "ProgressView",
            "bar_style": "",
            "description": "",
            "description_tooltip": null,
            "layout": "IPY_MODEL_e6bdb43f343846a08a7d5c986f24c1ba",
            "max": 1193,
            "min": 0,
            "orientation": "horizontal",
            "style": "IPY_MODEL_de3945bd03014eacbdbfc222af188b7a",
            "value": 1193
          }
        },
        "52262f5a95694b0693301b435bef3764": {
          "model_module": "@jupyter-widgets/controls",
          "model_name": "HTMLModel",
          "model_module_version": "1.5.0",
          "state": {
            "_dom_classes": [],
            "_model_module": "@jupyter-widgets/controls",
            "_model_module_version": "1.5.0",
            "_model_name": "HTMLModel",
            "_view_count": null,
            "_view_module": "@jupyter-widgets/controls",
            "_view_module_version": "1.5.0",
            "_view_name": "HTMLView",
            "description": "",
            "description_tooltip": null,
            "layout": "IPY_MODEL_ca0deda8491a4788aabbf4302cc139ff",
            "placeholder": "​",
            "style": "IPY_MODEL_7f80cfaa325a42658aec55e53751c0d3",
            "value": " 0/1193 [00:00&lt;?, ? examples/s]"
          }
        },
        "27eef6c467ed45f0adf604d2f8b0e05e": {
          "model_module": "@jupyter-widgets/base",
          "model_name": "LayoutModel",
          "model_module_version": "1.2.0",
          "state": {
            "_model_module": "@jupyter-widgets/base",
            "_model_module_version": "1.2.0",
            "_model_name": "LayoutModel",
            "_view_count": null,
            "_view_module": "@jupyter-widgets/base",
            "_view_module_version": "1.2.0",
            "_view_name": "LayoutView",
            "align_content": null,
            "align_items": null,
            "align_self": null,
            "border": null,
            "bottom": null,
            "display": null,
            "flex": null,
            "flex_flow": null,
            "grid_area": null,
            "grid_auto_columns": null,
            "grid_auto_flow": null,
            "grid_auto_rows": null,
            "grid_column": null,
            "grid_gap": null,
            "grid_row": null,
            "grid_template_areas": null,
            "grid_template_columns": null,
            "grid_template_rows": null,
            "height": null,
            "justify_content": null,
            "justify_items": null,
            "left": null,
            "margin": null,
            "max_height": null,
            "max_width": null,
            "min_height": null,
            "min_width": null,
            "object_fit": null,
            "object_position": null,
            "order": null,
            "overflow": null,
            "overflow_x": null,
            "overflow_y": null,
            "padding": null,
            "right": null,
            "top": null,
            "visibility": "hidden",
            "width": null
          }
        },
        "6b794cdaa0b74f8a8205d2126f5fcf93": {
          "model_module": "@jupyter-widgets/base",
          "model_name": "LayoutModel",
          "model_module_version": "1.2.0",
          "state": {
            "_model_module": "@jupyter-widgets/base",
            "_model_module_version": "1.2.0",
            "_model_name": "LayoutModel",
            "_view_count": null,
            "_view_module": "@jupyter-widgets/base",
            "_view_module_version": "1.2.0",
            "_view_name": "LayoutView",
            "align_content": null,
            "align_items": null,
            "align_self": null,
            "border": null,
            "bottom": null,
            "display": null,
            "flex": null,
            "flex_flow": null,
            "grid_area": null,
            "grid_auto_columns": null,
            "grid_auto_flow": null,
            "grid_auto_rows": null,
            "grid_column": null,
            "grid_gap": null,
            "grid_row": null,
            "grid_template_areas": null,
            "grid_template_columns": null,
            "grid_template_rows": null,
            "height": null,
            "justify_content": null,
            "justify_items": null,
            "left": null,
            "margin": null,
            "max_height": null,
            "max_width": null,
            "min_height": null,
            "min_width": null,
            "object_fit": null,
            "object_position": null,
            "order": null,
            "overflow": null,
            "overflow_x": null,
            "overflow_y": null,
            "padding": null,
            "right": null,
            "top": null,
            "visibility": null,
            "width": null
          }
        },
        "3c2d14985c844f9c8a67e07e2b90172e": {
          "model_module": "@jupyter-widgets/controls",
          "model_name": "DescriptionStyleModel",
          "model_module_version": "1.5.0",
          "state": {
            "_model_module": "@jupyter-widgets/controls",
            "_model_module_version": "1.5.0",
            "_model_name": "DescriptionStyleModel",
            "_view_count": null,
            "_view_module": "@jupyter-widgets/base",
            "_view_module_version": "1.2.0",
            "_view_name": "StyleView",
            "description_width": ""
          }
        },
        "e6bdb43f343846a08a7d5c986f24c1ba": {
          "model_module": "@jupyter-widgets/base",
          "model_name": "LayoutModel",
          "model_module_version": "1.2.0",
          "state": {
            "_model_module": "@jupyter-widgets/base",
            "_model_module_version": "1.2.0",
            "_model_name": "LayoutModel",
            "_view_count": null,
            "_view_module": "@jupyter-widgets/base",
            "_view_module_version": "1.2.0",
            "_view_name": "LayoutView",
            "align_content": null,
            "align_items": null,
            "align_self": null,
            "border": null,
            "bottom": null,
            "display": null,
            "flex": null,
            "flex_flow": null,
            "grid_area": null,
            "grid_auto_columns": null,
            "grid_auto_flow": null,
            "grid_auto_rows": null,
            "grid_column": null,
            "grid_gap": null,
            "grid_row": null,
            "grid_template_areas": null,
            "grid_template_columns": null,
            "grid_template_rows": null,
            "height": null,
            "justify_content": null,
            "justify_items": null,
            "left": null,
            "margin": null,
            "max_height": null,
            "max_width": null,
            "min_height": null,
            "min_width": null,
            "object_fit": null,
            "object_position": null,
            "order": null,
            "overflow": null,
            "overflow_x": null,
            "overflow_y": null,
            "padding": null,
            "right": null,
            "top": null,
            "visibility": null,
            "width": null
          }
        },
        "de3945bd03014eacbdbfc222af188b7a": {
          "model_module": "@jupyter-widgets/controls",
          "model_name": "ProgressStyleModel",
          "model_module_version": "1.5.0",
          "state": {
            "_model_module": "@jupyter-widgets/controls",
            "_model_module_version": "1.5.0",
            "_model_name": "ProgressStyleModel",
            "_view_count": null,
            "_view_module": "@jupyter-widgets/base",
            "_view_module_version": "1.2.0",
            "_view_name": "StyleView",
            "bar_color": null,
            "description_width": ""
          }
        },
        "ca0deda8491a4788aabbf4302cc139ff": {
          "model_module": "@jupyter-widgets/base",
          "model_name": "LayoutModel",
          "model_module_version": "1.2.0",
          "state": {
            "_model_module": "@jupyter-widgets/base",
            "_model_module_version": "1.2.0",
            "_model_name": "LayoutModel",
            "_view_count": null,
            "_view_module": "@jupyter-widgets/base",
            "_view_module_version": "1.2.0",
            "_view_name": "LayoutView",
            "align_content": null,
            "align_items": null,
            "align_self": null,
            "border": null,
            "bottom": null,
            "display": null,
            "flex": null,
            "flex_flow": null,
            "grid_area": null,
            "grid_auto_columns": null,
            "grid_auto_flow": null,
            "grid_auto_rows": null,
            "grid_column": null,
            "grid_gap": null,
            "grid_row": null,
            "grid_template_areas": null,
            "grid_template_columns": null,
            "grid_template_rows": null,
            "height": null,
            "justify_content": null,
            "justify_items": null,
            "left": null,
            "margin": null,
            "max_height": null,
            "max_width": null,
            "min_height": null,
            "min_width": null,
            "object_fit": null,
            "object_position": null,
            "order": null,
            "overflow": null,
            "overflow_x": null,
            "overflow_y": null,
            "padding": null,
            "right": null,
            "top": null,
            "visibility": null,
            "width": null
          }
        },
        "7f80cfaa325a42658aec55e53751c0d3": {
          "model_module": "@jupyter-widgets/controls",
          "model_name": "DescriptionStyleModel",
          "model_module_version": "1.5.0",
          "state": {
            "_model_module": "@jupyter-widgets/controls",
            "_model_module_version": "1.5.0",
            "_model_name": "DescriptionStyleModel",
            "_view_count": null,
            "_view_module": "@jupyter-widgets/base",
            "_view_module_version": "1.2.0",
            "_view_name": "StyleView",
            "description_width": ""
          }
        },
        "6849391cb5034e77aa0d6f98ff9ef7bd": {
          "model_module": "@jupyter-widgets/controls",
          "model_name": "HBoxModel",
          "model_module_version": "1.5.0",
          "state": {
            "_dom_classes": [],
            "_model_module": "@jupyter-widgets/controls",
            "_model_module_version": "1.5.0",
            "_model_name": "HBoxModel",
            "_view_count": null,
            "_view_module": "@jupyter-widgets/controls",
            "_view_module_version": "1.5.0",
            "_view_name": "HBoxView",
            "box_style": "",
            "children": [
              "IPY_MODEL_bb82d590f54a4873915d50eeceb21974",
              "IPY_MODEL_f43cf87db722435b9220dc1094230897",
              "IPY_MODEL_0c6d572c808d484f854b511c77296bfd"
            ],
            "layout": "IPY_MODEL_482209a2ae7d45248aed4dd4ed100c7d"
          }
        },
        "bb82d590f54a4873915d50eeceb21974": {
          "model_module": "@jupyter-widgets/controls",
          "model_name": "HTMLModel",
          "model_module_version": "1.5.0",
          "state": {
            "_dom_classes": [],
            "_model_module": "@jupyter-widgets/controls",
            "_model_module_version": "1.5.0",
            "_model_name": "HTMLModel",
            "_view_count": null,
            "_view_module": "@jupyter-widgets/controls",
            "_view_module_version": "1.5.0",
            "_view_name": "HTMLView",
            "description": "",
            "description_tooltip": null,
            "layout": "IPY_MODEL_017af57c043844779c655fa2cc1353b4",
            "placeholder": "​",
            "style": "IPY_MODEL_2cea735097fb48a4ac94610853c3c377",
            "value": "Shuffling /root/tensorflow_datasets/ted_hrlr_translate/pt_to_en/incomplete.F1N8RN_1.0.0/ted_hrlr_translate-validation.tfrecord*...:   0%"
          }
        },
        "f43cf87db722435b9220dc1094230897": {
          "model_module": "@jupyter-widgets/controls",
          "model_name": "FloatProgressModel",
          "model_module_version": "1.5.0",
          "state": {
            "_dom_classes": [],
            "_model_module": "@jupyter-widgets/controls",
            "_model_module_version": "1.5.0",
            "_model_name": "FloatProgressModel",
            "_view_count": null,
            "_view_module": "@jupyter-widgets/controls",
            "_view_module_version": "1.5.0",
            "_view_name": "ProgressView",
            "bar_style": "",
            "description": "",
            "description_tooltip": null,
            "layout": "IPY_MODEL_c0908235949641cba46d7a59a660efac",
            "max": 1193,
            "min": 0,
            "orientation": "horizontal",
            "style": "IPY_MODEL_2aac51ec1e204b77abcf983b7d0b1501",
            "value": 1193
          }
        },
        "0c6d572c808d484f854b511c77296bfd": {
          "model_module": "@jupyter-widgets/controls",
          "model_name": "HTMLModel",
          "model_module_version": "1.5.0",
          "state": {
            "_dom_classes": [],
            "_model_module": "@jupyter-widgets/controls",
            "_model_module_version": "1.5.0",
            "_model_name": "HTMLModel",
            "_view_count": null,
            "_view_module": "@jupyter-widgets/controls",
            "_view_module_version": "1.5.0",
            "_view_name": "HTMLView",
            "description": "",
            "description_tooltip": null,
            "layout": "IPY_MODEL_3b96c7c9b80c4061952524be1438fa05",
            "placeholder": "​",
            "style": "IPY_MODEL_6b0d1096dbdb4381b9f78b5a703bd7c0",
            "value": " 0/1193 [00:00&lt;?, ? examples/s]"
          }
        },
        "482209a2ae7d45248aed4dd4ed100c7d": {
          "model_module": "@jupyter-widgets/base",
          "model_name": "LayoutModel",
          "model_module_version": "1.2.0",
          "state": {
            "_model_module": "@jupyter-widgets/base",
            "_model_module_version": "1.2.0",
            "_model_name": "LayoutModel",
            "_view_count": null,
            "_view_module": "@jupyter-widgets/base",
            "_view_module_version": "1.2.0",
            "_view_name": "LayoutView",
            "align_content": null,
            "align_items": null,
            "align_self": null,
            "border": null,
            "bottom": null,
            "display": null,
            "flex": null,
            "flex_flow": null,
            "grid_area": null,
            "grid_auto_columns": null,
            "grid_auto_flow": null,
            "grid_auto_rows": null,
            "grid_column": null,
            "grid_gap": null,
            "grid_row": null,
            "grid_template_areas": null,
            "grid_template_columns": null,
            "grid_template_rows": null,
            "height": null,
            "justify_content": null,
            "justify_items": null,
            "left": null,
            "margin": null,
            "max_height": null,
            "max_width": null,
            "min_height": null,
            "min_width": null,
            "object_fit": null,
            "object_position": null,
            "order": null,
            "overflow": null,
            "overflow_x": null,
            "overflow_y": null,
            "padding": null,
            "right": null,
            "top": null,
            "visibility": "hidden",
            "width": null
          }
        },
        "017af57c043844779c655fa2cc1353b4": {
          "model_module": "@jupyter-widgets/base",
          "model_name": "LayoutModel",
          "model_module_version": "1.2.0",
          "state": {
            "_model_module": "@jupyter-widgets/base",
            "_model_module_version": "1.2.0",
            "_model_name": "LayoutModel",
            "_view_count": null,
            "_view_module": "@jupyter-widgets/base",
            "_view_module_version": "1.2.0",
            "_view_name": "LayoutView",
            "align_content": null,
            "align_items": null,
            "align_self": null,
            "border": null,
            "bottom": null,
            "display": null,
            "flex": null,
            "flex_flow": null,
            "grid_area": null,
            "grid_auto_columns": null,
            "grid_auto_flow": null,
            "grid_auto_rows": null,
            "grid_column": null,
            "grid_gap": null,
            "grid_row": null,
            "grid_template_areas": null,
            "grid_template_columns": null,
            "grid_template_rows": null,
            "height": null,
            "justify_content": null,
            "justify_items": null,
            "left": null,
            "margin": null,
            "max_height": null,
            "max_width": null,
            "min_height": null,
            "min_width": null,
            "object_fit": null,
            "object_position": null,
            "order": null,
            "overflow": null,
            "overflow_x": null,
            "overflow_y": null,
            "padding": null,
            "right": null,
            "top": null,
            "visibility": null,
            "width": null
          }
        },
        "2cea735097fb48a4ac94610853c3c377": {
          "model_module": "@jupyter-widgets/controls",
          "model_name": "DescriptionStyleModel",
          "model_module_version": "1.5.0",
          "state": {
            "_model_module": "@jupyter-widgets/controls",
            "_model_module_version": "1.5.0",
            "_model_name": "DescriptionStyleModel",
            "_view_count": null,
            "_view_module": "@jupyter-widgets/base",
            "_view_module_version": "1.2.0",
            "_view_name": "StyleView",
            "description_width": ""
          }
        },
        "c0908235949641cba46d7a59a660efac": {
          "model_module": "@jupyter-widgets/base",
          "model_name": "LayoutModel",
          "model_module_version": "1.2.0",
          "state": {
            "_model_module": "@jupyter-widgets/base",
            "_model_module_version": "1.2.0",
            "_model_name": "LayoutModel",
            "_view_count": null,
            "_view_module": "@jupyter-widgets/base",
            "_view_module_version": "1.2.0",
            "_view_name": "LayoutView",
            "align_content": null,
            "align_items": null,
            "align_self": null,
            "border": null,
            "bottom": null,
            "display": null,
            "flex": null,
            "flex_flow": null,
            "grid_area": null,
            "grid_auto_columns": null,
            "grid_auto_flow": null,
            "grid_auto_rows": null,
            "grid_column": null,
            "grid_gap": null,
            "grid_row": null,
            "grid_template_areas": null,
            "grid_template_columns": null,
            "grid_template_rows": null,
            "height": null,
            "justify_content": null,
            "justify_items": null,
            "left": null,
            "margin": null,
            "max_height": null,
            "max_width": null,
            "min_height": null,
            "min_width": null,
            "object_fit": null,
            "object_position": null,
            "order": null,
            "overflow": null,
            "overflow_x": null,
            "overflow_y": null,
            "padding": null,
            "right": null,
            "top": null,
            "visibility": null,
            "width": null
          }
        },
        "2aac51ec1e204b77abcf983b7d0b1501": {
          "model_module": "@jupyter-widgets/controls",
          "model_name": "ProgressStyleModel",
          "model_module_version": "1.5.0",
          "state": {
            "_model_module": "@jupyter-widgets/controls",
            "_model_module_version": "1.5.0",
            "_model_name": "ProgressStyleModel",
            "_view_count": null,
            "_view_module": "@jupyter-widgets/base",
            "_view_module_version": "1.2.0",
            "_view_name": "StyleView",
            "bar_color": null,
            "description_width": ""
          }
        },
        "3b96c7c9b80c4061952524be1438fa05": {
          "model_module": "@jupyter-widgets/base",
          "model_name": "LayoutModel",
          "model_module_version": "1.2.0",
          "state": {
            "_model_module": "@jupyter-widgets/base",
            "_model_module_version": "1.2.0",
            "_model_name": "LayoutModel",
            "_view_count": null,
            "_view_module": "@jupyter-widgets/base",
            "_view_module_version": "1.2.0",
            "_view_name": "LayoutView",
            "align_content": null,
            "align_items": null,
            "align_self": null,
            "border": null,
            "bottom": null,
            "display": null,
            "flex": null,
            "flex_flow": null,
            "grid_area": null,
            "grid_auto_columns": null,
            "grid_auto_flow": null,
            "grid_auto_rows": null,
            "grid_column": null,
            "grid_gap": null,
            "grid_row": null,
            "grid_template_areas": null,
            "grid_template_columns": null,
            "grid_template_rows": null,
            "height": null,
            "justify_content": null,
            "justify_items": null,
            "left": null,
            "margin": null,
            "max_height": null,
            "max_width": null,
            "min_height": null,
            "min_width": null,
            "object_fit": null,
            "object_position": null,
            "order": null,
            "overflow": null,
            "overflow_x": null,
            "overflow_y": null,
            "padding": null,
            "right": null,
            "top": null,
            "visibility": null,
            "width": null
          }
        },
        "6b0d1096dbdb4381b9f78b5a703bd7c0": {
          "model_module": "@jupyter-widgets/controls",
          "model_name": "DescriptionStyleModel",
          "model_module_version": "1.5.0",
          "state": {
            "_model_module": "@jupyter-widgets/controls",
            "_model_module_version": "1.5.0",
            "_model_name": "DescriptionStyleModel",
            "_view_count": null,
            "_view_module": "@jupyter-widgets/base",
            "_view_module_version": "1.2.0",
            "_view_name": "StyleView",
            "description_width": ""
          }
        },
        "14c0a155863947f8beed03f1ea0d7df3": {
          "model_module": "@jupyter-widgets/controls",
          "model_name": "HBoxModel",
          "model_module_version": "1.5.0",
          "state": {
            "_dom_classes": [],
            "_model_module": "@jupyter-widgets/controls",
            "_model_module_version": "1.5.0",
            "_model_name": "HBoxModel",
            "_view_count": null,
            "_view_module": "@jupyter-widgets/controls",
            "_view_module_version": "1.5.0",
            "_view_name": "HBoxView",
            "box_style": "",
            "children": [
              "IPY_MODEL_50d27b6d442c4867841011ac46e06335",
              "IPY_MODEL_8b659abf5e674cdf8995155fa6a8dc7b",
              "IPY_MODEL_6dc851c7e7854c4f9dead16cc93c8641"
            ],
            "layout": "IPY_MODEL_ddfa1590132e41f894bd5f854c61c243"
          }
        },
        "50d27b6d442c4867841011ac46e06335": {
          "model_module": "@jupyter-widgets/controls",
          "model_name": "HTMLModel",
          "model_module_version": "1.5.0",
          "state": {
            "_dom_classes": [],
            "_model_module": "@jupyter-widgets/controls",
            "_model_module_version": "1.5.0",
            "_model_name": "HTMLModel",
            "_view_count": null,
            "_view_module": "@jupyter-widgets/controls",
            "_view_module_version": "1.5.0",
            "_view_name": "HTMLView",
            "description": "",
            "description_tooltip": null,
            "layout": "IPY_MODEL_ff4709b4722d47e7965e43ed0080f093",
            "placeholder": "​",
            "style": "IPY_MODEL_e191dd8c69d64c74b8cc382d15b6ca1c",
            "value": "Generating test examples...:   0%"
          }
        },
        "8b659abf5e674cdf8995155fa6a8dc7b": {
          "model_module": "@jupyter-widgets/controls",
          "model_name": "FloatProgressModel",
          "model_module_version": "1.5.0",
          "state": {
            "_dom_classes": [],
            "_model_module": "@jupyter-widgets/controls",
            "_model_module_version": "1.5.0",
            "_model_name": "FloatProgressModel",
            "_view_count": null,
            "_view_module": "@jupyter-widgets/controls",
            "_view_module_version": "1.5.0",
            "_view_name": "ProgressView",
            "bar_style": "",
            "description": "",
            "description_tooltip": null,
            "layout": "IPY_MODEL_a9a4d9a044304147a4681445eb0bbad4",
            "max": 1803,
            "min": 0,
            "orientation": "horizontal",
            "style": "IPY_MODEL_7c40df43589745099e9a6941a0dd838a",
            "value": 1803
          }
        },
        "6dc851c7e7854c4f9dead16cc93c8641": {
          "model_module": "@jupyter-widgets/controls",
          "model_name": "HTMLModel",
          "model_module_version": "1.5.0",
          "state": {
            "_dom_classes": [],
            "_model_module": "@jupyter-widgets/controls",
            "_model_module_version": "1.5.0",
            "_model_name": "HTMLModel",
            "_view_count": null,
            "_view_module": "@jupyter-widgets/controls",
            "_view_module_version": "1.5.0",
            "_view_name": "HTMLView",
            "description": "",
            "description_tooltip": null,
            "layout": "IPY_MODEL_00a9fa99bafe42d789ffc7969caf4009",
            "placeholder": "​",
            "style": "IPY_MODEL_9a7766ef44f0467aa25be26cb73c4ed8",
            "value": " 0/1803 [00:00&lt;?, ? examples/s]"
          }
        },
        "ddfa1590132e41f894bd5f854c61c243": {
          "model_module": "@jupyter-widgets/base",
          "model_name": "LayoutModel",
          "model_module_version": "1.2.0",
          "state": {
            "_model_module": "@jupyter-widgets/base",
            "_model_module_version": "1.2.0",
            "_model_name": "LayoutModel",
            "_view_count": null,
            "_view_module": "@jupyter-widgets/base",
            "_view_module_version": "1.2.0",
            "_view_name": "LayoutView",
            "align_content": null,
            "align_items": null,
            "align_self": null,
            "border": null,
            "bottom": null,
            "display": null,
            "flex": null,
            "flex_flow": null,
            "grid_area": null,
            "grid_auto_columns": null,
            "grid_auto_flow": null,
            "grid_auto_rows": null,
            "grid_column": null,
            "grid_gap": null,
            "grid_row": null,
            "grid_template_areas": null,
            "grid_template_columns": null,
            "grid_template_rows": null,
            "height": null,
            "justify_content": null,
            "justify_items": null,
            "left": null,
            "margin": null,
            "max_height": null,
            "max_width": null,
            "min_height": null,
            "min_width": null,
            "object_fit": null,
            "object_position": null,
            "order": null,
            "overflow": null,
            "overflow_x": null,
            "overflow_y": null,
            "padding": null,
            "right": null,
            "top": null,
            "visibility": "hidden",
            "width": null
          }
        },
        "ff4709b4722d47e7965e43ed0080f093": {
          "model_module": "@jupyter-widgets/base",
          "model_name": "LayoutModel",
          "model_module_version": "1.2.0",
          "state": {
            "_model_module": "@jupyter-widgets/base",
            "_model_module_version": "1.2.0",
            "_model_name": "LayoutModel",
            "_view_count": null,
            "_view_module": "@jupyter-widgets/base",
            "_view_module_version": "1.2.0",
            "_view_name": "LayoutView",
            "align_content": null,
            "align_items": null,
            "align_self": null,
            "border": null,
            "bottom": null,
            "display": null,
            "flex": null,
            "flex_flow": null,
            "grid_area": null,
            "grid_auto_columns": null,
            "grid_auto_flow": null,
            "grid_auto_rows": null,
            "grid_column": null,
            "grid_gap": null,
            "grid_row": null,
            "grid_template_areas": null,
            "grid_template_columns": null,
            "grid_template_rows": null,
            "height": null,
            "justify_content": null,
            "justify_items": null,
            "left": null,
            "margin": null,
            "max_height": null,
            "max_width": null,
            "min_height": null,
            "min_width": null,
            "object_fit": null,
            "object_position": null,
            "order": null,
            "overflow": null,
            "overflow_x": null,
            "overflow_y": null,
            "padding": null,
            "right": null,
            "top": null,
            "visibility": null,
            "width": null
          }
        },
        "e191dd8c69d64c74b8cc382d15b6ca1c": {
          "model_module": "@jupyter-widgets/controls",
          "model_name": "DescriptionStyleModel",
          "model_module_version": "1.5.0",
          "state": {
            "_model_module": "@jupyter-widgets/controls",
            "_model_module_version": "1.5.0",
            "_model_name": "DescriptionStyleModel",
            "_view_count": null,
            "_view_module": "@jupyter-widgets/base",
            "_view_module_version": "1.2.0",
            "_view_name": "StyleView",
            "description_width": ""
          }
        },
        "a9a4d9a044304147a4681445eb0bbad4": {
          "model_module": "@jupyter-widgets/base",
          "model_name": "LayoutModel",
          "model_module_version": "1.2.0",
          "state": {
            "_model_module": "@jupyter-widgets/base",
            "_model_module_version": "1.2.0",
            "_model_name": "LayoutModel",
            "_view_count": null,
            "_view_module": "@jupyter-widgets/base",
            "_view_module_version": "1.2.0",
            "_view_name": "LayoutView",
            "align_content": null,
            "align_items": null,
            "align_self": null,
            "border": null,
            "bottom": null,
            "display": null,
            "flex": null,
            "flex_flow": null,
            "grid_area": null,
            "grid_auto_columns": null,
            "grid_auto_flow": null,
            "grid_auto_rows": null,
            "grid_column": null,
            "grid_gap": null,
            "grid_row": null,
            "grid_template_areas": null,
            "grid_template_columns": null,
            "grid_template_rows": null,
            "height": null,
            "justify_content": null,
            "justify_items": null,
            "left": null,
            "margin": null,
            "max_height": null,
            "max_width": null,
            "min_height": null,
            "min_width": null,
            "object_fit": null,
            "object_position": null,
            "order": null,
            "overflow": null,
            "overflow_x": null,
            "overflow_y": null,
            "padding": null,
            "right": null,
            "top": null,
            "visibility": null,
            "width": null
          }
        },
        "7c40df43589745099e9a6941a0dd838a": {
          "model_module": "@jupyter-widgets/controls",
          "model_name": "ProgressStyleModel",
          "model_module_version": "1.5.0",
          "state": {
            "_model_module": "@jupyter-widgets/controls",
            "_model_module_version": "1.5.0",
            "_model_name": "ProgressStyleModel",
            "_view_count": null,
            "_view_module": "@jupyter-widgets/base",
            "_view_module_version": "1.2.0",
            "_view_name": "StyleView",
            "bar_color": null,
            "description_width": ""
          }
        },
        "00a9fa99bafe42d789ffc7969caf4009": {
          "model_module": "@jupyter-widgets/base",
          "model_name": "LayoutModel",
          "model_module_version": "1.2.0",
          "state": {
            "_model_module": "@jupyter-widgets/base",
            "_model_module_version": "1.2.0",
            "_model_name": "LayoutModel",
            "_view_count": null,
            "_view_module": "@jupyter-widgets/base",
            "_view_module_version": "1.2.0",
            "_view_name": "LayoutView",
            "align_content": null,
            "align_items": null,
            "align_self": null,
            "border": null,
            "bottom": null,
            "display": null,
            "flex": null,
            "flex_flow": null,
            "grid_area": null,
            "grid_auto_columns": null,
            "grid_auto_flow": null,
            "grid_auto_rows": null,
            "grid_column": null,
            "grid_gap": null,
            "grid_row": null,
            "grid_template_areas": null,
            "grid_template_columns": null,
            "grid_template_rows": null,
            "height": null,
            "justify_content": null,
            "justify_items": null,
            "left": null,
            "margin": null,
            "max_height": null,
            "max_width": null,
            "min_height": null,
            "min_width": null,
            "object_fit": null,
            "object_position": null,
            "order": null,
            "overflow": null,
            "overflow_x": null,
            "overflow_y": null,
            "padding": null,
            "right": null,
            "top": null,
            "visibility": null,
            "width": null
          }
        },
        "9a7766ef44f0467aa25be26cb73c4ed8": {
          "model_module": "@jupyter-widgets/controls",
          "model_name": "DescriptionStyleModel",
          "model_module_version": "1.5.0",
          "state": {
            "_model_module": "@jupyter-widgets/controls",
            "_model_module_version": "1.5.0",
            "_model_name": "DescriptionStyleModel",
            "_view_count": null,
            "_view_module": "@jupyter-widgets/base",
            "_view_module_version": "1.2.0",
            "_view_name": "StyleView",
            "description_width": ""
          }
        },
        "422643abea7545cc85a97999a1c2009d": {
          "model_module": "@jupyter-widgets/controls",
          "model_name": "HBoxModel",
          "model_module_version": "1.5.0",
          "state": {
            "_dom_classes": [],
            "_model_module": "@jupyter-widgets/controls",
            "_model_module_version": "1.5.0",
            "_model_name": "HBoxModel",
            "_view_count": null,
            "_view_module": "@jupyter-widgets/controls",
            "_view_module_version": "1.5.0",
            "_view_name": "HBoxView",
            "box_style": "",
            "children": [
              "IPY_MODEL_bac33ca69b0d49c2bb3d5fe51cda6ba6",
              "IPY_MODEL_fd57281d849e4e3a8d97ee18554a34be",
              "IPY_MODEL_21f95a86d510486395406f32b8dfb529"
            ],
            "layout": "IPY_MODEL_b1dfabf4d2bc45679c2418f764cb0403"
          }
        },
        "bac33ca69b0d49c2bb3d5fe51cda6ba6": {
          "model_module": "@jupyter-widgets/controls",
          "model_name": "HTMLModel",
          "model_module_version": "1.5.0",
          "state": {
            "_dom_classes": [],
            "_model_module": "@jupyter-widgets/controls",
            "_model_module_version": "1.5.0",
            "_model_name": "HTMLModel",
            "_view_count": null,
            "_view_module": "@jupyter-widgets/controls",
            "_view_module_version": "1.5.0",
            "_view_name": "HTMLView",
            "description": "",
            "description_tooltip": null,
            "layout": "IPY_MODEL_6cea3270b9cd4ae08883c63605c0dfca",
            "placeholder": "​",
            "style": "IPY_MODEL_148a565f9b4c4b0cbdf6d6e060651d24",
            "value": "Shuffling /root/tensorflow_datasets/ted_hrlr_translate/pt_to_en/incomplete.F1N8RN_1.0.0/ted_hrlr_translate-test.tfrecord*...:   0%"
          }
        },
        "fd57281d849e4e3a8d97ee18554a34be": {
          "model_module": "@jupyter-widgets/controls",
          "model_name": "FloatProgressModel",
          "model_module_version": "1.5.0",
          "state": {
            "_dom_classes": [],
            "_model_module": "@jupyter-widgets/controls",
            "_model_module_version": "1.5.0",
            "_model_name": "FloatProgressModel",
            "_view_count": null,
            "_view_module": "@jupyter-widgets/controls",
            "_view_module_version": "1.5.0",
            "_view_name": "ProgressView",
            "bar_style": "",
            "description": "",
            "description_tooltip": null,
            "layout": "IPY_MODEL_a29265693db74757a44491f26ee29d00",
            "max": 1803,
            "min": 0,
            "orientation": "horizontal",
            "style": "IPY_MODEL_de1f7376464749e0bf91eee24de311ea",
            "value": 1803
          }
        },
        "21f95a86d510486395406f32b8dfb529": {
          "model_module": "@jupyter-widgets/controls",
          "model_name": "HTMLModel",
          "model_module_version": "1.5.0",
          "state": {
            "_dom_classes": [],
            "_model_module": "@jupyter-widgets/controls",
            "_model_module_version": "1.5.0",
            "_model_name": "HTMLModel",
            "_view_count": null,
            "_view_module": "@jupyter-widgets/controls",
            "_view_module_version": "1.5.0",
            "_view_name": "HTMLView",
            "description": "",
            "description_tooltip": null,
            "layout": "IPY_MODEL_7d3a89a4fb6c449ba4673fa879925215",
            "placeholder": "​",
            "style": "IPY_MODEL_d3972303451543299cc7878878759519",
            "value": " 0/1803 [00:00&lt;?, ? examples/s]"
          }
        },
        "b1dfabf4d2bc45679c2418f764cb0403": {
          "model_module": "@jupyter-widgets/base",
          "model_name": "LayoutModel",
          "model_module_version": "1.2.0",
          "state": {
            "_model_module": "@jupyter-widgets/base",
            "_model_module_version": "1.2.0",
            "_model_name": "LayoutModel",
            "_view_count": null,
            "_view_module": "@jupyter-widgets/base",
            "_view_module_version": "1.2.0",
            "_view_name": "LayoutView",
            "align_content": null,
            "align_items": null,
            "align_self": null,
            "border": null,
            "bottom": null,
            "display": null,
            "flex": null,
            "flex_flow": null,
            "grid_area": null,
            "grid_auto_columns": null,
            "grid_auto_flow": null,
            "grid_auto_rows": null,
            "grid_column": null,
            "grid_gap": null,
            "grid_row": null,
            "grid_template_areas": null,
            "grid_template_columns": null,
            "grid_template_rows": null,
            "height": null,
            "justify_content": null,
            "justify_items": null,
            "left": null,
            "margin": null,
            "max_height": null,
            "max_width": null,
            "min_height": null,
            "min_width": null,
            "object_fit": null,
            "object_position": null,
            "order": null,
            "overflow": null,
            "overflow_x": null,
            "overflow_y": null,
            "padding": null,
            "right": null,
            "top": null,
            "visibility": "hidden",
            "width": null
          }
        },
        "6cea3270b9cd4ae08883c63605c0dfca": {
          "model_module": "@jupyter-widgets/base",
          "model_name": "LayoutModel",
          "model_module_version": "1.2.0",
          "state": {
            "_model_module": "@jupyter-widgets/base",
            "_model_module_version": "1.2.0",
            "_model_name": "LayoutModel",
            "_view_count": null,
            "_view_module": "@jupyter-widgets/base",
            "_view_module_version": "1.2.0",
            "_view_name": "LayoutView",
            "align_content": null,
            "align_items": null,
            "align_self": null,
            "border": null,
            "bottom": null,
            "display": null,
            "flex": null,
            "flex_flow": null,
            "grid_area": null,
            "grid_auto_columns": null,
            "grid_auto_flow": null,
            "grid_auto_rows": null,
            "grid_column": null,
            "grid_gap": null,
            "grid_row": null,
            "grid_template_areas": null,
            "grid_template_columns": null,
            "grid_template_rows": null,
            "height": null,
            "justify_content": null,
            "justify_items": null,
            "left": null,
            "margin": null,
            "max_height": null,
            "max_width": null,
            "min_height": null,
            "min_width": null,
            "object_fit": null,
            "object_position": null,
            "order": null,
            "overflow": null,
            "overflow_x": null,
            "overflow_y": null,
            "padding": null,
            "right": null,
            "top": null,
            "visibility": null,
            "width": null
          }
        },
        "148a565f9b4c4b0cbdf6d6e060651d24": {
          "model_module": "@jupyter-widgets/controls",
          "model_name": "DescriptionStyleModel",
          "model_module_version": "1.5.0",
          "state": {
            "_model_module": "@jupyter-widgets/controls",
            "_model_module_version": "1.5.0",
            "_model_name": "DescriptionStyleModel",
            "_view_count": null,
            "_view_module": "@jupyter-widgets/base",
            "_view_module_version": "1.2.0",
            "_view_name": "StyleView",
            "description_width": ""
          }
        },
        "a29265693db74757a44491f26ee29d00": {
          "model_module": "@jupyter-widgets/base",
          "model_name": "LayoutModel",
          "model_module_version": "1.2.0",
          "state": {
            "_model_module": "@jupyter-widgets/base",
            "_model_module_version": "1.2.0",
            "_model_name": "LayoutModel",
            "_view_count": null,
            "_view_module": "@jupyter-widgets/base",
            "_view_module_version": "1.2.0",
            "_view_name": "LayoutView",
            "align_content": null,
            "align_items": null,
            "align_self": null,
            "border": null,
            "bottom": null,
            "display": null,
            "flex": null,
            "flex_flow": null,
            "grid_area": null,
            "grid_auto_columns": null,
            "grid_auto_flow": null,
            "grid_auto_rows": null,
            "grid_column": null,
            "grid_gap": null,
            "grid_row": null,
            "grid_template_areas": null,
            "grid_template_columns": null,
            "grid_template_rows": null,
            "height": null,
            "justify_content": null,
            "justify_items": null,
            "left": null,
            "margin": null,
            "max_height": null,
            "max_width": null,
            "min_height": null,
            "min_width": null,
            "object_fit": null,
            "object_position": null,
            "order": null,
            "overflow": null,
            "overflow_x": null,
            "overflow_y": null,
            "padding": null,
            "right": null,
            "top": null,
            "visibility": null,
            "width": null
          }
        },
        "de1f7376464749e0bf91eee24de311ea": {
          "model_module": "@jupyter-widgets/controls",
          "model_name": "ProgressStyleModel",
          "model_module_version": "1.5.0",
          "state": {
            "_model_module": "@jupyter-widgets/controls",
            "_model_module_version": "1.5.0",
            "_model_name": "ProgressStyleModel",
            "_view_count": null,
            "_view_module": "@jupyter-widgets/base",
            "_view_module_version": "1.2.0",
            "_view_name": "StyleView",
            "bar_color": null,
            "description_width": ""
          }
        },
        "7d3a89a4fb6c449ba4673fa879925215": {
          "model_module": "@jupyter-widgets/base",
          "model_name": "LayoutModel",
          "model_module_version": "1.2.0",
          "state": {
            "_model_module": "@jupyter-widgets/base",
            "_model_module_version": "1.2.0",
            "_model_name": "LayoutModel",
            "_view_count": null,
            "_view_module": "@jupyter-widgets/base",
            "_view_module_version": "1.2.0",
            "_view_name": "LayoutView",
            "align_content": null,
            "align_items": null,
            "align_self": null,
            "border": null,
            "bottom": null,
            "display": null,
            "flex": null,
            "flex_flow": null,
            "grid_area": null,
            "grid_auto_columns": null,
            "grid_auto_flow": null,
            "grid_auto_rows": null,
            "grid_column": null,
            "grid_gap": null,
            "grid_row": null,
            "grid_template_areas": null,
            "grid_template_columns": null,
            "grid_template_rows": null,
            "height": null,
            "justify_content": null,
            "justify_items": null,
            "left": null,
            "margin": null,
            "max_height": null,
            "max_width": null,
            "min_height": null,
            "min_width": null,
            "object_fit": null,
            "object_position": null,
            "order": null,
            "overflow": null,
            "overflow_x": null,
            "overflow_y": null,
            "padding": null,
            "right": null,
            "top": null,
            "visibility": null,
            "width": null
          }
        },
        "d3972303451543299cc7878878759519": {
          "model_module": "@jupyter-widgets/controls",
          "model_name": "DescriptionStyleModel",
          "model_module_version": "1.5.0",
          "state": {
            "_model_module": "@jupyter-widgets/controls",
            "_model_module_version": "1.5.0",
            "_model_name": "DescriptionStyleModel",
            "_view_count": null,
            "_view_module": "@jupyter-widgets/base",
            "_view_module_version": "1.2.0",
            "_view_name": "StyleView",
            "description_width": ""
          }
        }
      }
    }
  },
  "nbformat": 4,
  "nbformat_minor": 0
}